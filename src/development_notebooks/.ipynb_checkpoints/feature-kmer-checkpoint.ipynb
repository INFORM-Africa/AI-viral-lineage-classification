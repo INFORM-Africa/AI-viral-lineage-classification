{
 "cells": [
  {
   "cell_type": "code",
   "execution_count": 1,
   "metadata": {},
   "outputs": [],
   "source": [
    "import pandas as pd\n",
    "import numpy as np\n",
    "from collections import Counter\n",
    "from utils import replace_deg, remove_deg\n",
    "from itertools import product"
   ]
  },
  {
   "cell_type": "code",
   "execution_count": 2,
   "metadata": {},
   "outputs": [],
   "source": [
    "def get_kmers(sequence, k=3):\n",
    "    \"\"\"Generate k-mers for a given sequence.\"\"\"\n",
    "    return [sequence[i:i+k] for i in range(len(sequence) - k + 1)]\n",
    "\n",
    "def generate_kmer_features(df, k=3, alphabet='ACGT'):\n",
    "    \"\"\"Generate k-mer feature counts for a DataFrame of sequences.\"\"\"\n",
    "    # Generate all possible k-mers from the given alphabet\n",
    "    all_kmers = [''.join(p) for p in product(alphabet, repeat=k)]\n",
    "    \n",
    "    # Initialize a list to store the feature vectors for each sequence\n",
    "    feature_vectors = []\n",
    "    \n",
    "    # Process each sequence in the DataFrame\n",
    "    for seq in df['Sequence']:\n",
    "        # Generate k-mer counts for the current sequence\n",
    "        kmer_counts = Counter(get_kmers(seq, k))\n",
    "        \n",
    "        # Initialize a feature vector with zeros for all possible k-mers\n",
    "        feature_vector = {kmer: 0 for kmer in all_kmers}\n",
    "        \n",
    "        # Update the feature vector with counts from the current sequence\n",
    "        for kmer, count in kmer_counts.items():\n",
    "            if kmer in feature_vector:\n",
    "                feature_vector[kmer] = count\n",
    "        \n",
    "        # Convert the feature vector to a numpy array and append it to the list\n",
    "        feature_vectors.append(np.array(list(feature_vector.values())))\n",
    "    \n",
    "    # Return the list of feature vectors\n",
    "    return feature_vectors"
   ]
  },
  {
   "cell_type": "code",
   "execution_count": 3,
   "metadata": {},
   "outputs": [],
   "source": [
    "k = 7"
   ]
  },
  {
   "cell_type": "code",
   "execution_count": 4,
   "metadata": {},
   "outputs": [
    {
     "data": {
      "text/html": [
       "<div>\n",
       "<style scoped>\n",
       "    .dataframe tbody tr th:only-of-type {\n",
       "        vertical-align: middle;\n",
       "    }\n",
       "\n",
       "    .dataframe tbody tr th {\n",
       "        vertical-align: top;\n",
       "    }\n",
       "\n",
       "    .dataframe thead th {\n",
       "        text-align: right;\n",
       "    }\n",
       "</style>\n",
       "<table border=\"1\" class=\"dataframe\">\n",
       "  <thead>\n",
       "    <tr style=\"text-align: right;\">\n",
       "      <th></th>\n",
       "      <th>Accession ID</th>\n",
       "      <th>Lineage</th>\n",
       "      <th>Sequence</th>\n",
       "      <th>Coverage</th>\n",
       "      <th>Train</th>\n",
       "    </tr>\n",
       "  </thead>\n",
       "  <tbody>\n",
       "    <tr>\n",
       "      <th>0</th>\n",
       "      <td>EPI_ISL_15104785</td>\n",
       "      <td>BA.5.1</td>\n",
       "      <td>TTGTAGATCTGTTCTCTAAACGAACTTTAAAATCTGTGTGGCTGTC...</td>\n",
       "      <td>99.213260</td>\n",
       "      <td>2</td>\n",
       "    </tr>\n",
       "    <tr>\n",
       "      <th>1</th>\n",
       "      <td>EPI_ISL_3411570</td>\n",
       "      <td>AY.19</td>\n",
       "      <td>TGTTCTCTAAACGAACTTTAAAATCTGTGTGGCTGTCACTCGGCTG...</td>\n",
       "      <td>99.939512</td>\n",
       "      <td>2</td>\n",
       "    </tr>\n",
       "    <tr>\n",
       "      <th>2</th>\n",
       "      <td>EPI_ISL_2433815</td>\n",
       "      <td>C.1</td>\n",
       "      <td>ATACCTTCCTAGGTAACAAACCAACCAACTTTCGATCTCTTGTAGA...</td>\n",
       "      <td>95.359497</td>\n",
       "      <td>2</td>\n",
       "    </tr>\n",
       "    <tr>\n",
       "      <th>2</th>\n",
       "      <td>EPI_ISL_1715397</td>\n",
       "      <td>L.3</td>\n",
       "      <td>CTTGTAGATCTGTTCTCTAAACGAACTTTAAAATCTGTGTGGCTGT...</td>\n",
       "      <td>99.775462</td>\n",
       "      <td>1</td>\n",
       "    </tr>\n",
       "    <tr>\n",
       "      <th>3</th>\n",
       "      <td>EPI_ISL_14795073</td>\n",
       "      <td>BA.4.6</td>\n",
       "      <td>ACCAGTGGCTTACCGCAAGGTTCTTCTTCGTAAGAACGGTAATAAA...</td>\n",
       "      <td>99.972625</td>\n",
       "      <td>0</td>\n",
       "    </tr>\n",
       "    <tr>\n",
       "      <th>...</th>\n",
       "      <td>...</td>\n",
       "      <td>...</td>\n",
       "      <td>...</td>\n",
       "      <td>...</td>\n",
       "      <td>...</td>\n",
       "    </tr>\n",
       "    <tr>\n",
       "      <th>46982</th>\n",
       "      <td>EPI_ISL_18407444</td>\n",
       "      <td>BA.4.1.8</td>\n",
       "      <td>TTGTAGATCTGTTCTCTAAACGNANNNNNNNNNNNNNNNNNNNNNN...</td>\n",
       "      <td>98.319865</td>\n",
       "      <td>1</td>\n",
       "    </tr>\n",
       "    <tr>\n",
       "      <th>46984</th>\n",
       "      <td>EPI_ISL_18407446</td>\n",
       "      <td>BA.4.1.8</td>\n",
       "      <td>TTGTAGATCTGTTCTCTAAACGAACNTGAAAANNNNNNNNNNNNNN...</td>\n",
       "      <td>99.107744</td>\n",
       "      <td>2</td>\n",
       "    </tr>\n",
       "    <tr>\n",
       "      <th>46985</th>\n",
       "      <td>EPI_ISL_18407448</td>\n",
       "      <td>BA.5.11</td>\n",
       "      <td>TTGTAGATCTGTTCTCTAAACGAACTTTAAAATCTGTGTGGCTGTC...</td>\n",
       "      <td>99.983160</td>\n",
       "      <td>2</td>\n",
       "    </tr>\n",
       "    <tr>\n",
       "      <th>46986</th>\n",
       "      <td>EPI_ISL_15426702</td>\n",
       "      <td>BA.4</td>\n",
       "      <td>TTGTAGATCTGTTCTCTAAACGAACNNNNNNNNNNNNNNNNNNNNN...</td>\n",
       "      <td>98.986805</td>\n",
       "      <td>2</td>\n",
       "    </tr>\n",
       "    <tr>\n",
       "      <th>46989</th>\n",
       "      <td>EPI_ISL_15812263</td>\n",
       "      <td>BA.5.3.5</td>\n",
       "      <td>ACTTTCGATCTCTTGTAGATCTGTTCTCTAAACGAACTTTAAAATC...</td>\n",
       "      <td>99.383465</td>\n",
       "      <td>1</td>\n",
       "    </tr>\n",
       "  </tbody>\n",
       "</table>\n",
       "<p>34061 rows × 5 columns</p>\n",
       "</div>"
      ],
      "text/plain": [
       "           Accession ID   Lineage  \\\n",
       "0      EPI_ISL_15104785    BA.5.1   \n",
       "1       EPI_ISL_3411570     AY.19   \n",
       "2       EPI_ISL_2433815       C.1   \n",
       "2       EPI_ISL_1715397       L.3   \n",
       "3      EPI_ISL_14795073    BA.4.6   \n",
       "...                 ...       ...   \n",
       "46982  EPI_ISL_18407444  BA.4.1.8   \n",
       "46984  EPI_ISL_18407446  BA.4.1.8   \n",
       "46985  EPI_ISL_18407448   BA.5.11   \n",
       "46986  EPI_ISL_15426702      BA.4   \n",
       "46989  EPI_ISL_15812263  BA.5.3.5   \n",
       "\n",
       "                                                Sequence   Coverage  Train  \n",
       "0      TTGTAGATCTGTTCTCTAAACGAACTTTAAAATCTGTGTGGCTGTC...  99.213260      2  \n",
       "1      TGTTCTCTAAACGAACTTTAAAATCTGTGTGGCTGTCACTCGGCTG...  99.939512      2  \n",
       "2      ATACCTTCCTAGGTAACAAACCAACCAACTTTCGATCTCTTGTAGA...  95.359497      2  \n",
       "2      CTTGTAGATCTGTTCTCTAAACGAACTTTAAAATCTGTGTGGCTGT...  99.775462      1  \n",
       "3      ACCAGTGGCTTACCGCAAGGTTCTTCTTCGTAAGAACGGTAATAAA...  99.972625      0  \n",
       "...                                                  ...        ...    ...  \n",
       "46982  TTGTAGATCTGTTCTCTAAACGNANNNNNNNNNNNNNNNNNNNNNN...  98.319865      1  \n",
       "46984  TTGTAGATCTGTTCTCTAAACGAACNTGAAAANNNNNNNNNNNNNN...  99.107744      2  \n",
       "46985  TTGTAGATCTGTTCTCTAAACGAACTTTAAAATCTGTGTGGCTGTC...  99.983160      2  \n",
       "46986  TTGTAGATCTGTTCTCTAAACGAACNNNNNNNNNNNNNNNNNNNNN...  98.986805      2  \n",
       "46989  ACTTTCGATCTCTTGTAGATCTGTTCTCTAAACGAACTTTAAAATC...  99.383465      1  \n",
       "\n",
       "[34061 rows x 5 columns]"
      ]
     },
     "execution_count": 4,
     "metadata": {},
     "output_type": "execute_result"
    }
   ],
   "source": [
    "data = pd.read_parquet('../../data/processed/cov-19.parquet', engine='pyarrow')  # You can use 'fastparquet' as the engine\n",
    "data"
   ]
  },
  {
   "cell_type": "code",
   "execution_count": 5,
   "metadata": {},
   "outputs": [
    {
     "name": "stdout",
     "output_type": "stream",
     "text": [
      "Removing Deg...\n"
     ]
    }
   ],
   "source": [
    "# Apply degenerate nucleotide processing\n",
    "deg = \"Remove\"\n",
    "\n",
    "if deg == 'Replace':\n",
    "    print(\"Replacing Deg...\")\n",
    "    data = replace_deg(data)\n",
    "elif deg == 'Remove':\n",
    "    print(\"Removing Deg...\")\n",
    "    data = remove_deg(data)"
   ]
  },
  {
   "cell_type": "code",
   "execution_count": 6,
   "metadata": {},
   "outputs": [
    {
     "name": "stdout",
     "output_type": "stream",
     "text": [
      "426.11202597618103\n"
     ]
    }
   ],
   "source": [
    "# Assuming 'sequences_df' is your input DataFrame\n",
    "import time\n",
    "start = time.time()\n",
    "kmer_features = generate_kmer_features(data, k=k)\n",
    "end = time.time()\n",
    "print(end-start)"
   ]
  },
  {
   "cell_type": "code",
   "execution_count": 7,
   "metadata": {},
   "outputs": [
    {
     "ename": "TypeError",
     "evalue": "list indices must be integers or slices, not str",
     "output_type": "error",
     "traceback": [
      "\u001b[0;31m---------------------------------------------------------------------------\u001b[0m",
      "\u001b[0;31mTypeError\u001b[0m                                 Traceback (most recent call last)",
      "Cell \u001b[0;32mIn[7], line 1\u001b[0m\n\u001b[0;32m----> 1\u001b[0m \u001b[43mkmer_features\u001b[49m\u001b[43m[\u001b[49m\u001b[38;5;124;43m\"\u001b[39;49m\u001b[38;5;124;43mTarget\u001b[39;49m\u001b[38;5;124;43m\"\u001b[39;49m\u001b[43m]\u001b[49m \u001b[38;5;241m=\u001b[39m data[\u001b[38;5;124m\"\u001b[39m\u001b[38;5;124mLineage\u001b[39m\u001b[38;5;124m\"\u001b[39m]\u001b[38;5;241m.\u001b[39mtolist()\n\u001b[1;32m      2\u001b[0m kmer_features[\u001b[38;5;124m\"\u001b[39m\u001b[38;5;124mTest\u001b[39m\u001b[38;5;124m\"\u001b[39m] \u001b[38;5;241m=\u001b[39m data[\u001b[38;5;124m\"\u001b[39m\u001b[38;5;124mTest\u001b[39m\u001b[38;5;124m\"\u001b[39m]\u001b[38;5;241m.\u001b[39mtolist()\n",
      "\u001b[0;31mTypeError\u001b[0m: list indices must be integers or slices, not str"
     ]
    }
   ],
   "source": [
    "kmer_features[\"Target\"] = data[\"Lineage\"].tolist()\n",
    "kmer_features[\"Test\"] = data[\"Test\"].tolist()"
   ]
  },
  {
   "cell_type": "code",
   "execution_count": null,
   "metadata": {},
   "outputs": [],
   "source": [
    "# kmer_features.to_parquet(f'../../data/features/{k}-mer_standard.parquet', engine='pyarrow')"
   ]
  }
 ],
 "metadata": {
  "kernelspec": {
   "display_name": "Python 3 (ipykernel)",
   "language": "python",
   "name": "python3"
  },
  "language_info": {
   "codemirror_mode": {
    "name": "ipython",
    "version": 3
   },
   "file_extension": ".py",
   "mimetype": "text/x-python",
   "name": "python",
   "nbconvert_exporter": "python",
   "pygments_lexer": "ipython3",
   "version": "3.10.8"
  }
 },
 "nbformat": 4,
 "nbformat_minor": 4
}
