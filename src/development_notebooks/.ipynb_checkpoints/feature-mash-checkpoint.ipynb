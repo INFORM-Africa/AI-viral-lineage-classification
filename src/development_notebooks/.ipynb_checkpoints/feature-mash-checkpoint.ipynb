{
 "cells": [
  {
   "cell_type": "code",
   "execution_count": 18,
   "id": "7a3ff893-ff1e-4ade-bc90-5097b92ed4e0",
   "metadata": {},
   "outputs": [],
   "source": [
    "import mmh3\n",
    "import pandas as pd\n",
    "import numpy as np\n",
    "from pybloom_live import BloomFilter\n",
    "import time"
   ]
  },
  {
   "cell_type": "code",
   "execution_count": 66,
   "id": "957fa25d-3248-4c6f-9335-7643308c8015",
   "metadata": {},
   "outputs": [],
   "source": [
    "import time\n",
    "import numpy as np\n",
    "import mmh3\n",
    "from collections import defaultdict\n",
    "\n",
    "def generate_kmers(sequence, k):\n",
    "    \"\"\"Generate k-mers from a given sequence.\"\"\"\n",
    "    for i in range(len(sequence) - k + 1):\n",
    "        yield sequence[i:i + k]\n",
    "\n",
    "def create_optimized_mash_sketch(sequence, k, sketch_size, coverage_threshold=1):\n",
    "    \"\"\"Create an optimized Mash-like sketch using a two-pass approach with known k-mer counts.\"\"\"\n",
    "    kmer_counts = defaultdict(int)\n",
    "    sketch = []\n",
    "\n",
    "    # First pass: Count k-mer occurrences\n",
    "    for kmer in generate_kmers(sequence, k):\n",
    "        kmer_hash = mmh3.hash(kmer)\n",
    "        kmer_counts[kmer_hash] += 1\n",
    "        \n",
    "    print(sum(kmer_counts.values()) / len(kmer_counts))\n",
    "\n",
    "    # Pre-filter k-mer hashes based on the coverage threshold\n",
    "    filtered_hashes = [kmer_hash for kmer_hash, count in kmer_counts.items() if count >= coverage_threshold]\n",
    "\n",
    "    # Sort the filtered k-mer hashes and select the smallest ones for the sketch\n",
    "    sketch = sorted(filtered_hashes)[:sketch_size]\n",
    "\n",
    "    return np.array(sketch)"
   ]
  },
  {
   "cell_type": "code",
   "execution_count": 4,
   "id": "59bbe61b-57c8-4709-80e5-5c362bb58ea5",
   "metadata": {},
   "outputs": [
    {
     "data": {
      "text/html": [
       "<div>\n",
       "<style scoped>\n",
       "    .dataframe tbody tr th:only-of-type {\n",
       "        vertical-align: middle;\n",
       "    }\n",
       "\n",
       "    .dataframe tbody tr th {\n",
       "        vertical-align: top;\n",
       "    }\n",
       "\n",
       "    .dataframe thead th {\n",
       "        text-align: right;\n",
       "    }\n",
       "</style>\n",
       "<table border=\"1\" class=\"dataframe\">\n",
       "  <thead>\n",
       "    <tr style=\"text-align: right;\">\n",
       "      <th></th>\n",
       "      <th>Accession ID</th>\n",
       "      <th>Lineage</th>\n",
       "      <th>Sequence</th>\n",
       "      <th>Coverage</th>\n",
       "      <th>Train</th>\n",
       "    </tr>\n",
       "  </thead>\n",
       "  <tbody>\n",
       "    <tr>\n",
       "      <th>0</th>\n",
       "      <td>EPI_ISL_15104785</td>\n",
       "      <td>BA.5.1</td>\n",
       "      <td>TTGTAGATCTGTTCTCTAAACGAACTTTAAAATCTGTGTGGCTGTC...</td>\n",
       "      <td>99.213260</td>\n",
       "      <td>2</td>\n",
       "    </tr>\n",
       "    <tr>\n",
       "      <th>1</th>\n",
       "      <td>EPI_ISL_3411570</td>\n",
       "      <td>AY.19</td>\n",
       "      <td>TGTTCTCTAAACGAACTTTAAAATCTGTGTGGCTGTCACTCGGCTG...</td>\n",
       "      <td>99.939512</td>\n",
       "      <td>2</td>\n",
       "    </tr>\n",
       "    <tr>\n",
       "      <th>2</th>\n",
       "      <td>EPI_ISL_2433815</td>\n",
       "      <td>C.1</td>\n",
       "      <td>ATACCTTCCTAGGTAACAAACCAACCAACTTTCGATCTCTTGTAGA...</td>\n",
       "      <td>95.359497</td>\n",
       "      <td>2</td>\n",
       "    </tr>\n",
       "    <tr>\n",
       "      <th>2</th>\n",
       "      <td>EPI_ISL_1715397</td>\n",
       "      <td>L.3</td>\n",
       "      <td>CTTGTAGATCTGTTCTCTAAACGAACTTTAAAATCTGTGTGGCTGT...</td>\n",
       "      <td>99.775462</td>\n",
       "      <td>1</td>\n",
       "    </tr>\n",
       "    <tr>\n",
       "      <th>3</th>\n",
       "      <td>EPI_ISL_14795073</td>\n",
       "      <td>BA.4.6</td>\n",
       "      <td>ACCAGTGGCTTACCGCAAGGTTCTTCTTCGTAAGAACGGTAATAAA...</td>\n",
       "      <td>99.972625</td>\n",
       "      <td>0</td>\n",
       "    </tr>\n",
       "    <tr>\n",
       "      <th>...</th>\n",
       "      <td>...</td>\n",
       "      <td>...</td>\n",
       "      <td>...</td>\n",
       "      <td>...</td>\n",
       "      <td>...</td>\n",
       "    </tr>\n",
       "    <tr>\n",
       "      <th>691</th>\n",
       "      <td>EPI_ISL_5099144</td>\n",
       "      <td>AY.46</td>\n",
       "      <td>TACCTTCCCAGGTAACAAACCAACCAACTTTCGATCTCTTGTAGAT...</td>\n",
       "      <td>100.000000</td>\n",
       "      <td>0</td>\n",
       "    </tr>\n",
       "    <tr>\n",
       "      <th>691</th>\n",
       "      <td>EPI_ISL_9695375</td>\n",
       "      <td>BA.1.21</td>\n",
       "      <td>ACCAACCAACTTTCGATCTCTTGTAGATCTGTTCTCTAAACGAACT...</td>\n",
       "      <td>99.160820</td>\n",
       "      <td>1</td>\n",
       "    </tr>\n",
       "    <tr>\n",
       "      <th>692</th>\n",
       "      <td>EPI_ISL_602627</td>\n",
       "      <td>B.1.1.84</td>\n",
       "      <td>CTCTTGTAGATCTGTTCTCTAAACGAACTTTAAAATCTGTGTGGCT...</td>\n",
       "      <td>100.000000</td>\n",
       "      <td>0</td>\n",
       "    </tr>\n",
       "    <tr>\n",
       "      <th>693</th>\n",
       "      <td>EPI_ISL_17231201</td>\n",
       "      <td>BQ.1.1.38</td>\n",
       "      <td>TATACCTTCCCAGGTAACAAACCAACCAACTTTCGATCTCTTGTAG...</td>\n",
       "      <td>99.979875</td>\n",
       "      <td>0</td>\n",
       "    </tr>\n",
       "    <tr>\n",
       "      <th>694</th>\n",
       "      <td>EPI_ISL_9695361</td>\n",
       "      <td>BA.1.1</td>\n",
       "      <td>CTTTCGATCTCTTGTAGATCTGTTCTCTAAACGAACTTTAAAATCT...</td>\n",
       "      <td>100.000000</td>\n",
       "      <td>2</td>\n",
       "    </tr>\n",
       "  </tbody>\n",
       "</table>\n",
       "<p>1000 rows × 5 columns</p>\n",
       "</div>"
      ],
      "text/plain": [
       "         Accession ID    Lineage  \\\n",
       "0    EPI_ISL_15104785     BA.5.1   \n",
       "1     EPI_ISL_3411570      AY.19   \n",
       "2     EPI_ISL_2433815        C.1   \n",
       "2     EPI_ISL_1715397        L.3   \n",
       "3    EPI_ISL_14795073     BA.4.6   \n",
       "..                ...        ...   \n",
       "691   EPI_ISL_5099144      AY.46   \n",
       "691   EPI_ISL_9695375    BA.1.21   \n",
       "692    EPI_ISL_602627   B.1.1.84   \n",
       "693  EPI_ISL_17231201  BQ.1.1.38   \n",
       "694   EPI_ISL_9695361     BA.1.1   \n",
       "\n",
       "                                              Sequence    Coverage  Train  \n",
       "0    TTGTAGATCTGTTCTCTAAACGAACTTTAAAATCTGTGTGGCTGTC...   99.213260      2  \n",
       "1    TGTTCTCTAAACGAACTTTAAAATCTGTGTGGCTGTCACTCGGCTG...   99.939512      2  \n",
       "2    ATACCTTCCTAGGTAACAAACCAACCAACTTTCGATCTCTTGTAGA...   95.359497      2  \n",
       "2    CTTGTAGATCTGTTCTCTAAACGAACTTTAAAATCTGTGTGGCTGT...   99.775462      1  \n",
       "3    ACCAGTGGCTTACCGCAAGGTTCTTCTTCGTAAGAACGGTAATAAA...   99.972625      0  \n",
       "..                                                 ...         ...    ...  \n",
       "691  TACCTTCCCAGGTAACAAACCAACCAACTTTCGATCTCTTGTAGAT...  100.000000      0  \n",
       "691  ACCAACCAACTTTCGATCTCTTGTAGATCTGTTCTCTAAACGAACT...   99.160820      1  \n",
       "692  CTCTTGTAGATCTGTTCTCTAAACGAACTTTAAAATCTGTGTGGCT...  100.000000      0  \n",
       "693  TATACCTTCCCAGGTAACAAACCAACCAACTTTCGATCTCTTGTAG...   99.979875      0  \n",
       "694  CTTTCGATCTCTTGTAGATCTGTTCTCTAAACGAACTTTAAAATCT...  100.000000      2  \n",
       "\n",
       "[1000 rows x 5 columns]"
      ]
     },
     "execution_count": 4,
     "metadata": {},
     "output_type": "execute_result"
    }
   ],
   "source": [
    "data = pd.read_parquet('../../data/processed/mock_data.parquet', engine='pyarrow')  # You can use 'fastparquet' as the engine\n",
    "data"
   ]
  },
  {
   "cell_type": "code",
   "execution_count": 5,
   "id": "47e9f7a5-ef37-4a76-ba9a-300c7130cc05",
   "metadata": {},
   "outputs": [],
   "source": [
    "data['Sequence'] = data['Sequence'].str.replace('[^ACTG]', '', regex=True)"
   ]
  },
  {
   "cell_type": "code",
   "execution_count": 71,
   "id": "c8d1d1a8-ffa3-434c-8a3c-3e1c9a5ab5bb",
   "metadata": {},
   "outputs": [
    {
     "name": "stdout",
     "output_type": "stream",
     "text": [
      "1.0017837541163557\n",
      "0.04586172103881836\n"
     ]
    }
   ],
   "source": [
    "start = time.time()\n",
    "sketch = create_optimized_mash_sketch(data[\"Sequence\"][3], 13, 1000)\n",
    "end = time.time()\n",
    "print(end-start)"
   ]
  },
  {
   "cell_type": "code",
   "execution_count": 5,
   "id": "05cc014a-373e-4715-9dac-283b83060cbf",
   "metadata": {},
   "outputs": [
    {
     "name": "stdout",
     "output_type": "stream",
     "text": [
      "1095.9188392162323\n"
     ]
    }
   ],
   "source": [
    "import time\n",
    "\n",
    "k = 22\n",
    "sketch_size = 1000\n",
    "\n",
    "start = time.time()\n",
    "sketch_array = []\n",
    "for genome in data[\"Sequence\"]:\n",
    "    sketch_array.append(create_mash_sketch(genome, k, sketch_size))\n",
    "end = time.time()\n",
    "\n",
    "print(end-start)"
   ]
  },
  {
   "cell_type": "code",
   "execution_count": 6,
   "id": "12e7ed4b-bd52-4d03-807b-834ab9a64ba4",
   "metadata": {},
   "outputs": [
    {
     "name": "stderr",
     "output_type": "stream",
     "text": [
      "/opt/conda/lib/python3.10/site-packages/pandas/io/parquet.py:190: UserWarning: The DataFrame has column names of mixed type. They will be converted to strings and not roundtrip correctly.\n",
      "  table = self.api.Table.from_pandas(df, **from_pandas_kwargs)\n"
     ]
    }
   ],
   "source": [
    "mash_data = pd.DataFrame(sketch_array)\n",
    "mash_data[\"Target\"] = data[\"Lineage\"].tolist()\n",
    "mash_data[\"Test\"] = data[\"Test\"].tolist()\n",
    "mash_data.to_parquet('../../data/features/mash.parquet', engine='pyarrow')"
   ]
  }
 ],
 "metadata": {
  "kernelspec": {
   "display_name": "Python 3 (ipykernel)",
   "language": "python",
   "name": "python3"
  },
  "language_info": {
   "codemirror_mode": {
    "name": "ipython",
    "version": 3
   },
   "file_extension": ".py",
   "mimetype": "text/x-python",
   "name": "python",
   "nbconvert_exporter": "python",
   "pygments_lexer": "ipython3",
   "version": "3.10.8"
  }
 },
 "nbformat": 4,
 "nbformat_minor": 5
}
