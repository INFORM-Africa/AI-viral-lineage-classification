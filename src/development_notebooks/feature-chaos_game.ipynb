{
 "cells": [
  {
   "cell_type": "code",
   "execution_count": 1,
   "metadata": {},
   "outputs": [],
   "source": [
    "import pandas as pd\n",
    "import numpy as np\n",
    "import matplotlib.pyplot as plt"
   ]
  },
  {
   "cell_type": "code",
   "execution_count": 2,
   "metadata": {},
   "outputs": [
    {
     "data": {
      "text/html": [
       "<div>\n",
       "<style scoped>\n",
       "    .dataframe tbody tr th:only-of-type {\n",
       "        vertical-align: middle;\n",
       "    }\n",
       "\n",
       "    .dataframe tbody tr th {\n",
       "        vertical-align: top;\n",
       "    }\n",
       "\n",
       "    .dataframe thead th {\n",
       "        text-align: right;\n",
       "    }\n",
       "</style>\n",
       "<table border=\"1\" class=\"dataframe\">\n",
       "  <thead>\n",
       "    <tr style=\"text-align: right;\">\n",
       "      <th></th>\n",
       "      <th>Accession ID</th>\n",
       "      <th>Lineage</th>\n",
       "      <th>Collection date</th>\n",
       "      <th>Sequence</th>\n",
       "      <th>Test</th>\n",
       "    </tr>\n",
       "  </thead>\n",
       "  <tbody>\n",
       "    <tr>\n",
       "      <th>0</th>\n",
       "      <td>EPI_ISL_16823464</td>\n",
       "      <td>XBB.1.5</td>\n",
       "      <td>2023-01-31</td>\n",
       "      <td>TAAAGGTTTATACCTTCCCAGGTAACAAACCAACCAACTTTCGATC...</td>\n",
       "      <td>0</td>\n",
       "    </tr>\n",
       "    <tr>\n",
       "      <th>1</th>\n",
       "      <td>EPI_ISL_3342425</td>\n",
       "      <td>AY.116</td>\n",
       "      <td>2021-07-26</td>\n",
       "      <td>GTTCTCTAAACGAACTTTAAAATCTGTGTGGCTGTCACTCGGCTGC...</td>\n",
       "      <td>0</td>\n",
       "    </tr>\n",
       "    <tr>\n",
       "      <th>2</th>\n",
       "      <td>EPI_ISL_1715410</td>\n",
       "      <td>B.1.525</td>\n",
       "      <td>2021-01-12</td>\n",
       "      <td>AGGTAACAAACCAACCAACTTTCGATCTCTTGTAGATCTGTTCTCT...</td>\n",
       "      <td>1</td>\n",
       "    </tr>\n",
       "    <tr>\n",
       "      <th>3</th>\n",
       "      <td>EPI_ISL_515786</td>\n",
       "      <td>B.1.1.57</td>\n",
       "      <td>2020-07-29</td>\n",
       "      <td>TTCCCAGGTAACAAACCAACCAACTTTCGATCTCTTGTAGATCTGT...</td>\n",
       "      <td>0</td>\n",
       "    </tr>\n",
       "    <tr>\n",
       "      <th>4</th>\n",
       "      <td>EPI_ISL_17385094</td>\n",
       "      <td>BQ.1.1</td>\n",
       "      <td>2023-02-06</td>\n",
       "      <td>TACGGCGCCGATCTAAAGTCATTTGACTTAGGCGACGAGCTTGGCA...</td>\n",
       "      <td>1</td>\n",
       "    </tr>\n",
       "    <tr>\n",
       "      <th>...</th>\n",
       "      <td>...</td>\n",
       "      <td>...</td>\n",
       "      <td>...</td>\n",
       "      <td>...</td>\n",
       "      <td>...</td>\n",
       "    </tr>\n",
       "    <tr>\n",
       "      <th>47317</th>\n",
       "      <td>EPI_ISL_15963061</td>\n",
       "      <td>CP.5</td>\n",
       "      <td>2022-11-01</td>\n",
       "      <td>TTGTAGATCTGTTCTCTAAACGAACTTTAAAATCTGTGTGGCTGTC...</td>\n",
       "      <td>1</td>\n",
       "    </tr>\n",
       "    <tr>\n",
       "      <th>47322</th>\n",
       "      <td>EPI_ISL_15963067</td>\n",
       "      <td>BE.7</td>\n",
       "      <td>2022-11-05</td>\n",
       "      <td>TTGTAGATCTGTTCTCTAAACGAACTTTAAAATCTGTGTGGCTGTC...</td>\n",
       "      <td>1</td>\n",
       "    </tr>\n",
       "    <tr>\n",
       "      <th>47324</th>\n",
       "      <td>EPI_ISL_15963069</td>\n",
       "      <td>BE.7</td>\n",
       "      <td>2022-11-05</td>\n",
       "      <td>CTAAACGANCTTTAAAATCTGTGTGGCTGTCNCTCGGCTGCATNCT...</td>\n",
       "      <td>1</td>\n",
       "    </tr>\n",
       "    <tr>\n",
       "      <th>47344</th>\n",
       "      <td>EPI_ISL_18407436</td>\n",
       "      <td>BA.1</td>\n",
       "      <td>2022-07-26</td>\n",
       "      <td>TTGTAGATCTGTTCTCTAAACGAACNTGAAAATCTGTGTGGCTGTC...</td>\n",
       "      <td>1</td>\n",
       "    </tr>\n",
       "    <tr>\n",
       "      <th>47350</th>\n",
       "      <td>EPI_ISL_15426702</td>\n",
       "      <td>BA.4</td>\n",
       "      <td>2022-08-17</td>\n",
       "      <td>TTGTAGATCTGTTCTCTAAACGAACNNNNNNNNNNNNNNNNNNNNN...</td>\n",
       "      <td>1</td>\n",
       "    </tr>\n",
       "  </tbody>\n",
       "</table>\n",
       "<p>22711 rows × 5 columns</p>\n",
       "</div>"
      ],
      "text/plain": [
       "           Accession ID   Lineage Collection date  \\\n",
       "0      EPI_ISL_16823464   XBB.1.5      2023-01-31   \n",
       "1       EPI_ISL_3342425    AY.116      2021-07-26   \n",
       "2       EPI_ISL_1715410   B.1.525      2021-01-12   \n",
       "3        EPI_ISL_515786  B.1.1.57      2020-07-29   \n",
       "4      EPI_ISL_17385094    BQ.1.1      2023-02-06   \n",
       "...                 ...       ...             ...   \n",
       "47317  EPI_ISL_15963061      CP.5      2022-11-01   \n",
       "47322  EPI_ISL_15963067      BE.7      2022-11-05   \n",
       "47324  EPI_ISL_15963069      BE.7      2022-11-05   \n",
       "47344  EPI_ISL_18407436      BA.1      2022-07-26   \n",
       "47350  EPI_ISL_15426702      BA.4      2022-08-17   \n",
       "\n",
       "                                                Sequence  Test  \n",
       "0      TAAAGGTTTATACCTTCCCAGGTAACAAACCAACCAACTTTCGATC...     0  \n",
       "1      GTTCTCTAAACGAACTTTAAAATCTGTGTGGCTGTCACTCGGCTGC...     0  \n",
       "2      AGGTAACAAACCAACCAACTTTCGATCTCTTGTAGATCTGTTCTCT...     1  \n",
       "3      TTCCCAGGTAACAAACCAACCAACTTTCGATCTCTTGTAGATCTGT...     0  \n",
       "4      TACGGCGCCGATCTAAAGTCATTTGACTTAGGCGACGAGCTTGGCA...     1  \n",
       "...                                                  ...   ...  \n",
       "47317  TTGTAGATCTGTTCTCTAAACGAACTTTAAAATCTGTGTGGCTGTC...     1  \n",
       "47322  TTGTAGATCTGTTCTCTAAACGAACTTTAAAATCTGTGTGGCTGTC...     1  \n",
       "47324  CTAAACGANCTTTAAAATCTGTGTGGCTGTCNCTCGGCTGCATNCT...     1  \n",
       "47344  TTGTAGATCTGTTCTCTAAACGAACNTGAAAATCTGTGTGGCTGTC...     1  \n",
       "47350  TTGTAGATCTGTTCTCTAAACGAACNNNNNNNNNNNNNNNNNNNNN...     1  \n",
       "\n",
       "[22711 rows x 5 columns]"
      ]
     },
     "execution_count": 2,
     "metadata": {},
     "output_type": "execute_result"
    }
   ],
   "source": [
    "data = pd.read_parquet('../../data/processed/cov-19.parquet', engine='pyarrow')  # You can use 'fastparquet' as the engine\n",
    "data"
   ]
  },
  {
   "cell_type": "code",
   "execution_count": 4,
   "metadata": {},
   "outputs": [],
   "source": [
    "def fast_chaos_game_representation(sequence, size=128):\n",
    "    \"\"\"\n",
    "    Create a fast Chaos Game Representation of a DNA sequence with a fixed size image.\n",
    "\n",
    "    Args:\n",
    "    sequence (str): A string representing the DNA sequence (composed of A, C, G, T).\n",
    "    size (int, optional): Size of the CGR image in pixels. Defaults to 128.\n",
    "    \"\"\"\n",
    "    # Mapping of nucleotides to points\n",
    "    nucleotide_points = {\n",
    "        'A': (0, 0),  # Lower-left corner\n",
    "        'C': (0, 1),  # Upper-left corner\n",
    "        'G': (1, 1),  # Upper-right corner\n",
    "        'T': (1, 0)   # Lower-right corner\n",
    "    }\n",
    "\n",
    "    # Initialize the image\n",
    "    image = np.zeros((size, size))\n",
    "\n",
    "    # Initialize the starting point\n",
    "    x, y = 0.5, 0.5\n",
    "\n",
    "    # Scaling factor to map points to pixel coordinates\n",
    "    scale = size - 1\n",
    "\n",
    "    # Iterate through the sequence\n",
    "    for nucleotide in sequence:\n",
    "        if nucleotide in nucleotide_points:\n",
    "            # Move halfway towards the corner corresponding to the nucleotide\n",
    "            corner_x, corner_y = nucleotide_points[nucleotide]\n",
    "            x = (x + corner_x) / 2\n",
    "            y = (y + corner_y) / 2\n",
    "\n",
    "            # Update the image\n",
    "            ix, iy = int(x * scale), int(y * scale)\n",
    "            image[iy, ix] += 1\n",
    "\n",
    "    return image.reshape(-1,1)\n",
    "\n",
    "cgr_array = [fast_chaos_game_representation(sequence) for sequence in data['Sequence']]"
   ]
  },
  {
   "cell_type": "code",
   "execution_count": 6,
   "metadata": {},
   "outputs": [],
   "source": [
    "# Flatten each array and convert to a list\n",
    "flattened_arrays = [array.flatten() for array in cgr_array]"
   ]
  },
  {
   "cell_type": "code",
   "execution_count": 7,
   "metadata": {},
   "outputs": [],
   "source": [
    "chaos_data = pd.DataFrame(flattened_arrays)"
   ]
  },
  {
   "cell_type": "code",
   "execution_count": 8,
   "metadata": {},
   "outputs": [],
   "source": [
    "chaos_data[\"Target\"] = data[\"Lineage\"].tolist()"
   ]
  },
  {
   "cell_type": "code",
   "execution_count": 9,
   "metadata": {},
   "outputs": [],
   "source": [
    "chaos_data[\"Test\"] = data[\"Test\"].tolist()"
   ]
  },
  {
   "cell_type": "code",
   "execution_count": 11,
   "metadata": {},
   "outputs": [
    {
     "name": "stderr",
     "output_type": "stream",
     "text": [
      "/opt/conda/lib/python3.10/site-packages/pandas/io/parquet.py:190: UserWarning: The DataFrame has column names of mixed type. They will be converted to strings and not roundtrip correctly.\n",
      "  table = self.api.Table.from_pandas(df, **from_pandas_kwargs)\n"
     ]
    }
   ],
   "source": [
    "chaos_data.to_parquet('../../data/features/chaos_standard_128.parquet', engine='pyarrow')"
   ]
  }
 ],
 "metadata": {
  "kernelspec": {
   "display_name": "Python 3 (ipykernel)",
   "language": "python",
   "name": "python3"
  },
  "language_info": {
   "codemirror_mode": {
    "name": "ipython",
    "version": 3
   },
   "file_extension": ".py",
   "mimetype": "text/x-python",
   "name": "python",
   "nbconvert_exporter": "python",
   "pygments_lexer": "ipython3",
   "version": "3.10.8"
  }
 },
 "nbformat": 4,
 "nbformat_minor": 4
}
