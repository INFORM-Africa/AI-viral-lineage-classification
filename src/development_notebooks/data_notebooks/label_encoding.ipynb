{
 "cells": [
  {
   "cell_type": "code",
   "execution_count": 1,
   "id": "afae9c9e-b783-4ca2-86ab-0305ada7c38d",
   "metadata": {},
   "outputs": [],
   "source": [
    "import pandas as pd\n",
    "import numpy as np"
   ]
  },
  {
   "cell_type": "code",
   "execution_count": 2,
   "id": "5d413d4f-86bb-4ebc-a8ea-40f3751cbcfc",
   "metadata": {},
   "outputs": [],
   "source": [
    "data_path = '../../../data/sequences/HIV.parquet'\n",
    "\n",
    "data = pd.read_parquet(data_path, engine='pyarrow')"
   ]
  },
  {
   "cell_type": "code",
   "execution_count": 3,
   "id": "58581ef2-6ab5-42b3-a99d-3f267c5cfa54",
   "metadata": {},
   "outputs": [],
   "source": [
    "from sklearn.preprocessing import LabelEncoder\n",
    "\n",
    "# Assuming `targets` is your list or Series of class labels\n",
    "le = LabelEncoder()\n",
    "encoded_targets = le.fit_transform(data['Lineage'])"
   ]
  },
  {
   "cell_type": "code",
   "execution_count": 4,
   "id": "a95e29fc-0c59-4101-a6ef-ce7abacd35ea",
   "metadata": {},
   "outputs": [],
   "source": [
    "data['Target'] = encoded_targets"
   ]
  },
  {
   "cell_type": "code",
   "execution_count": 6,
   "id": "b9482397-a5ed-4b9c-8d76-2b648f0bd03a",
   "metadata": {},
   "outputs": [],
   "source": [
    "data[['Accession', 'Sequence', 'Target', 'Train', 'Lineage']].to_parquet('../../../data/sequences/HIV.parquet', engine='pyarrow')"
   ]
  },
  {
   "cell_type": "code",
   "execution_count": 7,
   "id": "799c0aca-9032-4d07-a612-224d480ada8a",
   "metadata": {},
   "outputs": [
    {
     "data": {
      "text/plain": [
       "53"
      ]
     },
     "execution_count": 7,
     "metadata": {},
     "output_type": "execute_result"
    }
   ],
   "source": [
    "len(data[data['Train'] == 0]['Target'].value_counts())"
   ]
  },
  {
   "cell_type": "code",
   "execution_count": 8,
   "id": "96eb92e4-35a9-42d4-9215-59b1c6c0a4d9",
   "metadata": {},
   "outputs": [
    {
     "data": {
      "text/plain": [
       "0        45\n",
       "1         7\n",
       "2        36\n",
       "3        19\n",
       "4        40\n",
       "         ..\n",
       "19081    16\n",
       "10128     7\n",
       "1888     39\n",
       "8035     39\n",
       "6385     43\n",
       "Name: Target, Length: 12189, dtype: int64"
      ]
     },
     "execution_count": 8,
     "metadata": {},
     "output_type": "execute_result"
    }
   ],
   "source": [
    "data['Target']"
   ]
  },
  {
   "cell_type": "code",
   "execution_count": 27,
   "id": "40fc42b4-7996-421a-9500-2a6abdbfb73e",
   "metadata": {},
   "outputs": [
    {
     "data": {
      "text/plain": [
       "53"
      ]
     },
     "execution_count": 27,
     "metadata": {},
     "output_type": "execute_result"
    }
   ],
   "source": [
    "len(data['Lineage'].value_counts())"
   ]
  }
 ],
 "metadata": {
  "kernelspec": {
   "display_name": "Python (CERI)",
   "language": "python",
   "name": "ceri"
  },
  "language_info": {
   "codemirror_mode": {
    "name": "ipython",
    "version": 3
   },
   "file_extension": ".py",
   "mimetype": "text/x-python",
   "name": "python",
   "nbconvert_exporter": "python",
   "pygments_lexer": "ipython3",
   "version": "3.9.7"
  }
 },
 "nbformat": 4,
 "nbformat_minor": 5
}
