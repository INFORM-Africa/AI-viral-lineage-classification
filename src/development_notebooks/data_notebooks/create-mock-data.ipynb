{
 "cells": [
  {
   "cell_type": "code",
   "execution_count": 1,
   "id": "b9ee38a3-bb80-42bb-8912-22d12c387287",
   "metadata": {},
   "outputs": [],
   "source": [
    "import pandas as pd\n",
    "import numpy as np"
   ]
  },
  {
   "cell_type": "code",
   "execution_count": 21,
   "id": "7e4090bb-cc15-4540-a460-d096cee31409",
   "metadata": {},
   "outputs": [],
   "source": [
    "data = pd.read_parquet('../../../data/sequences/HIV_full.parquet', engine='pyarrow')  # You can use 'fastparquet' as the engine"
   ]
  },
  {
   "cell_type": "code",
   "execution_count": 30,
   "id": "d71444c7-aa99-4506-886a-dfa67baf4398",
   "metadata": {},
   "outputs": [
    {
     "data": {
      "text/plain": [
       "Lineage\n",
       "B           5663\n",
       "C           1317\n",
       "01_AE       1101\n",
       "A1           500\n",
       "A1D          254\n",
       "A6           216\n",
       "01B          214\n",
       "02_AG        212\n",
       "D            203\n",
       "A1C          195\n",
       "BF1          188\n",
       "A1CD         150\n",
       "G            149\n",
       "07BC         146\n",
       "BC           129\n",
       "CD           123\n",
       "01BC         123\n",
       "0107         121\n",
       "F1           114\n",
       "O             83\n",
       "07C           71\n",
       "07_BC         69\n",
       "02A1          57\n",
       "08_BC         54\n",
       "20_BG         40\n",
       "63_02A6       39\n",
       "11_cpx        37\n",
       "02A           36\n",
       "U             36\n",
       "01C           35\n",
       "BG            33\n",
       "35_A1D        33\n",
       "22_01A1       31\n",
       "02A3          31\n",
       "140_0107      27\n",
       "02G           27\n",
       "42_BF1        25\n",
       "06_cpx        25\n",
       "0206          25\n",
       "02B           25\n",
       "12_BF         21\n",
       "71_BF1        21\n",
       "14_BG         21\n",
       "F2            21\n",
       "0107BC        20\n",
       "01A1          20\n",
       "01G           16\n",
       "85_BC         16\n",
       "N             16\n",
       "91_cpx        15\n",
       "H             15\n",
       "103_01B       15\n",
       "13_cpx        15\n",
       "Name: count, dtype: int64"
      ]
     },
     "execution_count": 30,
     "metadata": {},
     "output_type": "execute_result"
    }
   ],
   "source": [
    "data['Lineage'].value_counts()"
   ]
  },
  {
   "cell_type": "code",
   "execution_count": 50,
   "id": "0d65c23a-2fad-4fa1-8edb-144021873640",
   "metadata": {},
   "outputs": [],
   "source": [
    "def random_undersample(data_df, max_samples_per_class=5, random_state=42):\n",
    "    \n",
    "    undersampled_data = []\n",
    "\n",
    "    for class_value, group in data_df.groupby('Lineage'):\n",
    "        if len(group) > max_samples_per_class:\n",
    "            undersampled_group = group.sample(n=max_samples_per_class, random_state=random_state)\n",
    "        else:\n",
    "            undersampled_group = group\n",
    "        undersampled_data.append(undersampled_group)\n",
    "\n",
    "    undersampled_data_df = pd.concat(undersampled_data)\n",
    "    \n",
    "    return undersampled_data_df"
   ]
  },
  {
   "cell_type": "code",
   "execution_count": 51,
   "id": "d0ed09f0-f0fa-4bc4-b445-8a2ba0bdb731",
   "metadata": {},
   "outputs": [],
   "source": [
    "train = random_undersample(data[data[\"Train\"] == 0])\n",
    "val = random_undersample(data[data[\"Train\"] == 1])\n",
    "test = random_undersample(data[data[\"Train\"] == 2])"
   ]
  },
  {
   "cell_type": "code",
   "execution_count": 53,
   "id": "e5ee61af-a322-48c0-a045-a8acc307afb4",
   "metadata": {},
   "outputs": [
    {
     "name": "stdout",
     "output_type": "stream",
     "text": [
      "728\n"
     ]
    }
   ],
   "source": [
    "mock_data = pd.concat([train, val, test],  ignore_index=True)\n",
    "print(len(mock_data))"
   ]
  },
  {
   "cell_type": "code",
   "execution_count": 59,
   "id": "736d82c9-0409-4064-afc3-b8cbd9475a21",
   "metadata": {},
   "outputs": [],
   "source": [
    "mock_data.to_parquet('../../../data/sequences/HIV.parquet', engine='pyarrow')"
   ]
  }
 ],
 "metadata": {
  "kernelspec": {
   "display_name": "Python (CERI)",
   "language": "python",
   "name": "ceri"
  },
  "language_info": {
   "codemirror_mode": {
    "name": "ipython",
    "version": 3
   },
   "file_extension": ".py",
   "mimetype": "text/x-python",
   "name": "python",
   "nbconvert_exporter": "python",
   "pygments_lexer": "ipython3",
   "version": "3.9.7"
  }
 },
 "nbformat": 4,
 "nbformat_minor": 5
}
