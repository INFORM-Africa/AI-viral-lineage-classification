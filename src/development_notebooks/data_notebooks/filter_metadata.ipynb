{
 "cells": [
  {
   "cell_type": "code",
   "execution_count": 1,
   "metadata": {},
   "outputs": [],
   "source": [
    "# import pandas as pd\n",
    "\n",
    "# def load_first_50_lines_to_dataframe(file_path):\n",
    "#     # Read the first 50 lines of a TSV file\n",
    "#     df = pd.read_csv(file_path, sep='\\t', nrows=50)\n",
    "#     return df\n",
    "\n",
    "# # Replace 'path_to_your_file.tsv' with the path to your TSV file\n",
    "# file_path = '../../../data/compressed/metadata_tsv_2024_04_11/metadata.tsv'\n",
    "# df = load_first_50_lines_to_dataframe(file_path)"
   ]
  },
  {
   "cell_type": "code",
   "execution_count": 1,
   "metadata": {},
   "outputs": [
    {
     "name": "stdout",
     "output_type": "stream",
     "text": [
      "['Virus name', 'Last vaccinated', 'Passage details/history', 'Type', 'Accession ID', 'Collection date', 'Location', 'Additional location information', 'Sequence length', 'Host', 'Patient age', 'Gender', 'Clade', 'Pango lineage', 'Pango version', 'Variant', 'AA Substitutions', 'Submission date', 'Is reference?', 'Is complete?', 'Is high coverage?', 'Is low coverage?', 'N-Content', 'GC-Content']\n"
     ]
    }
   ],
   "source": [
    "import pandas as pd\n",
    "\n",
    "def get_column_names(file_path):\n",
    "    # Read only the first row to get the column names\n",
    "    for df in pd.read_csv(file_path, sep='\\t', chunksize=1):\n",
    "        return df.columns.tolist()\n",
    "\n",
    "file_path = '../../../data/compressed/metadata_tsv_2024_04_11/metadata.tsv'\n",
    "column_names = get_column_names(file_path)\n",
    "print(column_names)"
   ]
  },
  {
   "cell_type": "code",
   "execution_count": 2,
   "metadata": {},
   "outputs": [
    {
     "name": "stdout",
     "output_type": "stream",
     "text": [
      "       Accession ID Collection date                          Location  \\\n",
      "0  EPI_ISL_14729181      2022-06-20  Europe / Spain / Castilla y Leon   \n",
      "1  EPI_ISL_14729175      2022-06-20  Europe / Spain / Castilla y Leon   \n",
      "2  EPI_ISL_14729171      2022-06-17  Europe / Spain / Castilla y Leon   \n",
      "3  EPI_ISL_14729125      2022-06-19  Europe / Spain / Castilla y Leon   \n",
      "4  EPI_ISL_14729180      2022-06-20  Europe / Spain / Castilla y Leon   \n",
      "\n",
      "   Sequence length Pango lineage  \n",
      "0            29782        BA.5.1  \n",
      "1            29746        BA.5.1  \n",
      "2            29746      BA.5.1.3  \n",
      "3            29746        BA.5.1  \n",
      "4            29784        BA.5.1  \n"
     ]
    }
   ],
   "source": [
    "# List of columns to load based on your requirements\n",
    "columns_to_load = ['Accession ID', 'Collection date', 'Location', 'Sequence length', 'Pango lineage', 'Is complete?', 'Is low coverage?']\n",
    "\n",
    "def read_selected_columns(file_path, use_columns):\n",
    "    # Read the file with selected columns\n",
    "    df = pd.read_csv(file_path, sep='\\t', usecols=use_columns)\n",
    "    return df\n",
    "\n",
    "# Replace 'path_to_your_file.tsv' with the path to your TSV file\n",
    "df = read_selected_columns(file_path, columns_to_load)\n",
    "\n",
    "# Filter out rows where 'Pango lineage' is null\n",
    "df = df[df['Pango lineage'].notna()]\n",
    "\n",
    "# Filter out rows where 'Is complete?' is null\n",
    "df = df[df['Is complete?'].notna()]\n",
    "\n",
    "# Filter out rows where 'Is low coverage?' is not null\n",
    "df = df[df['Is low coverage?'].isna()]\n",
    "\n",
    "# Drop the 'Is complete?' and 'Is low coverage?' columns from the DataFrame\n",
    "df = df.drop(['Is complete?', 'Is low coverage?'], axis=1)\n",
    "\n",
    "# Optionally, display the first few rows to verify the contents\n",
    "print(df.head())"
   ]
  },
  {
   "cell_type": "code",
   "execution_count": 3,
   "metadata": {},
   "outputs": [],
   "source": [
    "# Save to a new CSV file\n",
    "df.to_csv('filtered_metadata.csv', index=False)"
   ]
  }
 ],
 "metadata": {
  "kernelspec": {
   "display_name": "CERI",
   "language": "python",
   "name": "python3"
  },
  "language_info": {
   "codemirror_mode": {
    "name": "ipython",
    "version": 3
   },
   "file_extension": ".py",
   "mimetype": "text/x-python",
   "name": "python",
   "nbconvert_exporter": "python",
   "pygments_lexer": "ipython3",
   "version": "3.10.13"
  }
 },
 "nbformat": 4,
 "nbformat_minor": 2
}
