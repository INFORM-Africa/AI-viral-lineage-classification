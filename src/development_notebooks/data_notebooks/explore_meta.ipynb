{
 "cells": [
  {
   "cell_type": "code",
   "execution_count": 2,
   "metadata": {},
   "outputs": [
    {
     "name": "stdout",
     "output_type": "stream",
     "text": [
      "       Accession ID Collection date                          Location  \\\n",
      "0  EPI_ISL_14729181      2022-06-20  Europe / Spain / Castilla y Leon   \n",
      "1  EPI_ISL_14729175      2022-06-20  Europe / Spain / Castilla y Leon   \n",
      "2  EPI_ISL_14729171      2022-06-17  Europe / Spain / Castilla y Leon   \n",
      "3  EPI_ISL_14729125      2022-06-19  Europe / Spain / Castilla y Leon   \n",
      "4  EPI_ISL_14729180      2022-06-20  Europe / Spain / Castilla y Leon   \n",
      "\n",
      "   Sequence length Pango lineage  \n",
      "0            29782        BA.5.1  \n",
      "1            29746        BA.5.1  \n",
      "2            29746      BA.5.1.3  \n",
      "3            29746        BA.5.1  \n",
      "4            29784        BA.5.1  \n"
     ]
    }
   ],
   "source": [
    "import pandas as pd\n",
    "\n",
    "# Load the CSV file into a DataFrame\n",
    "df = pd.read_csv('filtered_metadata.csv')\n",
    "\n",
    "# Display the first few rows to verify the data\n",
    "print(df.head())"
   ]
  },
  {
   "cell_type": "code",
   "execution_count": 2,
   "metadata": {},
   "outputs": [
    {
     "name": "stdout",
     "output_type": "stream",
     "text": [
      "Number of NANs in each column:\n",
      "Accession ID       0\n",
      "Collection date    0\n",
      "Location           0\n",
      "Sequence length    0\n",
      "Pango lineage      0\n",
      "dtype: int64\n"
     ]
    }
   ],
   "source": [
    "# Count the number of NANs (missing values) in each column\n",
    "nan_counts = df.isna().sum()\n",
    "print(\"Number of NANs in each column:\")\n",
    "print(nan_counts)"
   ]
  },
  {
   "cell_type": "code",
   "execution_count": 3,
   "metadata": {},
   "outputs": [
    {
     "name": "stdout",
     "output_type": "stream",
     "text": [
      "Number of unique values in each column:\n",
      "Accession ID       15100922\n",
      "Collection date        1638\n",
      "Location              47414\n",
      "Sequence length        1392\n",
      "Pango lineage          3551\n",
      "dtype: int64\n"
     ]
    }
   ],
   "source": [
    "# Count the number of unique values in each column\n",
    "unique_counts = df.nunique()\n",
    "print(\"Number of unique values in each column:\")\n",
    "print(unique_counts)"
   ]
  },
  {
   "cell_type": "code",
   "execution_count": 6,
   "metadata": {},
   "outputs": [
    {
     "data": {
      "image/png": "[encoded data removed]",
      "text/plain": [
       "<Figure size 1200x800 with 1 Axes>"
      ]
     },
     "metadata": {},
     "output_type": "display_data"
    }
   ],
   "source": [
    "import matplotlib.pyplot as plt\n",
    "# Calculate counts of each Pango lineage\n",
    "lineage_counts = df['Pango lineage'].value_counts()\n",
    "\n",
    "# Plotting\n",
    "plt.figure(figsize=(12, 8))  # Adjust the size as needed\n",
    "lineage_counts.plot(kind='bar')\n",
    "plt.title('Frequency of Each Pango Lineage')\n",
    "plt.xlabel('Pango Lineage')\n",
    "plt.ylabel('Frequency')\n",
    "\n",
    "# Set the y-axis to logarithmic scale\n",
    "plt.yscale('log')\n",
    "\n",
    "# Remove x-axis labels\n",
    "plt.xticks([])\n",
    "\n",
    "plt.show()"
   ]
  },
  {
   "cell_type": "code",
   "execution_count": 18,
   "metadata": {},
   "outputs": [
    {
     "name": "stdout",
     "output_type": "stream",
     "text": [
      "Number of lineages with less than 10 observations: 63\n",
      "Number of lineages with less than 20 observations: 203\n",
      "Number of lineages with less than 30 observations: 363\n"
     ]
    }
   ],
   "source": [
    "# Filter for lineages with fewer than 10 occurrences\n",
    "l = 10\n",
    "fewer_than_l = len(lineage_counts[lineage_counts < l])\n",
    "print(f\"Number of lineages with less than {l} observations: {fewer_than_l}\")\n",
    "\n",
    "l = 20\n",
    "fewer_than_l = len(lineage_counts[lineage_counts < l])\n",
    "print(f\"Number of lineages with less than {l} observations: {fewer_than_l}\")\n",
    "\n",
    "l = 30\n",
    "fewer_than_l = len(lineage_counts[lineage_counts < l])\n",
    "print(f\"Number of lineages with less than {l} observations: {fewer_than_l}\")"
   ]
  },
  {
   "cell_type": "code",
   "execution_count": 15,
   "metadata": {},
   "outputs": [
    {
     "name": "stdout",
     "output_type": "stream",
     "text": [
      "Total samples after capping each lineage at 50: 162951\n",
      "Total samples after capping each lineage at 75: 232698\n",
      "Total samples after capping each lineage at 100: 296706\n",
      "Total samples after capping each lineage at 150: 411557\n",
      "Total samples after capping each lineage at 200: 513742\n"
     ]
    }
   ],
   "source": [
    "import pandas as pd\n",
    "import numpy as np\n",
    "\n",
    "def calculate_capped_samples(df, m):\n",
    "\n",
    "    # Calculate counts of each Pango lineage\n",
    "    lineage_counts = df['Pango lineage'].value_counts()\n",
    "\n",
    "    # Cap each count at m and sum the capped values\n",
    "    capped_counts = np.minimum(lineage_counts, m)\n",
    "    total_samples = capped_counts.sum()\n",
    "\n",
    "    return total_samples\n",
    "\n",
    "m = 50  # Set m to your desired cap per lineage\n",
    "total_samples_after_cap = calculate_capped_samples(df, m)\n",
    "print(f\"Total samples after capping each lineage at {m}: {total_samples_after_cap}\")\n",
    "\n",
    "m = 75  # Set m to your desired cap per lineage\n",
    "total_samples_after_cap = calculate_capped_samples(df, m)\n",
    "print(f\"Total samples after capping each lineage at {m}: {total_samples_after_cap}\")\n",
    "\n",
    "m = 100  # Set m to your desired cap per lineage\n",
    "total_samples_after_cap = calculate_capped_samples(df, m)\n",
    "print(f\"Total samples after capping each lineage at {m}: {total_samples_after_cap}\")\n",
    "\n",
    "m = 150  # Set m to your desired cap per lineage\n",
    "total_samples_after_cap = calculate_capped_samples(df, m)\n",
    "print(f\"Total samples after capping each lineage at {m}: {total_samples_after_cap}\")\n",
    "\n",
    "m = 200  # Set m to your desired cap per lineage\n",
    "total_samples_after_cap = calculate_capped_samples(df, m)\n",
    "print(f\"Total samples after capping each lineage at {m}: {total_samples_after_cap}\")"
   ]
  },
  {
   "cell_type": "code",
   "execution_count": 5,
   "metadata": {},
   "outputs": [
    {
     "name": "stdout",
     "output_type": "stream",
     "text": [
      "0    Spain\n",
      "1    Spain\n",
      "2    Spain\n",
      "3    Spain\n",
      "4    Spain\n",
      "Name: Country, dtype: object\n"
     ]
    }
   ],
   "source": [
    "# Extract the country from the Location column\n",
    "df['Country'] = df['Location'].apply(lambda x: x.split(' / ')[1])\n",
    "\n",
    "# Preview the result\n",
    "print(df['Country'].head())"
   ]
  },
  {
   "cell_type": "code",
   "execution_count": 13,
   "metadata": {},
   "outputs": [],
   "source": [
    "# Count the number of samples per country\n",
    "country_counts = df['Country'].value_counts().reset_index()\n",
    "country_counts.columns = ['Country', 'Samples']\n",
    "country_counts['Log_Samples'] = np.log(country_counts['Samples'])"
   ]
  },
  {
   "cell_type": "code",
   "execution_count": 17,
   "metadata": {},
   "outputs": [
    {
     "data": {
      "application/vnd.plotly.v1+json": {
       "config": {
        "plotlyServerURL": "https://plot.ly"
       },
       "data": [
        {
         "coloraxis": "coloraxis",
         "geo": "geo",
         "hovertemplate": "<b>%{hovertext}</b><br><br>Country=%{location}<br>Log_Samples=%{z}<extra></extra>",
         "hovertext": [
          "USA",
          "United Kingdom",
          "Germany",
          "Japan",
          "Denmark",
          "France",
          "Canada",
          "Sweden",
          "Spain",
          "Brazil",
          "India",
          "Australia",
          "Italy",
          "Netherlands",
          "Belgium",
          "Switzerland",
          "South Korea",
          "Israel",
          "Turkey",
          "Ireland",
          "Poland",
          "Mexico",
          "Slovenia",
          "Norway",
          "Austria",
          "China",
          "Russia",
          "Czech Republic",
          "Luxembourg",
          "Peru",
          "Finland",
          "Indonesia",
          "Portugal",
          "Singapore",
          "Slovakia",
          "Croatia",
          "Chile",
          "South Africa",
          "New Zealand",
          "Thailand",
          "Lithuania",
          "Greece",
          "Malaysia",
          "Latvia",
          "Philippines",
          "Iceland",
          "Bulgaria",
          "Romania",
          "Argentina",
          "Reunion",
          "Puerto Rico",
          "Hong Kong",
          "Colombia",
          "Estonia",
          "Costa Rica",
          "Bahrain",
          "Canary Islands",
          "Ecuador",
          "Vietnam",
          "Kenya",
          "Cyprus",
          "United Arab Emirates",
          "Brunei",
          "Bangladesh",
          "Panama",
          "Mauritius",
          "Pakistan",
          "French Guiana",
          "Guatemala",
          "Taiwan",
          "Ukraine",
          "Nigeria",
          "Qatar",
          "Aruba",
          "Jamaica",
          "Cambodia",
          "Egypt",
          "Northern Mariana Islands",
          "Papua New Guinea",
          "Ghana",
          "Paraguay",
          "Georgia",
          "Iran",
          "Dominican Republic",
          "Nepal",
          "Senegal",
          "Sri Lanka",
          "Martinique",
          "Saudi Arabia",
          "Gibraltar",
          "Kazakhstan",
          "Sint Maarten",
          "Mongolia",
          "Botswana",
          "Tunisia",
          "Curacao",
          "Serbia",
          "Guadeloupe",
          "Lebanon",
          "U.S. Virgin Islands",
          "Trinidad and Tobago",
          "Laos",
          "Morocco",
          "Bonaire",
          "Kosovo",
          "Zambia",
          "Albania",
          "Namibia",
          "Uganda",
          "Jordan",
          "Cameroon",
          "Bosnia and Herzegovina",
          "Mayotte",
          "Oman",
          "Mozambique",
          "Maldives",
          "Democratic Republic of the Congo",
          "North Macedonia",
          "Hungary",
          "Benin",
          "Venezuela",
          "Montenegro",
          "Liechtenstein",
          "Djibouti",
          "Guam",
          "Suriname",
          "Iraq",
          "El Salvador",
          "Belize",
          "Uruguay",
          "Malawi",
          "Eswatini",
          "Kuwait",
          "Cote d'Ivoire",
          "Moldova",
          "Gambia",
          "Togo",
          "Haiti",
          "Zimbabwe",
          "Angola",
          "Madagascar",
          "Malta",
          "Nicaragua",
          "Rwanda",
          "Algeria",
          "Cabo Verde",
          "Gabon",
          "Guinea",
          "Seychelles",
          "Palestine",
          "Ethiopia",
          "Crimea",
          "Fiji",
          "Sudan",
          "Bolivia",
          "Republic of the Congo",
          "Burkina Faso",
          "Honduras",
          "Cayman Islands",
          "The Bahamas",
          "Saint Martin",
          "Belarus",
          "Timor-Leste",
          "Kyrgyzstan",
          "Myanmar",
          "Bermuda",
          "Barbados",
          "Solomon Islands",
          "Saint Lucia",
          "Azerbaijan",
          "Niger",
          "Bhutan",
          "Andorra",
          "Equatorial Guinea",
          "South Sudan",
          "Central African Republic",
          "American Samoa",
          "Samoa",
          "Libya",
          "Grenada",
          "Lesotho",
          "Mali",
          "Uzbekistan",
          "Guyana",
          "Syria",
          "Armenia",
          "Antigua and Barbuda",
          "Guinea-Bissau",
          "Sierra Leone",
          "Afghanistan",
          "Monaco",
          "Cook Islands",
          "Kiribati",
          "Tonga",
          "Micronesia",
          "Liberia",
          "Saint Vincent and the Grenadines",
          "British Virgin Islands",
          "New Caledonia",
          "Burundi",
          "Palau",
          "French Polynesia",
          "Vanuatu",
          "Chad",
          "Mauritania",
          "Marshall Islands",
          "Anguilla",
          "Niue",
          "Faroe Islands",
          "Somalia",
          "Comoros",
          "Turks and Caicos Islands",
          "Montserrat",
          "Saint Barthelemy",
          "Sao Tome and Principe",
          "Wallis and Futuna Islands",
          "Tanzania",
          "Dominica",
          "Saint Kitts and Nevis",
          "Sint Eustatius",
          "Cuba",
          "Jersey",
          "Macao"
         ],
         "locationmode": "country names",
         "locations": [
          "USA",
          "United Kingdom",
          "Germany",
          "Japan",
          "Denmark",
          "France",
          "Canada",
          "Sweden",
          "Spain",
          "Brazil",
          "India",
          "Australia",
          "Italy",
          "Netherlands",
          "Belgium",
          "Switzerland",
          "South Korea",
          "Israel",
          "Turkey",
          "Ireland",
          "Poland",
          "Mexico",
          "Slovenia",
          "Norway",
          "Austria",
          "China",
          "Russia",
          "Czech Republic",
          "Luxembourg",
          "Peru",
          "Finland",
          "Indonesia",
          "Portugal",
          "Singapore",
          "Slovakia",
          "Croatia",
          "Chile",
          "South Africa",
          "New Zealand",
          "Thailand",
          "Lithuania",
          "Greece",
          "Malaysia",
          "Latvia",
          "Philippines",
          "Iceland",
          "Bulgaria",
          "Romania",
          "Argentina",
          "Reunion",
          "Puerto Rico",
          "Hong Kong",
          "Colombia",
          "Estonia",
          "Costa Rica",
          "Bahrain",
          "Canary Islands",
          "Ecuador",
          "Vietnam",
          "Kenya",
          "Cyprus",
          "United Arab Emirates",
          "Brunei",
          "Bangladesh",
          "Panama",
          "Mauritius",
          "Pakistan",
          "French Guiana",
          "Guatemala",
          "Taiwan",
          "Ukraine",
          "Nigeria",
          "Qatar",
          "Aruba",
          "Jamaica",
          "Cambodia",
          "Egypt",
          "Northern Mariana Islands",
          "Papua New Guinea",
          "Ghana",
          "Paraguay",
          "Georgia",
          "Iran",
          "Dominican Republic",
          "Nepal",
          "Senegal",
          "Sri Lanka",
          "Martinique",
          "Saudi Arabia",
          "Gibraltar",
          "Kazakhstan",
          "Sint Maarten",
          "Mongolia",
          "Botswana",
          "Tunisia",
          "Curacao",
          "Serbia",
          "Guadeloupe",
          "Lebanon",
          "U.S. Virgin Islands",
          "Trinidad and Tobago",
          "Laos",
          "Morocco",
          "Bonaire",
          "Kosovo",
          "Zambia",
          "Albania",
          "Namibia",
          "Uganda",
          "Jordan",
          "Cameroon",
          "Bosnia and Herzegovina",
          "Mayotte",
          "Oman",
          "Mozambique",
          "Maldives",
          "Democratic Republic of the Congo",
          "North Macedonia",
          "Hungary",
          "Benin",
          "Venezuela",
          "Montenegro",
          "Liechtenstein",
          "Djibouti",
          "Guam",
          "Suriname",
          "Iraq",
          "El Salvador",
          "Belize",
          "Uruguay",
          "Malawi",
          "Eswatini",
          "Kuwait",
          "Cote d'Ivoire",
          "Moldova",
          "Gambia",
          "Togo",
          "Haiti",
          "Zimbabwe",
          "Angola",
          "Madagascar",
          "Malta",
          "Nicaragua",
          "Rwanda",
          "Algeria",
          "Cabo Verde",
          "Gabon",
          "Guinea",
          "Seychelles",
          "Palestine",
          "Ethiopia",
          "Crimea",
          "Fiji",
          "Sudan",
          "Bolivia",
          "Republic of the Congo",
          "Burkina Faso",
          "Honduras",
          "Cayman Islands",
          "The Bahamas",
          "Saint Martin",
          "Belarus",
          "Timor-Leste",
          "Kyrgyzstan",
          "Myanmar",
          "Bermuda",
          "Barbados",
          "Solomon Islands",
          "Saint Lucia",
          "Azerbaijan",
          "Niger",
          "Bhutan",
          "Andorra",
          "Equatorial Guinea",
          "South Sudan",
          "Central African Republic",
          "American Samoa",
          "Samoa",
          "Libya",
          "Grenada",
          "Lesotho",
          "Mali",
          "Uzbekistan",
          "Guyana",
          "Syria",
          "Armenia",
          "Antigua and Barbuda",
          "Guinea-Bissau",
          "Sierra Leone",
          "Afghanistan",
          "Monaco",
          "Cook Islands",
          "Kiribati",
          "Tonga",
          "Micronesia",
          "Liberia",
          "Saint Vincent and the Grenadines",
          "British Virgin Islands",
          "New Caledonia",
          "Burundi",
          "Palau",
          "French Polynesia",
          "Vanuatu",
          "Chad",
          "Mauritania",
          "Marshall Islands",
          "Anguilla",
          "Niue",
          "Faroe Islands",
          "Somalia",
          "Comoros",
          "Turks and Caicos Islands",
          "Montserrat",
          "Saint Barthelemy",
          "Sao Tome and Principe",
          "Wallis and Futuna Islands",
          "Tanzania",
          "Dominica",
          "Saint Kitts and Nevis",
          "Sint Eustatius",
          "Cuba",
          "Jersey",
          "Macao"
         ],
         "name": "",
         "type": "choropleth",
         "z": [
          15.338627545900644,
          14.90075894617425,
          13.745074145072593,
          13.40108391498303,
          13.37691101766213,
          13.30259775755973,
          13.284114812453574,
          12.487602079258675,
          12.409523563498647,
          12.360551842818232,
          12.300145696770063,
          12.182235791673826,
          12.12518249554548,
          12.049816417257402,
          12.044929240153417,
          11.957675386741295,
          11.940712899082884,
          11.683368416317284,
          11.52470580350576,
          11.512135152755784,
          11.419647219388624,
          11.408764229887884,
          11.326005351001017,
          11.286840090735097,
          11.285999770360558,
          11.225576670308568,
          11.186114408491255,
          10.977550968282825,
          10.90286865094238,
          10.899919448775261,
          10.8509668258663,
          10.790019862246007,
          10.767199954191426,
          10.76390610184365,
          10.709137184308531,
          10.705937467986523,
          10.70340175915424,
          10.695370855832223,
          10.629537452771782,
          10.59848302395369,
          10.58435970222046,
          10.556879877314014,
          10.548651743073922,
          10.22186855373718,
          10.119687049615907,
          10.019446703703723,
          9.962982124321767,
          9.955273225685358,
          9.895556182209848,
          9.889844913494969,
          9.812522917162035,
          9.803998654035386,
          9.745663467342562,
          9.60204456483431,
          9.42867236629317,
          9.293761980115255,
          9.272939513732704,
          9.155989777226102,
          9.041803370152845,
          9.00146947994869,
          8.926783114101351,
          8.88723835429314,
          8.854522203757432,
          8.846353043314327,
          8.799510901368867,
          8.77786371462117,
          8.567125560164447,
          8.56483984488359,
          8.537975730598767,
          8.525756422076725,
          8.525558107747866,
          8.510168576479273,
          8.46779284112111,
          8.327726166461412,
          8.268218880067506,
          8.211754397375197,
          8.204671828950811,
          8.17103418920548,
          8.153637486385282,
          8.079308192051961,
          8.073091199693154,
          8.066207568006265,
          8.014996894348302,
          7.996317231796746,
          7.99260665240021,
          7.982416346827733,
          7.980023592310645,
          7.979338895262328,
          7.932003152361385,
          7.925518979786926,
          7.906915488678587,
          7.904703913873747,
          7.855932199718614,
          7.84971375760487,
          7.821643126239982,
          7.757478766584179,
          7.757478766584179,
          7.744569809354496,
          7.741967899820685,
          7.688913336864796,
          7.65491704784832,
          7.647786045440933,
          7.644440761556566,
          7.600902459542082,
          7.396335293800808,
          7.394493107219038,
          7.3833681469923835,
          7.356918242356021,
          7.3277805384216315,
          7.311886164077165,
          7.311218384419629,
          7.2909747781429814,
          7.126087273299125,
          7.112327444710911,
          7.094234845924755,
          7.078341579557671,
          7.05617528410041,
          7.049254841255837,
          7.0317412587631285,
          7.016609683894219,
          6.9985096422506015,
          6.994849985833071,
          6.946975992135418,
          6.894670039433482,
          6.881411303642535,
          6.875232087276577,
          6.852242569051878,
          6.84587987526405,
          6.822197390620491,
          6.821107472256465,
          6.814542897259958,
          6.787844982309579,
          6.785587645007929,
          6.731018100482083,
          6.706862336602747,
          6.680854678790215,
          6.655440350367647,
          6.648984550024776,
          6.597145701886651,
          6.584791392385716,
          6.584791392385716,
          6.584791392385716,
          6.569481420414296,
          6.553933404025811,
          6.530877627725885,
          6.517671272912275,
          6.505784060128229,
          6.502790045915623,
          6.459904454377535,
          6.453624998892692,
          6.311734809152915,
          6.2166061010848646,
          6.139884552226255,
          6.1224928095143865,
          6.102558594613569,
          6.093569770045136,
          6.030685260261263,
          5.966146739123692,
          5.883322388488279,
          5.849324779946859,
          5.8377304471659395,
          5.831882477283517,
          5.746203190540153,
          5.627621113690637,
          5.545177444479562,
          5.521460917862246,
          5.497168225293202,
          5.488937726156687,
          5.459585514144159,
          5.298317366548036,
          5.272999558563747,
          5.209486152841421,
          5.176149732573829,
          5.170483995038151,
          5.159055299214529,
          5.081404364984463,
          5.075173815233827,
          5.062595033026967,
          5.0369526024136295,
          4.997212273764115,
          4.983606621708336,
          4.983606621708336,
          4.90527477843843,
          4.875197323201151,
          4.804021044733257,
          4.762173934797756,
          4.736198448394496,
          4.68213122712422,
          4.672828834461906,
          4.6443908991413725,
          4.6443908991413725,
          4.6443908991413725,
          4.634728988229636,
          4.5217885770490405,
          4.48863636973214,
          4.454347296253507,
          4.406719247264253,
          4.394449154672439,
          4.394449154672439,
          4.382026634673881,
          4.290459441148391,
          4.1588830833596715,
          4.007333185232471,
          3.9889840465642745,
          3.9512437185814275,
          3.6888794541139363,
          3.6375861597263857,
          3.6109179126442243,
          3.6109179126442243,
          3.4339872044851463,
          3.1780538303479458,
          3.1780538303479458,
          2.833213344056216,
          2.6390573296152584,
          2.3978952727983707,
          2.302585092994046,
          2.302585092994046,
          2.1972245773362196,
          1.3862943611198906,
          1.3862943611198906,
          0.6931471805599453,
          0,
          0
         ]
        }
       ],
       "layout": {
        "coloraxis": {
         "colorbar": {
          "title": {
           "text": "Log_Samples"
          }
         },
         "colorscale": [
          [
           0,
           "#0d0887"
          ],
          [
           0.1111111111111111,
           "#46039f"
          ],
          [
           0.2222222222222222,
           "#7201a8"
          ],
          [
           0.3333333333333333,
           "#9c179e"
          ],
          [
           0.4444444444444444,
           "#bd3786"
          ],
          [
           0.5555555555555556,
           "#d8576b"
          ],
          [
           0.6666666666666666,
           "#ed7953"
          ],
          [
           0.7777777777777778,
           "#fb9f3a"
          ],
          [
           0.8888888888888888,
           "#fdca26"
          ],
          [
           1,
           "#f0f921"
          ]
         ]
        },
        "geo": {
         "center": {},
         "domain": {
          "x": [
           0,
           1
          ],
          "y": [
           0,
           1
          ]
         }
        },
        "legend": {
         "tracegroupgap": 0
        },
        "margin": {
         "t": 60
        },
        "template": {
         "data": {
          "bar": [
           {
            "error_x": {
             "color": "#2a3f5f"
            },
            "error_y": {
             "color": "#2a3f5f"
            },
            "marker": {
             "line": {
              "color": "#E5ECF6",
              "width": 0.5
             },
             "pattern": {
              "fillmode": "overlay",
              "size": 10,
              "solidity": 0.2
             }
            },
            "type": "bar"
           }
          ],
          "barpolar": [
           {
            "marker": {
             "line": {
              "color": "#E5ECF6",
              "width": 0.5
             },
             "pattern": {
              "fillmode": "overlay",
              "size": 10,
              "solidity": 0.2
             }
            },
            "type": "barpolar"
           }
          ],
          "carpet": [
           {
            "aaxis": {
             "endlinecolor": "#2a3f5f",
             "gridcolor": "white",
             "linecolor": "white",
             "minorgridcolor": "white",
             "startlinecolor": "#2a3f5f"
            },
            "baxis": {
             "endlinecolor": "#2a3f5f",
             "gridcolor": "white",
             "linecolor": "white",
             "minorgridcolor": "white",
             "startlinecolor": "#2a3f5f"
            },
            "type": "carpet"
           }
          ],
          "choropleth": [
           {
            "colorbar": {
             "outlinewidth": 0,
             "ticks": ""
            },
            "type": "choropleth"
           }
          ],
          "contour": [
           {
            "colorbar": {
             "outlinewidth": 0,
             "ticks": ""
            },
            "colorscale": [
             [
              0,
              "#0d0887"
             ],
             [
              0.1111111111111111,
              "#46039f"
             ],
             [
              0.2222222222222222,
              "#7201a8"
             ],
             [
              0.3333333333333333,
              "#9c179e"
             ],
             [
              0.4444444444444444,
              "#bd3786"
             ],
             [
              0.5555555555555556,
              "#d8576b"
             ],
             [
              0.6666666666666666,
              "#ed7953"
             ],
             [
              0.7777777777777778,
              "#fb9f3a"
             ],
             [
              0.8888888888888888,
              "#fdca26"
             ],
             [
              1,
              "#f0f921"
             ]
            ],
            "type": "contour"
           }
          ],
          "contourcarpet": [
           {
            "colorbar": {
             "outlinewidth": 0,
             "ticks": ""
            },
            "type": "contourcarpet"
           }
          ],
          "heatmap": [
           {
            "colorbar": {
             "outlinewidth": 0,
             "ticks": ""
            },
            "colorscale": [
             [
              0,
              "#0d0887"
             ],
             [
              0.1111111111111111,
              "#46039f"
             ],
             [
              0.2222222222222222,
              "#7201a8"
             ],
             [
              0.3333333333333333,
              "#9c179e"
             ],
             [
              0.4444444444444444,
              "#bd3786"
             ],
             [
              0.5555555555555556,
              "#d8576b"
             ],
             [
              0.6666666666666666,
              "#ed7953"
             ],
             [
              0.7777777777777778,
              "#fb9f3a"
             ],
             [
              0.8888888888888888,
              "#fdca26"
             ],
             [
              1,
              "#f0f921"
             ]
            ],
            "type": "heatmap"
           }
          ],
          "heatmapgl": [
           {
            "colorbar": {
             "outlinewidth": 0,
             "ticks": ""
            },
            "colorscale": [
             [
              0,
              "#0d0887"
             ],
             [
              0.1111111111111111,
              "#46039f"
             ],
             [
              0.2222222222222222,
              "#7201a8"
             ],
             [
              0.3333333333333333,
              "#9c179e"
             ],
             [
              0.4444444444444444,
              "#bd3786"
             ],
             [
              0.5555555555555556,
              "#d8576b"
             ],
             [
              0.6666666666666666,
              "#ed7953"
             ],
             [
              0.7777777777777778,
              "#fb9f3a"
             ],
             [
              0.8888888888888888,
              "#fdca26"
             ],
             [
              1,
              "#f0f921"
             ]
            ],
            "type": "heatmapgl"
           }
          ],
          "histogram": [
           {
            "marker": {
             "pattern": {
              "fillmode": "overlay",
              "size": 10,
              "solidity": 0.2
             }
            },
            "type": "histogram"
           }
          ],
          "histogram2d": [
           {
            "colorbar": {
             "outlinewidth": 0,
             "ticks": ""
            },
            "colorscale": [
             [
              0,
              "#0d0887"
             ],
             [
              0.1111111111111111,
              "#46039f"
             ],
             [
              0.2222222222222222,
              "#7201a8"
             ],
             [
              0.3333333333333333,
              "#9c179e"
             ],
             [
              0.4444444444444444,
              "#bd3786"
             ],
             [
              0.5555555555555556,
              "#d8576b"
             ],
             [
              0.6666666666666666,
              "#ed7953"
             ],
             [
              0.7777777777777778,
              "#fb9f3a"
             ],
             [
              0.8888888888888888,
              "#fdca26"
             ],
             [
              1,
              "#f0f921"
             ]
            ],
            "type": "histogram2d"
           }
          ],
          "histogram2dcontour": [
           {
            "colorbar": {
             "outlinewidth": 0,
             "ticks": ""
            },
            "colorscale": [
             [
              0,
              "#0d0887"
             ],
             [
              0.1111111111111111,
              "#46039f"
             ],
             [
              0.2222222222222222,
              "#7201a8"
             ],
             [
              0.3333333333333333,
              "#9c179e"
             ],
             [
              0.4444444444444444,
              "#bd3786"
             ],
             [
              0.5555555555555556,
              "#d8576b"
             ],
             [
              0.6666666666666666,
              "#ed7953"
             ],
             [
              0.7777777777777778,
              "#fb9f3a"
             ],
             [
              0.8888888888888888,
              "#fdca26"
             ],
             [
              1,
              "#f0f921"
             ]
            ],
            "type": "histogram2dcontour"
           }
          ],
          "mesh3d": [
           {
            "colorbar": {
             "outlinewidth": 0,
             "ticks": ""
            },
            "type": "mesh3d"
           }
          ],
          "parcoords": [
           {
            "line": {
             "colorbar": {
              "outlinewidth": 0,
              "ticks": ""
             }
            },
            "type": "parcoords"
           }
          ],
          "pie": [
           {
            "automargin": true,
            "type": "pie"
           }
          ],
          "scatter": [
           {
            "fillpattern": {
             "fillmode": "overlay",
             "size": 10,
             "solidity": 0.2
            },
            "type": "scatter"
           }
          ],
          "scatter3d": [
           {
            "line": {
             "colorbar": {
              "outlinewidth": 0,
              "ticks": ""
             }
            },
            "marker": {
             "colorbar": {
              "outlinewidth": 0,
              "ticks": ""
             }
            },
            "type": "scatter3d"
           }
          ],
          "scattercarpet": [
           {
            "marker": {
             "colorbar": {
              "outlinewidth": 0,
              "ticks": ""
             }
            },
            "type": "scattercarpet"
           }
          ],
          "scattergeo": [
           {
            "marker": {
             "colorbar": {
              "outlinewidth": 0,
              "ticks": ""
             }
            },
            "type": "scattergeo"
           }
          ],
          "scattergl": [
           {
            "marker": {
             "colorbar": {
              "outlinewidth": 0,
              "ticks": ""
             }
            },
            "type": "scattergl"
           }
          ],
          "scattermapbox": [
           {
            "marker": {
             "colorbar": {
              "outlinewidth": 0,
              "ticks": ""
             }
            },
            "type": "scattermapbox"
           }
          ],
          "scatterpolar": [
           {
            "marker": {
             "colorbar": {
              "outlinewidth": 0,
              "ticks": ""
             }
            },
            "type": "scatterpolar"
           }
          ],
          "scatterpolargl": [
           {
            "marker": {
             "colorbar": {
              "outlinewidth": 0,
              "ticks": ""
             }
            },
            "type": "scatterpolargl"
           }
          ],
          "scatterternary": [
           {
            "marker": {
             "colorbar": {
              "outlinewidth": 0,
              "ticks": ""
             }
            },
            "type": "scatterternary"
           }
          ],
          "surface": [
           {
            "colorbar": {
             "outlinewidth": 0,
             "ticks": ""
            },
            "colorscale": [
             [
              0,
              "#0d0887"
             ],
             [
              0.1111111111111111,
              "#46039f"
             ],
             [
              0.2222222222222222,
              "#7201a8"
             ],
             [
              0.3333333333333333,
              "#9c179e"
             ],
             [
              0.4444444444444444,
              "#bd3786"
             ],
             [
              0.5555555555555556,
              "#d8576b"
             ],
             [
              0.6666666666666666,
              "#ed7953"
             ],
             [
              0.7777777777777778,
              "#fb9f3a"
             ],
             [
              0.8888888888888888,
              "#fdca26"
             ],
             [
              1,
              "#f0f921"
             ]
            ],
            "type": "surface"
           }
          ],
          "table": [
           {
            "cells": {
             "fill": {
              "color": "#EBF0F8"
             },
             "line": {
              "color": "white"
             }
            },
            "header": {
             "fill": {
              "color": "#C8D4E3"
             },
             "line": {
              "color": "white"
             }
            },
            "type": "table"
           }
          ]
         },
         "layout": {
          "annotationdefaults": {
           "arrowcolor": "#2a3f5f",
           "arrowhead": 0,
           "arrowwidth": 1
          },
          "autotypenumbers": "strict",
          "coloraxis": {
           "colorbar": {
            "outlinewidth": 0,
            "ticks": ""
           }
          },
          "colorscale": {
           "diverging": [
            [
             0,
             "#8e0152"
            ],
            [
             0.1,
             "#c51b7d"
            ],
            [
             0.2,
             "#de77ae"
            ],
            [
             0.3,
             "#f1b6da"
            ],
            [
             0.4,
             "#fde0ef"
            ],
            [
             0.5,
             "#f7f7f7"
            ],
            [
             0.6,
             "#e6f5d0"
            ],
            [
             0.7,
             "#b8e186"
            ],
            [
             0.8,
             "#7fbc41"
            ],
            [
             0.9,
             "#4d9221"
            ],
            [
             1,
             "#276419"
            ]
           ],
           "sequential": [
            [
             0,
             "#0d0887"
            ],
            [
             0.1111111111111111,
             "#46039f"
            ],
            [
             0.2222222222222222,
             "#7201a8"
            ],
            [
             0.3333333333333333,
             "#9c179e"
            ],
            [
             0.4444444444444444,
             "#bd3786"
            ],
            [
             0.5555555555555556,
             "#d8576b"
            ],
            [
             0.6666666666666666,
             "#ed7953"
            ],
            [
             0.7777777777777778,
             "#fb9f3a"
            ],
            [
             0.8888888888888888,
             "#fdca26"
            ],
            [
             1,
             "#f0f921"
            ]
           ],
           "sequentialminus": [
            [
             0,
             "#0d0887"
            ],
            [
             0.1111111111111111,
             "#46039f"
            ],
            [
             0.2222222222222222,
             "#7201a8"
            ],
            [
             0.3333333333333333,
             "#9c179e"
            ],
            [
             0.4444444444444444,
             "#bd3786"
            ],
            [
             0.5555555555555556,
             "#d8576b"
            ],
            [
             0.6666666666666666,
             "#ed7953"
            ],
            [
             0.7777777777777778,
             "#fb9f3a"
            ],
            [
             0.8888888888888888,
             "#fdca26"
            ],
            [
             1,
             "#f0f921"
            ]
           ]
          },
          "colorway": [
           "#636efa",
           "#EF553B",
           "#00cc96",
           "#ab63fa",
           "#FFA15A",
           "#19d3f3",
           "#FF6692",
           "#B6E880",
           "#FF97FF",
           "#FECB52"
          ],
          "font": {
           "color": "#2a3f5f"
          },
          "geo": {
           "bgcolor": "white",
           "lakecolor": "white",
           "landcolor": "#E5ECF6",
           "showlakes": true,
           "showland": true,
           "subunitcolor": "white"
          },
          "hoverlabel": {
           "align": "left"
          },
          "hovermode": "closest",
          "mapbox": {
           "style": "light"
          },
          "paper_bgcolor": "white",
          "plot_bgcolor": "#E5ECF6",
          "polar": {
           "angularaxis": {
            "gridcolor": "white",
            "linecolor": "white",
            "ticks": ""
           },
           "bgcolor": "#E5ECF6",
           "radialaxis": {
            "gridcolor": "white",
            "linecolor": "white",
            "ticks": ""
           }
          },
          "scene": {
           "xaxis": {
            "backgroundcolor": "#E5ECF6",
            "gridcolor": "white",
            "gridwidth": 2,
            "linecolor": "white",
            "showbackground": true,
            "ticks": "",
            "zerolinecolor": "white"
           },
           "yaxis": {
            "backgroundcolor": "#E5ECF6",
            "gridcolor": "white",
            "gridwidth": 2,
            "linecolor": "white",
            "showbackground": true,
            "ticks": "",
            "zerolinecolor": "white"
           },
           "zaxis": {
            "backgroundcolor": "#E5ECF6",
            "gridcolor": "white",
            "gridwidth": 2,
            "linecolor": "white",
            "showbackground": true,
            "ticks": "",
            "zerolinecolor": "white"
           }
          },
          "shapedefaults": {
           "line": {
            "color": "#2a3f5f"
           }
          },
          "ternary": {
           "aaxis": {
            "gridcolor": "white",
            "linecolor": "white",
            "ticks": ""
           },
           "baxis": {
            "gridcolor": "white",
            "linecolor": "white",
            "ticks": ""
           },
           "bgcolor": "#E5ECF6",
           "caxis": {
            "gridcolor": "white",
            "linecolor": "white",
            "ticks": ""
           }
          },
          "title": {
           "x": 0.05
          },
          "xaxis": {
           "automargin": true,
           "gridcolor": "white",
           "linecolor": "white",
           "ticks": "",
           "title": {
            "standoff": 15
           },
           "zerolinecolor": "white",
           "zerolinewidth": 2
          },
          "yaxis": {
           "automargin": true,
           "gridcolor": "white",
           "linecolor": "white",
           "ticks": "",
           "title": {
            "standoff": 15
           },
           "zerolinecolor": "white",
           "zerolinewidth": 2
          }
         }
        },
        "title": {
         "text": "Global Distribution of Samples"
        }
       }
      }
     },
     "metadata": {},
     "output_type": "display_data"
    }
   ],
   "source": [
    "import plotly.express as px\n",
    "\n",
    "# Optionally, if country names need standardization or are missing ISO codes, handle these cases\n",
    "# For this example, assume country names match the ISO country names used by Plotly\n",
    "\n",
    "# Load ISO codes if needed or manually match them\n",
    "# This step is skipped here for simplicity\n",
    "\n",
    "# Plotting the data\n",
    "fig = px.choropleth(country_counts,\n",
    "                    locations=\"Country\",\n",
    "                    locationmode='country names',\n",
    "                    color=\"Log_Samples\",\n",
    "                    hover_name=\"Country\",\n",
    "                    color_continuous_scale=px.colors.sequential.Plasma)\n",
    "\n",
    "fig.update_layout(title_text='Global Distribution of Samples')\n",
    "fig.show()"
   ]
  }
 ],
 "metadata": {
  "kernelspec": {
   "display_name": "CERI",
   "language": "python",
   "name": "python3"
  },
  "language_info": {
   "codemirror_mode": {
    "name": "ipython",
    "version": 3
   },
   "file_extension": ".py",
   "mimetype": "text/x-python",
   "name": "python",
   "nbconvert_exporter": "python",
   "pygments_lexer": "ipython3",
   "version": "3.10.13"
  }
 },
 "nbformat": 4,
 "nbformat_minor": 2
}
