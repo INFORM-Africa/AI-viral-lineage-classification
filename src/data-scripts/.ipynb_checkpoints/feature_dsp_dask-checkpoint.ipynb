{
 "cells": [
  {
   "cell_type": "code",
   "execution_count": 1,
   "metadata": {},
   "outputs": [],
   "source": [
    "import pandas as pd\n",
    "import numpy as np\n",
    "import numpy as np\n",
    "from scipy.signal import fftconvolve\n",
    "from concurrent.futures import ThreadPoolExecutor\n",
    "import numpy.fft as fft\n",
    "import dask.dataframe as dd\n",
    "from dask.diagnostics import ProgressBar"
   ]
  },
  {
   "cell_type": "code",
   "execution_count": 2,
   "metadata": {},
   "outputs": [
    {
     "data": {
      "text/html": [
       "<div>\n",
       "<style scoped>\n",
       "    .dataframe tbody tr th:only-of-type {\n",
       "        vertical-align: middle;\n",
       "    }\n",
       "\n",
       "    .dataframe tbody tr th {\n",
       "        vertical-align: top;\n",
       "    }\n",
       "\n",
       "    .dataframe thead th {\n",
       "        text-align: right;\n",
       "    }\n",
       "</style>\n",
       "<table border=\"1\" class=\"dataframe\">\n",
       "  <thead>\n",
       "    <tr style=\"text-align: right;\">\n",
       "      <th></th>\n",
       "      <th>Accession ID</th>\n",
       "      <th>Lineage</th>\n",
       "      <th>Collection date</th>\n",
       "      <th>Sequence</th>\n",
       "      <th>Test</th>\n",
       "    </tr>\n",
       "  </thead>\n",
       "  <tbody>\n",
       "    <tr>\n",
       "      <th>0</th>\n",
       "      <td>EPI_ISL_16823464</td>\n",
       "      <td>XBB.1.5</td>\n",
       "      <td>2023-01-31</td>\n",
       "      <td>TAAAGGTTTATACCTTCCCAGGTAACAAACCAACCAACTTTCGATC...</td>\n",
       "      <td>0</td>\n",
       "    </tr>\n",
       "    <tr>\n",
       "      <th>1</th>\n",
       "      <td>EPI_ISL_3342425</td>\n",
       "      <td>AY.116</td>\n",
       "      <td>2021-07-26</td>\n",
       "      <td>GTTCTCTAAACGAACTTTAAAATCTGTGTGGCTGTCACTCGGCTGC...</td>\n",
       "      <td>0</td>\n",
       "    </tr>\n",
       "    <tr>\n",
       "      <th>2</th>\n",
       "      <td>EPI_ISL_1715410</td>\n",
       "      <td>B.1.525</td>\n",
       "      <td>2021-01-12</td>\n",
       "      <td>AGGTAACAAACCAACCAACTTTCGATCTCTTGTAGATCTGTTCTCT...</td>\n",
       "      <td>1</td>\n",
       "    </tr>\n",
       "    <tr>\n",
       "      <th>3</th>\n",
       "      <td>EPI_ISL_515786</td>\n",
       "      <td>B.1.1.57</td>\n",
       "      <td>2020-07-29</td>\n",
       "      <td>TTCCCAGGTAACAAACCAACCAACTTTCGATCTCTTGTAGATCTGT...</td>\n",
       "      <td>0</td>\n",
       "    </tr>\n",
       "    <tr>\n",
       "      <th>4</th>\n",
       "      <td>EPI_ISL_17385094</td>\n",
       "      <td>BQ.1.1</td>\n",
       "      <td>2023-02-06</td>\n",
       "      <td>TACGGCGCCGATCTAAAGTCATTTGACTTAGGCGACGAGCTTGGCA...</td>\n",
       "      <td>1</td>\n",
       "    </tr>\n",
       "    <tr>\n",
       "      <th>...</th>\n",
       "      <td>...</td>\n",
       "      <td>...</td>\n",
       "      <td>...</td>\n",
       "      <td>...</td>\n",
       "      <td>...</td>\n",
       "    </tr>\n",
       "    <tr>\n",
       "      <th>47317</th>\n",
       "      <td>EPI_ISL_15963061</td>\n",
       "      <td>CP.5</td>\n",
       "      <td>2022-11-01</td>\n",
       "      <td>TTGTAGATCTGTTCTCTAAACGAACTTTAAAATCTGTGTGGCTGTC...</td>\n",
       "      <td>1</td>\n",
       "    </tr>\n",
       "    <tr>\n",
       "      <th>47322</th>\n",
       "      <td>EPI_ISL_15963067</td>\n",
       "      <td>BE.7</td>\n",
       "      <td>2022-11-05</td>\n",
       "      <td>TTGTAGATCTGTTCTCTAAACGAACTTTAAAATCTGTGTGGCTGTC...</td>\n",
       "      <td>1</td>\n",
       "    </tr>\n",
       "    <tr>\n",
       "      <th>47324</th>\n",
       "      <td>EPI_ISL_15963069</td>\n",
       "      <td>BE.7</td>\n",
       "      <td>2022-11-05</td>\n",
       "      <td>CTAAACGANCTTTAAAATCTGTGTGGCTGTCNCTCGGCTGCATNCT...</td>\n",
       "      <td>1</td>\n",
       "    </tr>\n",
       "    <tr>\n",
       "      <th>47344</th>\n",
       "      <td>EPI_ISL_18407436</td>\n",
       "      <td>BA.1</td>\n",
       "      <td>2022-07-26</td>\n",
       "      <td>TTGTAGATCTGTTCTCTAAACGAACNTGAAAATCTGTGTGGCTGTC...</td>\n",
       "      <td>1</td>\n",
       "    </tr>\n",
       "    <tr>\n",
       "      <th>47350</th>\n",
       "      <td>EPI_ISL_15426702</td>\n",
       "      <td>BA.4</td>\n",
       "      <td>2022-08-17</td>\n",
       "      <td>TTGTAGATCTGTTCTCTAAACGAACNNNNNNNNNNNNNNNNNNNNN...</td>\n",
       "      <td>1</td>\n",
       "    </tr>\n",
       "  </tbody>\n",
       "</table>\n",
       "<p>22711 rows × 5 columns</p>\n",
       "</div>"
      ],
      "text/plain": [
       "           Accession ID   Lineage Collection date  \\\n",
       "0      EPI_ISL_16823464   XBB.1.5      2023-01-31   \n",
       "1       EPI_ISL_3342425    AY.116      2021-07-26   \n",
       "2       EPI_ISL_1715410   B.1.525      2021-01-12   \n",
       "3        EPI_ISL_515786  B.1.1.57      2020-07-29   \n",
       "4      EPI_ISL_17385094    BQ.1.1      2023-02-06   \n",
       "...                 ...       ...             ...   \n",
       "47317  EPI_ISL_15963061      CP.5      2022-11-01   \n",
       "47322  EPI_ISL_15963067      BE.7      2022-11-05   \n",
       "47324  EPI_ISL_15963069      BE.7      2022-11-05   \n",
       "47344  EPI_ISL_18407436      BA.1      2022-07-26   \n",
       "47350  EPI_ISL_15426702      BA.4      2022-08-17   \n",
       "\n",
       "                                                Sequence  Test  \n",
       "0      TAAAGGTTTATACCTTCCCAGGTAACAAACCAACCAACTTTCGATC...     0  \n",
       "1      GTTCTCTAAACGAACTTTAAAATCTGTGTGGCTGTCACTCGGCTGC...     0  \n",
       "2      AGGTAACAAACCAACCAACTTTCGATCTCTTGTAGATCTGTTCTCT...     1  \n",
       "3      TTCCCAGGTAACAAACCAACCAACTTTCGATCTCTTGTAGATCTGT...     0  \n",
       "4      TACGGCGCCGATCTAAAGTCATTTGACTTAGGCGACGAGCTTGGCA...     1  \n",
       "...                                                  ...   ...  \n",
       "47317  TTGTAGATCTGTTCTCTAAACGAACTTTAAAATCTGTGTGGCTGTC...     1  \n",
       "47322  TTGTAGATCTGTTCTCTAAACGAACTTTAAAATCTGTGTGGCTGTC...     1  \n",
       "47324  CTAAACGANCTTTAAAATCTGTGTGGCTGTCNCTCGGCTGCATNCT...     1  \n",
       "47344  TTGTAGATCTGTTCTCTAAACGAACNTGAAAATCTGTGTGGCTGTC...     1  \n",
       "47350  TTGTAGATCTGTTCTCTAAACGAACNNNNNNNNNNNNNNNNNNNNN...     1  \n",
       "\n",
       "[22711 rows x 5 columns]"
      ]
     },
     "execution_count": 2,
     "metadata": {},
     "output_type": "execute_result"
    }
   ],
   "source": [
    "data = pd.read_parquet('../../data/processed/genomes.parquet', engine='pyarrow')  # You can use 'fastparquet' as the engine\n",
    "data"
   ]
  },
  {
   "cell_type": "code",
   "execution_count": 3,
   "metadata": {},
   "outputs": [],
   "source": [
    "data['Sequence'] = data['Sequence'].str.replace('[^ACTG]', '', regex=True)"
   ]
  },
  {
   "cell_type": "code",
   "execution_count": 4,
   "metadata": {},
   "outputs": [],
   "source": [
    "def numMappingReal(sq):\n",
    "    # Mapping for each character\n",
    "    mapping = {'A': -1.5, 'C': 0.5, 'G': -0.5, 'T': 1.5}\n",
    "\n",
    "    # Convert sequence to upper case for case-insensitive comparison\n",
    "    sq_upper = sq.upper()\n",
    "\n",
    "    # Using list comprehension to create the numerical sequence\n",
    "    numSeq = [mapping[char] if char in mapping else 0 for char in sq_upper]\n",
    "\n",
    "    return numSeq\n",
    "\n",
    "def process_sequence(seq):\n",
    "    \"\"\"\n",
    "    Process a single sequence - this includes mapping, length normalization,\n",
    "    and computing the Fourier transform and magnitude spectrum.\n",
    "    \n",
    "    \"\"\"\n",
    "    \n",
    "    mLen = 29586\n",
    "    \n",
    "    # Map the sequence using a hypothetical numMappingPP function\n",
    "    ns = numMappingReal(seq)  # You need to define numMappingPP\n",
    "\n",
    "    # Length normalization\n",
    "    I = mLen - len(ns)\n",
    "    if I > 0:\n",
    "        ns_temp = np.pad(ns, (I, 0), 'constant', constant_values=(0,))  # Extend at the beginning\n",
    "        ns_new = ns_temp[I:]  # Adjust the sequence length\n",
    "    elif I < 0:\n",
    "        ns_new = ns[:mLen]  # Truncate the sequence\n",
    "    else:\n",
    "        ns_new = ns\n",
    "\n",
    "    # Fourier transform and magnitude spectrum\n",
    "    f_transform = fft.fft(ns_new)\n",
    "    magnitude_spectrum = np.abs(f_transform)\n",
    "\n",
    "    return magnitude_spectrum"
   ]
  },
  {
   "cell_type": "code",
   "execution_count": 5,
   "metadata": {},
   "outputs": [
    {
     "name": "stdout",
     "output_type": "stream",
     "text": [
      "[########################################] | 100% Completed | 184.91 s\n"
     ]
    }
   ],
   "source": [
    "trans = []\n",
    "for genome in data[\"Sequence\"]:\n",
    "    trans.append(process_sequence(genome)\n",
    "computed_result_df = pd.DataFrame(trans)"
   ]
  },
  {
   "cell_type": "code",
   "execution_count": 9,
   "metadata": {},
   "outputs": [],
   "source": [
    "expanded_df[\"Target\"] = data[\"Lineage\"].tolist()\n",
    "expanded_df[\"Test\"] = data[\"Test\"].tolist()"
   ]
  },
  {
   "cell_type": "code",
   "execution_count": 10,
   "metadata": {},
   "outputs": [
    {
     "name": "stderr",
     "output_type": "stream",
     "text": [
      "/opt/conda/lib/python3.10/site-packages/pandas/io/parquet.py:190: UserWarning: The DataFrame has column names of mixed type. They will be converted to strings and not roundtrip correctly.\n",
      "  table = self.api.Table.from_pandas(df, **from_pandas_kwargs)\n"
     ]
    }
   ],
   "source": [
    "expanded_df.to_parquet('../../data/features/dsp_real.parquet', engine='pyarrow')"
   ]
  }
 ],
 "metadata": {
  "kernelspec": {
   "display_name": "Python 3 (ipykernel)",
   "language": "python",
   "name": "python3"
  },
  "language_info": {
   "codemirror_mode": {
    "name": "ipython",
    "version": 3
   },
   "file_extension": ".py",
   "mimetype": "text/x-python",
   "name": "python",
   "nbconvert_exporter": "python",
   "pygments_lexer": "ipython3",
   "version": "3.9.7"
  }
 },
 "nbformat": 4,
 "nbformat_minor": 4
}
