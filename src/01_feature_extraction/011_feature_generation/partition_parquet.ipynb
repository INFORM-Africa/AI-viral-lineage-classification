{
 "cells": [
  {
   "cell_type": "code",
   "execution_count": 1,
   "metadata": {},
   "outputs": [],
   "source": [
    "import dask.dataframe as dd\n",
    "import pyarrow as pa\n",
    "\n",
    "# Define the schema for the DataFrame\n",
    "schema = pa.schema([\n",
    "    ('Accession ID', pa.string()),\n",
    "    ('Sequence', pa.string()),\n",
    "    ('Target', pa.int64()),\n",
    "    ('Train', pa.int64()),\n",
    "    ('Lineage', pa.string())  # Treat 'category' as 'string' for compatibility\n",
    "])\n",
    "\n",
    "# Specify the path to the original large Parquet file\n",
    "data_path = '../../../data/sequences/SARS-CoV-2.parquet'\n",
    "\n",
    "# Specify the output directory for the partitioned Parquet files\n",
    "output_path = '../../../data/sequences/p_24'\n",
    "\n",
    "# Read the original Parquet file using Dask\n",
    "df = dd.read_parquet(data_path, engine='pyarrow')\n",
    "\n",
    "# Repartition the DataFrame into 16 partitions\n",
    "df = df.repartition(npartitions=24)\n",
    "\n",
    "# Write the partitioned data back to Parquet files in the specified directory\n",
    "df.to_parquet(output_path, write_index=False, engine='pyarrow', schema=schema)"
   ]
  }
 ],
 "metadata": {
  "kernelspec": {
   "display_name": "CERI",
   "language": "python",
   "name": "python3"
  },
  "language_info": {
   "codemirror_mode": {
    "name": "ipython",
    "version": 3
   },
   "file_extension": ".py",
   "mimetype": "text/x-python",
   "name": "python",
   "nbconvert_exporter": "python",
   "pygments_lexer": "ipython3",
   "version": "3.10.13"
  }
 },
 "nbformat": 4,
 "nbformat_minor": 2
}
