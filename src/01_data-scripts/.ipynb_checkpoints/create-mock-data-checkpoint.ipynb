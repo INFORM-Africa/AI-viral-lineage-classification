{
 "cells": [
  {
   "cell_type": "code",
   "execution_count": 2,
   "id": "b9ee38a3-bb80-42bb-8912-22d12c387287",
   "metadata": {},
   "outputs": [],
   "source": [
    "import pandas as pd\n",
    "import numpy as np"
   ]
  },
  {
   "cell_type": "code",
   "execution_count": 3,
   "id": "7e4090bb-cc15-4540-a460-d096cee31409",
   "metadata": {},
   "outputs": [],
   "source": [
    "data = pd.read_parquet('../../data/processed/cov-19.parquet', engine='pyarrow')  # You can use 'fastparquet' as the engine"
   ]
  },
  {
   "cell_type": "code",
   "execution_count": 4,
   "id": "e5ee61af-a322-48c0-a045-a8acc307afb4",
   "metadata": {},
   "outputs": [],
   "source": [
    "mock_data = data[:1000]"
   ]
  },
  {
   "cell_type": "code",
   "execution_count": 5,
   "id": "736d82c9-0409-4064-afc3-b8cbd9475a21",
   "metadata": {},
   "outputs": [],
   "source": [
    "mock_data.to_parquet('../../data/features/mock_data.parquet', engine='pyarrow')"
   ]
  }
 ],
 "metadata": {
  "kernelspec": {
   "display_name": "Python 3 (ipykernel)",
   "language": "python",
   "name": "python3"
  },
  "language_info": {
   "codemirror_mode": {
    "name": "ipython",
    "version": 3
   },
   "file_extension": ".py",
   "mimetype": "text/x-python",
   "name": "python",
   "nbconvert_exporter": "python",
   "pygments_lexer": "ipython3",
   "version": "3.10.8"
  }
 },
 "nbformat": 4,
 "nbformat_minor": 5
}
