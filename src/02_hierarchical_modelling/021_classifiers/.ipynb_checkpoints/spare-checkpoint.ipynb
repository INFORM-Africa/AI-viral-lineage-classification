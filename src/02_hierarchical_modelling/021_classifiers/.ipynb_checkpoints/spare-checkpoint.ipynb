{
 "cells": [
  {
   "cell_type": "code",
   "execution_count": null,
   "id": "ff3d77a5-7bdd-4b23-ad0b-97d99563c3d4",
   "metadata": {},
   "outputs": [],
   "source": [
    "# import pygraphviz as pgv\n",
    "# from IPython.display import Image\n",
    "\n",
    "# # def build_tree(paths):\n",
    "# #     tree = pgv.AGraph(directed=True, rankdir='LR')  # Set graph attribute for left-to-right layout\n",
    "# #     for path in paths:\n",
    "# #         levels = path.split('.')\n",
    "# #         for i in range(len(levels)):\n",
    "# #             node = '.'.join(levels[:i+1])\n",
    "# #             tree.add_node(node)\n",
    "# #             if i > 0:\n",
    "# #                 parent_node = '.'.join(levels[:i])\n",
    "# #                 tree.add_edge(parent_node, node)\n",
    "# #     return tree\n",
    "\n",
    "# def build_tree(paths):\n",
    "#     tree = pgv.AGraph(directed=True, rankdir='LR')  # Graph with left-to-right layout\n",
    "#     for path in paths:\n",
    "#         levels = path.split('.')\n",
    "#         for i in range(len(levels)):\n",
    "#             # The full node identifier (path)\n",
    "#             full_node = '.'.join(levels[:i+1])\n",
    "#             # The label for the node\n",
    "#             label = levels[i]\n",
    "#             tree.add_node(full_node, label=label)\n",
    "#             if i > 0:\n",
    "#                 # The full identifier for the parent node\n",
    "#                 parent_node = '.'.join(levels[:i])\n",
    "#                 tree.add_edge(parent_node, full_node)\n",
    "#     return tree\n",
    "\n",
    "# # List of your paths\n",
    "# paths = simple_lineages\n",
    "\n",
    "# # Build the tree\n",
    "# tree = build_tree(paths)\n",
    "\n",
    "# # Use 'dot' layout engine for a hierarchical layout\n",
    "# tree.layout(prog='dot')\n",
    "\n",
    "# # Render the tree to a file and display it\n",
    "# output_path = 'tree.png'\n",
    "# tree.draw(output_path)\n",
    "# Image(output_path)"
   ]
  }
 ],
 "metadata": {
  "kernelspec": {
   "display_name": "Python 3 (ipykernel)",
   "language": "python",
   "name": "python3"
  },
  "language_info": {
   "codemirror_mode": {
    "name": "ipython",
    "version": 3
   },
   "file_extension": ".py",
   "mimetype": "text/x-python",
   "name": "python",
   "nbconvert_exporter": "python",
   "pygments_lexer": "ipython3",
   "version": "3.10.8"
  }
 },
 "nbformat": 4,
 "nbformat_minor": 5
}
