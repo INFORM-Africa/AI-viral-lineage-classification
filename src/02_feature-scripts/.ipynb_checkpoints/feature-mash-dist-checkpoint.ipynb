{
 "cells": [
  {
   "cell_type": "code",
   "execution_count": 1,
   "id": "b0e3680f-9f0b-4557-93c7-dbf2e681f99d",
   "metadata": {},
   "outputs": [],
   "source": [
    "import pandas as pd\n",
    "import numpy as np\n",
    "from scipy.spatial.distance import pdist, squareform\n",
    "import numba\n",
    "import argparse\n",
    "import time\n",
    "from numba import jit\n",
    "from tqdm import tqdm"
   ]
  },
  {
   "cell_type": "code",
   "execution_count": 2,
   "id": "8dadf354-1623-444f-94b5-292c4a9e9875",
   "metadata": {},
   "outputs": [],
   "source": [
    "data = pd.read_parquet(f'../../data/features/MASH_remove_21.parquet', engine='pyarrow')  # You can use 'fastparquet' as the engine\n",
    "\n",
    "targets = data[\"Target\"]\n",
    "train = data[\"Train\"]\n",
    "\n",
    "pair_data = data[data[\"Train\"] == 0]\n",
    "\n",
    "data = data.drop(columns=[\"Train\", \"Target\"]).to_numpy().astype(np.float32)\n",
    "pair_data = pair_data.drop(columns=[\"Train\", \"Target\"]).to_numpy().astype(np.float32)"
   ]
  },
  {
   "cell_type": "code",
   "execution_count": 3,
   "id": "d9761674-e2bc-4dea-b8f1-7850d94e16ef",
   "metadata": {},
   "outputs": [],
   "source": [
    "@jit(nopython=True)\n",
    "def calculate_jaccard_index(sketch1, sketch2):\n",
    "    \"\"\"\n",
    "    Efficiently calculate the Jaccard index between two sorted MinHash sketches.\n",
    "    \n",
    "    :param sketch1: First sorted MinHash sketch as a numpy array.\n",
    "    :param sketch2: Second sorted MinHash sketch as a numpy array.\n",
    "    :return: The estimated Jaccard index.\n",
    "    \"\"\"\n",
    "    shared_hashes = 0  # Intersection\n",
    "    total_hashes = 0   # Union\n",
    "    i, j = 0, 0\n",
    "    \n",
    "    while i < len(sketch1) and j < len(sketch2):\n",
    "        if sketch1[i] == sketch2[j]:\n",
    "            shared_hashes += 1\n",
    "            i += 1\n",
    "            j += 1\n",
    "        elif sketch1[i] < sketch2[j]:\n",
    "            i += 1\n",
    "        else:\n",
    "            j += 1\n",
    "        total_hashes += 1\n",
    "\n",
    "    # Include any remaining hashes from both sketches\n",
    "    total_hashes += len(sketch1[i:]) + len(sketch2[j:])\n",
    "\n",
    "    # Calculate the Jaccard index\n",
    "    jaccard_index = shared_hashes / total_hashes if total_hashes > 0 else 0\n",
    "    \n",
    "    return jaccard_index"
   ]
  },
  {
   "cell_type": "code",
   "execution_count": 4,
   "id": "ebbbffc6-b44f-4e81-850a-287e1c9229b3",
   "metadata": {},
   "outputs": [
    {
     "name": "stdout",
     "output_type": "stream",
     "text": [
      "The Mash distance is: 0.002392438877940318\n"
     ]
    }
   ],
   "source": [
    "def calculate_mash_distance(sketch1, sketch2, k):\n",
    "    \"\"\"\n",
    "    Calculate the Mash distance between two MinHash sketches.\n",
    "\n",
    "    :param sketch1: First MinHash sketch as a numpy array.\n",
    "    :param sketch2: Second MinHash sketch as a numpy array.\n",
    "    :param k: k-mer size used to create the MinHash sketches.\n",
    "    :return: The Mash distance.\n",
    "    \"\"\"\n",
    "    start = time.time()\n",
    "    \n",
    "    jaccard_estimate = calculate_jaccard_index(sketch1, sketch2)\n",
    "    # Calculate the Mash distance using the formula\n",
    "    # Guard against log(0) by maxing jaccard_estimate with a very small number\n",
    "    jaccard_estimate = max(jaccard_estimate, 1e-10)\n",
    "    mash_distance = - (1 / k) * np.log((2 * jaccard_estimate) / (1 + jaccard_estimate))\n",
    "\n",
    "    return mash_distance\n",
    "\n",
    "# Example usage:\n",
    "# Assuming we have two sketches, sketch1 and sketch2, and a k-mer size k\n",
    "sketch1 = pair_data[0]  # Replace with actual MinHash sketch values\n",
    "sketch2 = pair_data[1]  # Replace with actual MinHash sketch values\n",
    "k = 21  # Example k-mer size\n",
    "\n",
    "distance = calculate_mash_distance(sketch1, sketch2, k)\n",
    "print(f\"The Mash distance is: {distance}\")"
   ]
  },
  {
   "cell_type": "code",
   "execution_count": 17,
   "id": "3e4dbdf3-9e3a-4852-92f3-51c36bd0199f",
   "metadata": {},
   "outputs": [
    {
     "name": "stdout",
     "output_type": "stream",
     "text": [
      "[########################################] | 100% Completed | 16m 47s\n"
     ]
    }
   ],
   "source": [
    "import dask.array as da\n",
    "from dask import delayed, compute\n",
    "import numpy as np\n",
    "from dask.diagnostics import ProgressBar\n",
    "\n",
    "def calculate_distances_for_sketch(sketch1, pair_data, k):\n",
    "    \"\"\"\n",
    "    Calculate the Mash distances between a single sketch and an array of sketches.\n",
    "\n",
    "    :param sketch1: The single MinHash sketch to compare against pair_data.\n",
    "    :param pair_data: Array of MinHash sketches to compare with sketch1.\n",
    "    :param k: k-mer size used to create the MinHash sketches.\n",
    "    :return: A list of Mash distances.\n",
    "    \"\"\"\n",
    "    return [calculate_mash_distance(sketch1, sketch2, k) for sketch2 in pair_data]\n",
    "\n",
    "def calculate_distance_matrix(data, pair_data, k):\n",
    "    \"\"\"\n",
    "    Calculate a matrix of Mash distances between two arrays of sketches using Dask for parallel computation.\n",
    "\n",
    "    :param data: First array of MinHash sketches.\n",
    "    :param pair_data: Second array of MinHash sketches to which to compare the first array.\n",
    "    :param k: k-mer size used to create the MinHash sketches.\n",
    "    :return: A Dask array of Mash distances.\n",
    "    \"\"\"\n",
    "    delayed_rows = []  # Initialize outside the loop\n",
    "\n",
    "    # Create a list of delayed computations for each row\n",
    "    for sketch1 in data:\n",
    "        delayed_row = delayed(calculate_distances_for_sketch)(sketch1, pair_data, k)\n",
    "        delayed_rows.append(delayed_row)\n",
    "\n",
    "    progress_bar = ProgressBar()\n",
    "    progress_bar.register()\n",
    "\n",
    "    # Compute all rows in parallel and concatenate the results\n",
    "    with progress_bar:\n",
    "        distance_matrix = compute(*delayed_rows, scheduler='processes')\n",
    "\n",
    "    return np.vstack(distance_matrix)\n",
    "\n",
    "distance_matrix = calculate_distance_matrix(data, pair_data, k)"
   ]
  },
  {
   "cell_type": "code",
   "execution_count": 19,
   "id": "29b7ca25-8e79-41bb-9cbc-f9234d327688",
   "metadata": {},
   "outputs": [],
   "source": [
    "distance_matrix_np = distance_matrix.compute()\n",
    "\n",
    "# Now, create a pandas DataFrame from the NumPy array\n",
    "distance_df = pd.DataFrame(distance_matrix_np)"
   ]
  },
  {
   "cell_type": "code",
   "execution_count": 20,
   "id": "21649329-169c-4cb4-9ac4-33fb2cab70b6",
   "metadata": {},
   "outputs": [],
   "source": [
    "distance_df = pd.DataFrame(distance_matrix_np)"
   ]
  },
  {
   "cell_type": "code",
   "execution_count": 22,
   "id": "b20d45b3-7c5f-46ce-85c4-d897e1b07e53",
   "metadata": {},
   "outputs": [],
   "source": [
    "distance_df[\"Target\"] = targets.tolist()\n",
    "distance_df[\"Train\"] = train.tolist()"
   ]
  },
  {
   "cell_type": "code",
   "execution_count": 23,
   "id": "6bef24be-3e77-4e5a-9289-66391a8166b5",
   "metadata": {},
   "outputs": [
    {
     "name": "stderr",
     "output_type": "stream",
     "text": [
      "/home/danielvanzyl@su/CERI/lib/python3.9/site-packages/pandas/io/parquet.py:190: UserWarning: The DataFrame has column names of mixed type. They will be converted to strings and not roundtrip correctly.\n",
      "  table = self.api.Table.from_pandas(df, **from_pandas_kwargs)\n"
     ]
    }
   ],
   "source": [
    "distance_df.to_parquet(f'../../data/features/mash_distance.parquet', engine='pyarrow')"
   ]
  }
 ],
 "metadata": {
  "kernelspec": {
   "display_name": "Python (CERI)",
   "language": "python",
   "name": "ceri"
  },
  "language_info": {
   "codemirror_mode": {
    "name": "ipython",
    "version": 3
   },
   "file_extension": ".py",
   "mimetype": "text/x-python",
   "name": "python",
   "nbconvert_exporter": "python",
   "pygments_lexer": "ipython3",
   "version": "3.9.7"
  }
 },
 "nbformat": 4,
 "nbformat_minor": 5
}
