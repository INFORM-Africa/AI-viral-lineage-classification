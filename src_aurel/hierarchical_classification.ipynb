{
 "cells": [
  {
   "cell_type": "code",
   "execution_count": 47,
   "metadata": {},
   "outputs": [],
   "source": [
    "import utils, os\n",
    "from classifiers import metrics as hmetrics\n",
    "from model_selection import train_test_split\n",
    "from sklearn.ensemble import RandomForestClassifier\n",
    "from preprocessing.read_data import normalize_hierarchies\n",
    "from classifiers import LocalClassifierPerLevel, LocalClassifierPerNode, LocalClassifierPerParentNode"
   ]
  },
  {
   "cell_type": "code",
   "execution_count": 21,
   "metadata": {},
   "outputs": [],
   "source": [
    "settings = utils.load_settings(path=\"settings_sample.json\")\n",
    "features_dir = settings[\"features_dir\"]\n",
    "cleaned_data_dir = settings[\"cleaned_data_dir\"]\n",
    "reports_dir = settings[\"reports_dir\"]\n",
    "trials = settings[\"optuna_trials\"]\n",
    "trials = 1"
   ]
  },
  {
   "cell_type": "code",
   "execution_count": 23,
   "metadata": {},
   "outputs": [],
   "source": [
    "X_murugaiah = utils.read_parquet_to_np(os.path.join(features_dir, \"murugaiah_features.parquet\"))\n",
    "y = utils.read_parquet_to_np(os.path.join(cleaned_data_dir, \"hierarchical_labels.parquet\"))\n",
    "y = normalize_hierarchies(y[:, 0])"
   ]
  },
  {
   "cell_type": "code",
   "execution_count": 44,
   "metadata": {},
   "outputs": [],
   "source": [
    "rfc = RandomForestClassifier()\n",
    "X_train, X_test, Y_train, Y_test = train_test_split(X_murugaiah, y)"
   ]
  },
  {
   "cell_type": "markdown",
   "metadata": {},
   "source": [
    "# Local Classifier Per Node"
   ]
  },
  {
   "cell_type": "code",
   "execution_count": null,
   "metadata": {},
   "outputs": [],
   "source": [
    "lcpn_classifier = LocalClassifierPerNode(\n",
    "    local_classifier=rfc,\n",
    "    replace_classifiers=False,\n",
    "    binary_policy=\"inclusive\",\n",
    "    edge_list=\"./hierarchy.csv\",\n",
    "    verbose=0,\n",
    ")\n",
    "\n",
    "# Train local classifier per node\n",
    "lcpn_classifier.fit(X_train, Y_train)\n",
    "\n",
    "# Predict\n",
    "predictions = lcpn_classifier.predict(X_test)\n",
    "print(hmetrics.h_classification_report(Y_test, predictions))"
   ]
  },
  {
   "cell_type": "markdown",
   "metadata": {},
   "source": [
    "# Local Classifier Per Parent Node"
   ]
  },
  {
   "cell_type": "code",
   "execution_count": null,
   "metadata": {},
   "outputs": [],
   "source": [
    "lcppn_classifier = LocalClassifierPerParentNode(\n",
    "    local_classifier=rfc, \n",
    "    replace_classifiers=False,\n",
    "    # edge_list=\"./hierarchy.csv\",\n",
    ")\n",
    "\n",
    "# Train local classifier per node\n",
    "lcppn_classifier.fit(X_train, Y_train)\n",
    "\n",
    "# Predict\n",
    "predictions = lcppn_classifier.predict(X_test)\n",
    "print(hmetrics.h_classification_report(Y_test, predictions))"
   ]
  },
  {
   "cell_type": "markdown",
   "metadata": {},
   "source": [
    "# Local Classifier Per Level"
   ]
  },
  {
   "cell_type": "code",
   "execution_count": null,
   "metadata": {},
   "outputs": [],
   "source": [
    "lcpl_classifier = LocalClassifierPerLevel(\n",
    "    local_classifier=rfc, \n",
    "    replace_classifiers=False,\n",
    "    # edge_list=\"./hierarchy.csv\",\n",
    ")\n",
    "\n",
    "# Train local classifier per level\n",
    "lcpl_classifier.fit(X_train, Y_train)\n",
    "\n",
    "# Predict\n",
    "predictions = lcpl_classifier.predict(X_test)\n",
    "print(hmetrics.h_classification_report(Y_test, predictions))"
   ]
  }
 ],
 "metadata": {
  "kernelspec": {
   "display_name": "dl",
   "language": "python",
   "name": "python3"
  },
  "language_info": {
   "codemirror_mode": {
    "name": "ipython",
    "version": 3
   },
   "file_extension": ".py",
   "mimetype": "text/x-python",
   "name": "python",
   "nbconvert_exporter": "python",
   "pygments_lexer": "ipython3",
   "version": "3.11.0"
  }
 },
 "nbformat": 4,
 "nbformat_minor": 2
}
