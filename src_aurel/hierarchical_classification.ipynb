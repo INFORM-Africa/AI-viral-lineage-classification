{
 "cells": [
  {
   "cell_type": "code",
   "execution_count": null,
   "metadata": {},
   "outputs": [],
   "source": [
    "from classifiers import LocalClassifierPerLevel, LocalClassifierPerNode, LocalClassifierPerParentNode\n",
    "from classifiers import Explainer\n",
    "from classifiers import datasets, metrics as hmetrics\n",
    "import shap\n",
    "from sklearn.ensemble import RandomForestClassifier\n",
    "from sklearn import metrics as metrics"
   ]
  },
  {
   "cell_type": "code",
   "execution_count": null,
   "metadata": {},
   "outputs": [],
   "source": [
    "# Load train and test splits\n",
    "X_train, X_test, Y_train, Y_test = datasets.load_platypus()\n",
    "\n",
    "# Use random forest classifiers for every node\n",
    "rfc = RandomForestClassifier()"
   ]
  },
  {
   "cell_type": "code",
   "execution_count": null,
   "metadata": {},
   "outputs": [],
   "source": [
    "# LocalClassifierPerNode"
   ]
  },
  {
   "cell_type": "markdown",
   "metadata": {},
   "source": [
    "# Local Classifier Per Node"
   ]
  },
  {
   "cell_type": "code",
   "execution_count": null,
   "metadata": {},
   "outputs": [],
   "source": [
    "lcpn_classifier = LocalClassifierPerNode(\n",
    "    local_classifier=rfc, \n",
    "    replace_classifiers=False, \n",
    "    binary_policy=\"inclusive\",\n",
    "    edge_list=\"./hierarchy.csv\",\n",
    "    verbose=0,\n",
    ")\n",
    "\n",
    "# Train local classifier per node\n",
    "lcpn_classifier.fit(X_train, Y_train)\n",
    "\n",
    "# Predict\n",
    "predictions, uncertainties = lcpn_classifier.predict(X_test, return_uncertainty=True)"
   ]
  },
  {
   "cell_type": "code",
   "execution_count": null,
   "metadata": {},
   "outputs": [],
   "source": [
    "precision = hmetrics.h_precision_score(Y_test, predictions)\n",
    "print(\"hprecision:\", precision)\n",
    "\n",
    "recall = hmetrics.h_recall_score(Y_test, predictions)\n",
    "print(\"hrecall:\", recall)\n",
    "\n",
    "f1 = hmetrics.h_f1_score(Y_test, predictions)\n",
    "print(\"hf1:\", f1)"
   ]
  },
  {
   "cell_type": "code",
   "execution_count": null,
   "metadata": {},
   "outputs": [],
   "source": [
    "true_labels = np.array(Y_test.to_list())\n",
    "\n",
    "# Flatten the true and predicted labels to calculate micro/macro/weighted metrics\n",
    "flat_true_labels = true_labels.flatten()\n",
    "flat_predicted_labels = predictions.flatten()\n",
    "\n",
    "# Calculate micro, macro, and weighted precision, recall, and F1 score\n",
    "micro_precision = metrics.precision_score(flat_true_labels, flat_predicted_labels, average='micro')\n",
    "macro_precision = metrics.precision_score(flat_true_labels, flat_predicted_labels, average='macro')\n",
    "weighted_precision = metrics.precision_score(flat_true_labels, flat_predicted_labels, average='weighted')\n",
    "\n",
    "micro_recall = metrics.recall_score(flat_true_labels, flat_predicted_labels, average='micro')\n",
    "macro_recall = metrics.recall_score(flat_true_labels, flat_predicted_labels, average='macro')\n",
    "weighted_recall = metrics.recall_score(flat_true_labels, flat_predicted_labels, average='weighted')\n",
    "\n",
    "micro_f1 = metrics.f1_score(flat_true_labels, flat_predicted_labels, average='micro')\n",
    "macro_f1 = metrics.f1_score(flat_true_labels, flat_predicted_labels, average='macro')\n",
    "weighted_f1 = metrics.f1_score(flat_true_labels, flat_predicted_labels, average='weighted')\n",
    "\n",
    "print(\"Micro Precision:\", micro_precision)\n",
    "print(\"Macro Precision:\", macro_precision)\n",
    "print(\"Weighted Precision:\", weighted_precision)\n",
    "\n",
    "print(\"Micro Recall:\", micro_recall)\n",
    "print(\"Macro Recall:\", macro_recall)\n",
    "print(\"Weighted Recall:\", weighted_recall)\n",
    "\n",
    "print(\"Micro F1 Score:\", micro_f1)\n",
    "print(\"Macro F1 Score:\", macro_f1)\n",
    "print(\"Weighted F1 Score:\", weighted_f1)\n",
    "\n",
    "# Calculate Hamming Loss\n",
    "loss = metrics.hamming_loss(flat_true_labels, flat_predicted_labels)\n",
    "\n",
    "print(\"Hamming Loss:\", loss)"
   ]
  },
  {
   "cell_type": "code",
   "execution_count": null,
   "metadata": {},
   "outputs": [],
   "source": [
    "# Define Explainer\n",
    "explainer = Explainer(lcpn_classifier, data=X_train.values, mode=\"tree\")\n",
    "explanations = explainer.explain(X_test.values)\n",
    "print(explanations)\n",
    "\n",
    "# Filter samples which only predicted \"Respiratory\" at first level\n",
    "respiratory_idx = lcpn_classifier.predict(X_test)[:, 0] == \"Respiratory\"\n",
    "\n",
    "# Specify additional filters to obtain only level 0\n",
    "shap_filter = {\"level\": 0, \"class\": \"Respiratory_1\", \"sample\": respiratory_idx}\n",
    "\n",
    "# Use .sel() method to apply the filter and obtain filtered results\n",
    "shap_val_respiratory = explanations.sel(shap_filter)\n",
    "\n",
    "# Plot feature importance on test set\n",
    "shap.plots.violin(\n",
    "    shap_val_respiratory.shap_values,\n",
    "    feature_names=X_train.columns.values,\n",
    "    plot_size=(13, 8),\n",
    ")"
   ]
  },
  {
   "cell_type": "markdown",
   "metadata": {},
   "source": [
    "# Local Classifier Per Parent Node"
   ]
  },
  {
   "cell_type": "code",
   "execution_count": null,
   "metadata": {},
   "outputs": [],
   "source": [
    "lcppn_classifier = LocalClassifierPerParentNode(\n",
    "    local_classifier=rfc, \n",
    "    replace_classifiers=False,\n",
    "    # edge_list=\"./hierarchy.csv\",\n",
    ")\n",
    "\n",
    "# Train local classifier per node\n",
    "lcppn_classifier.fit(X_train, Y_train)\n",
    "\n",
    "# Predict\n",
    "predictions = lcppn_classifier.predict(X_test)\n",
    "print(predictions)"
   ]
  },
  {
   "cell_type": "markdown",
   "metadata": {},
   "source": [
    "# Local Classifier Per Level"
   ]
  },
  {
   "cell_type": "code",
   "execution_count": null,
   "metadata": {},
   "outputs": [],
   "source": [
    "lcpl_classifier = LocalClassifierPerLevel(\n",
    "    local_classifier=rfc, \n",
    "    replace_classifiers=False,\n",
    "    # edge_list=\"./hierarchy.csv\",\n",
    ")\n",
    "\n",
    "# Train local classifier per level\n",
    "lcpl_classifier.fit(X_train, Y_train)\n",
    "\n",
    "# Predict\n",
    "predictions = lcpl_classifier.predict(X_test)\n",
    "print(predictions)"
   ]
  }
 ],
 "metadata": {
  "kernelspec": {
   "display_name": "dl",
   "language": "python",
   "name": "python3"
  },
  "language_info": {
   "name": "python",
   "version": "3.11.0"
  }
 },
 "nbformat": 4,
 "nbformat_minor": 2
}
