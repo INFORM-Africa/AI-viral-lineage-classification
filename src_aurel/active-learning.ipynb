{
 "cells": [
  {
   "cell_type": "code",
   "execution_count": 4,
   "metadata": {},
   "outputs": [],
   "source": [
    "import pandas as pd\n",
    "from datetime import timedelta\n",
    "import utils, os\n",
    "\n",
    "%config InlineBackend.figure_format = 'svg'"
   ]
  },
  {
   "cell_type": "code",
   "execution_count": 2,
   "metadata": {},
   "outputs": [],
   "source": [
    "settings = utils.load_settings()\n",
    "cleaned_data_dir = settings[\"cleaned_data_dir\"]\n",
    "plots_dir = settings[\"plots_dir\"]"
   ]
  },
  {
   "cell_type": "code",
   "execution_count": 3,
   "metadata": {},
   "outputs": [],
   "source": [
    "df = pd.read_parquet(os.path.join(cleaned_data_dir, \"cleaned_dataset.parquet\"))\n",
    "df.drop(columns=[\"Accession ID\", \"col_date\", \"sub_date\", 'country'], inplace=True)"
   ]
  },
  {
   "cell_type": "code",
   "execution_count": 8,
   "metadata": {},
   "outputs": [],
   "source": [
    "start_date = pd.to_datetime('2020-03-29')  \n",
    "n_days_delta = timedelta(days=7)"
   ]
  },
  {
   "cell_type": "code",
   "execution_count": 9,
   "metadata": {},
   "outputs": [
    {
     "data": {
      "text/html": [
       "<div>\n",
       "<style scoped>\n",
       "    .dataframe tbody tr th:only-of-type {\n",
       "        vertical-align: middle;\n",
       "    }\n",
       "\n",
       "    .dataframe tbody tr th {\n",
       "        vertical-align: top;\n",
       "    }\n",
       "\n",
       "    .dataframe thead th {\n",
       "        text-align: right;\n",
       "    }\n",
       "</style>\n",
       "<table border=\"1\" class=\"dataframe\">\n",
       "  <thead>\n",
       "    <tr style=\"text-align: right;\">\n",
       "      <th></th>\n",
       "      <th>lineage</th>\n",
       "      <th>country</th>\n",
       "      <th>date</th>\n",
       "      <th>sequence</th>\n",
       "    </tr>\n",
       "  </thead>\n",
       "  <tbody>\n",
       "    <tr>\n",
       "      <th>0</th>\n",
       "      <td>B.1</td>\n",
       "      <td>Niger</td>\n",
       "      <td>2020-01-01</td>\n",
       "      <td>AAAGGTTTATACCTTCCCAGGTAACAAACCAACCAACTTTCGATCT...</td>\n",
       "    </tr>\n",
       "    <tr>\n",
       "      <th>1</th>\n",
       "      <td>B.1.221</td>\n",
       "      <td>Morocco</td>\n",
       "      <td>2020-02-02</td>\n",
       "      <td>AACAAACCAACCAACTTTCGATCTCTTGTAGATCTGTTCTCTAAAC...</td>\n",
       "    </tr>\n",
       "    <tr>\n",
       "      <th>2</th>\n",
       "      <td>B.1</td>\n",
       "      <td>Morocco</td>\n",
       "      <td>2020-02-02</td>\n",
       "      <td>AACAAACCAACCAACTTTCGATCTCTTGTAGATCTGTTCTCTAAAC...</td>\n",
       "    </tr>\n",
       "    <tr>\n",
       "      <th>3</th>\n",
       "      <td>B.1</td>\n",
       "      <td>Morocco</td>\n",
       "      <td>2020-02-02</td>\n",
       "      <td>AACAAACCAACCAACTTTCGATCTCTTGTAGATCTGTTCTCTAAAC...</td>\n",
       "    </tr>\n",
       "    <tr>\n",
       "      <th>4</th>\n",
       "      <td>B.1.221</td>\n",
       "      <td>Morocco</td>\n",
       "      <td>2020-02-02</td>\n",
       "      <td>AACAAACCAACCAACTTTCGATCTCTTGTAGATCTGTTCTCTAAAC...</td>\n",
       "    </tr>\n",
       "    <tr>\n",
       "      <th>...</th>\n",
       "      <td>...</td>\n",
       "      <td>...</td>\n",
       "      <td>...</td>\n",
       "      <td>...</td>\n",
       "    </tr>\n",
       "    <tr>\n",
       "      <th>264</th>\n",
       "      <td>B.1</td>\n",
       "      <td>Algeria</td>\n",
       "      <td>2020-03-29</td>\n",
       "      <td>TTCGATCTCTTGTAGATCTGTTCTCTAAACGAACTTTAAAATCTGT...</td>\n",
       "    </tr>\n",
       "    <tr>\n",
       "      <th>265</th>\n",
       "      <td>A</td>\n",
       "      <td>Nigeria</td>\n",
       "      <td>2020-03-29</td>\n",
       "      <td>GGTTTATACCTTCCCAGGTAACAAACCAACCAACTTTCGATCTCTT...</td>\n",
       "    </tr>\n",
       "    <tr>\n",
       "      <th>266</th>\n",
       "      <td>B.1.476</td>\n",
       "      <td>Nigeria</td>\n",
       "      <td>2020-03-29</td>\n",
       "      <td>CTTGTAGATCTGTTCTCTAAACGAACTTTAAAATCTGTGTGGCTGT...</td>\n",
       "    </tr>\n",
       "    <tr>\n",
       "      <th>267</th>\n",
       "      <td>A</td>\n",
       "      <td>Togo</td>\n",
       "      <td>2020-03-29</td>\n",
       "      <td>TATACCTTCCCAGGTAACAAACCAACCAACTTTCGATCTCTTGTAG...</td>\n",
       "    </tr>\n",
       "    <tr>\n",
       "      <th>268</th>\n",
       "      <td>B.1</td>\n",
       "      <td>South Africa</td>\n",
       "      <td>2020-03-29</td>\n",
       "      <td>ACCAACCAACTTTCGATCTCTTGTAGATCTGTTCTCTAAACGAACT...</td>\n",
       "    </tr>\n",
       "  </tbody>\n",
       "</table>\n",
       "<p>269 rows × 4 columns</p>\n",
       "</div>"
      ],
      "text/plain": [
       "     lineage       country       date  \\\n",
       "0        B.1         Niger 2020-01-01   \n",
       "1    B.1.221       Morocco 2020-02-02   \n",
       "2        B.1       Morocco 2020-02-02   \n",
       "3        B.1       Morocco 2020-02-02   \n",
       "4    B.1.221       Morocco 2020-02-02   \n",
       "..       ...           ...        ...   \n",
       "264      B.1       Algeria 2020-03-29   \n",
       "265        A       Nigeria 2020-03-29   \n",
       "266  B.1.476       Nigeria 2020-03-29   \n",
       "267        A          Togo 2020-03-29   \n",
       "268      B.1  South Africa 2020-03-29   \n",
       "\n",
       "                                              sequence  \n",
       "0    AAAGGTTTATACCTTCCCAGGTAACAAACCAACCAACTTTCGATCT...  \n",
       "1    AACAAACCAACCAACTTTCGATCTCTTGTAGATCTGTTCTCTAAAC...  \n",
       "2    AACAAACCAACCAACTTTCGATCTCTTGTAGATCTGTTCTCTAAAC...  \n",
       "3    AACAAACCAACCAACTTTCGATCTCTTGTAGATCTGTTCTCTAAAC...  \n",
       "4    AACAAACCAACCAACTTTCGATCTCTTGTAGATCTGTTCTCTAAAC...  \n",
       "..                                                 ...  \n",
       "264  TTCGATCTCTTGTAGATCTGTTCTCTAAACGAACTTTAAAATCTGT...  \n",
       "265  GGTTTATACCTTCCCAGGTAACAAACCAACCAACTTTCGATCTCTT...  \n",
       "266  CTTGTAGATCTGTTCTCTAAACGAACTTTAAAATCTGTGTGGCTGT...  \n",
       "267  TATACCTTCCCAGGTAACAAACCAACCAACTTTCGATCTCTTGTAG...  \n",
       "268  ACCAACCAACTTTCGATCTCTTGTAGATCTGTTCTCTAAACGAACT...  \n",
       "\n",
       "[269 rows x 4 columns]"
      ]
     },
     "execution_count": 9,
     "metadata": {},
     "output_type": "execute_result"
    }
   ],
   "source": [
    "df_before = df[df['date'] <= start_date]\n",
    "df_before"
   ]
  },
  {
   "cell_type": "code",
   "execution_count": 10,
   "metadata": {},
   "outputs": [],
   "source": [
    "mask = (df['date'] > start_date) & (df['date'] <= start_date + n_days_delta)\n",
    "selected_observations = df.loc[mask]"
   ]
  },
  {
   "cell_type": "code",
   "execution_count": 11,
   "metadata": {},
   "outputs": [
    {
     "data": {
      "text/html": [
       "<div>\n",
       "<style scoped>\n",
       "    .dataframe tbody tr th:only-of-type {\n",
       "        vertical-align: middle;\n",
       "    }\n",
       "\n",
       "    .dataframe tbody tr th {\n",
       "        vertical-align: top;\n",
       "    }\n",
       "\n",
       "    .dataframe thead th {\n",
       "        text-align: right;\n",
       "    }\n",
       "</style>\n",
       "<table border=\"1\" class=\"dataframe\">\n",
       "  <thead>\n",
       "    <tr style=\"text-align: right;\">\n",
       "      <th></th>\n",
       "      <th>lineage</th>\n",
       "      <th>country</th>\n",
       "      <th>date</th>\n",
       "      <th>sequence</th>\n",
       "    </tr>\n",
       "  </thead>\n",
       "  <tbody>\n",
       "    <tr>\n",
       "      <th>269</th>\n",
       "      <td>B.1.9</td>\n",
       "      <td>Tunisia</td>\n",
       "      <td>2020-03-30</td>\n",
       "      <td>ACTTCGATCTCTTGTAGATCTGTTCTCTAAACGAACTTTAAAATCT...</td>\n",
       "    </tr>\n",
       "    <tr>\n",
       "      <th>270</th>\n",
       "      <td>B.1</td>\n",
       "      <td>Senegal</td>\n",
       "      <td>2020-03-30</td>\n",
       "      <td>ACTTTCGATCTCTTGTAGATCTGTTCTCTAAACGAACTTTAAAATC...</td>\n",
       "    </tr>\n",
       "    <tr>\n",
       "      <th>271</th>\n",
       "      <td>B.1</td>\n",
       "      <td>South Africa</td>\n",
       "      <td>2020-03-30</td>\n",
       "      <td>ACTTTCGATCTCTTGTAGATCTGTTCTCTAAACGAACTTTAAAATC...</td>\n",
       "    </tr>\n",
       "    <tr>\n",
       "      <th>272</th>\n",
       "      <td>B.1</td>\n",
       "      <td>Morocco</td>\n",
       "      <td>2020-03-30</td>\n",
       "      <td>ATTAAAGGTTTATACCTTCCCAGGTAACAAACCAACCAACTTTCGA...</td>\n",
       "    </tr>\n",
       "    <tr>\n",
       "      <th>273</th>\n",
       "      <td>B</td>\n",
       "      <td>Uganda</td>\n",
       "      <td>2020-03-30</td>\n",
       "      <td>AACCAACCAACTTTCGATCTCTTGTAGATCTGTTCTCTAAACGAAC...</td>\n",
       "    </tr>\n",
       "    <tr>\n",
       "      <th>...</th>\n",
       "      <td>...</td>\n",
       "      <td>...</td>\n",
       "      <td>...</td>\n",
       "      <td>...</td>\n",
       "    </tr>\n",
       "    <tr>\n",
       "      <th>367</th>\n",
       "      <td>B.1</td>\n",
       "      <td>South Africa</td>\n",
       "      <td>2020-04-05</td>\n",
       "      <td>ACCAACCAACTTTCGATCTCTTGTAGATCTGTTCTCTAAACGAACT...</td>\n",
       "    </tr>\n",
       "    <tr>\n",
       "      <th>368</th>\n",
       "      <td>B.1</td>\n",
       "      <td>South Africa</td>\n",
       "      <td>2020-04-05</td>\n",
       "      <td>ACCAACCAACTTTCGATCTCTTGTAGATCTGTTCTCTAAACGAACT...</td>\n",
       "    </tr>\n",
       "    <tr>\n",
       "      <th>369</th>\n",
       "      <td>B.40</td>\n",
       "      <td>Nigeria</td>\n",
       "      <td>2020-04-05</td>\n",
       "      <td>GGTTTATACCTTCCCAGGTAACAAACCAACCAACTTTCGATCTCTT...</td>\n",
       "    </tr>\n",
       "    <tr>\n",
       "      <th>370</th>\n",
       "      <td>B.1</td>\n",
       "      <td>South Africa</td>\n",
       "      <td>2020-04-05</td>\n",
       "      <td>ACCTTCCCAGGTAACAAACCAACCAACTTTCGATCTCTTGTAGATC...</td>\n",
       "    </tr>\n",
       "    <tr>\n",
       "      <th>371</th>\n",
       "      <td>B.1</td>\n",
       "      <td>South Africa</td>\n",
       "      <td>2020-04-05</td>\n",
       "      <td>AACTTTCGATCTCTTGTAGATCTGTTCTCTAAACGAACTTTAAAAT...</td>\n",
       "    </tr>\n",
       "  </tbody>\n",
       "</table>\n",
       "<p>103 rows × 4 columns</p>\n",
       "</div>"
      ],
      "text/plain": [
       "    lineage       country       date  \\\n",
       "269   B.1.9       Tunisia 2020-03-30   \n",
       "270     B.1       Senegal 2020-03-30   \n",
       "271     B.1  South Africa 2020-03-30   \n",
       "272     B.1       Morocco 2020-03-30   \n",
       "273       B        Uganda 2020-03-30   \n",
       "..      ...           ...        ...   \n",
       "367     B.1  South Africa 2020-04-05   \n",
       "368     B.1  South Africa 2020-04-05   \n",
       "369    B.40       Nigeria 2020-04-05   \n",
       "370     B.1  South Africa 2020-04-05   \n",
       "371     B.1  South Africa 2020-04-05   \n",
       "\n",
       "                                              sequence  \n",
       "269  ACTTCGATCTCTTGTAGATCTGTTCTCTAAACGAACTTTAAAATCT...  \n",
       "270  ACTTTCGATCTCTTGTAGATCTGTTCTCTAAACGAACTTTAAAATC...  \n",
       "271  ACTTTCGATCTCTTGTAGATCTGTTCTCTAAACGAACTTTAAAATC...  \n",
       "272  ATTAAAGGTTTATACCTTCCCAGGTAACAAACCAACCAACTTTCGA...  \n",
       "273  AACCAACCAACTTTCGATCTCTTGTAGATCTGTTCTCTAAACGAAC...  \n",
       "..                                                 ...  \n",
       "367  ACCAACCAACTTTCGATCTCTTGTAGATCTGTTCTCTAAACGAACT...  \n",
       "368  ACCAACCAACTTTCGATCTCTTGTAGATCTGTTCTCTAAACGAACT...  \n",
       "369  GGTTTATACCTTCCCAGGTAACAAACCAACCAACTTTCGATCTCTT...  \n",
       "370  ACCTTCCCAGGTAACAAACCAACCAACTTTCGATCTCTTGTAGATC...  \n",
       "371  AACTTTCGATCTCTTGTAGATCTGTTCTCTAAACGAACTTTAAAAT...  \n",
       "\n",
       "[103 rows x 4 columns]"
      ]
     },
     "execution_count": 11,
     "metadata": {},
     "output_type": "execute_result"
    }
   ],
   "source": [
    "selected_observations"
   ]
  },
  {
   "cell_type": "code",
   "execution_count": 13,
   "metadata": {},
   "outputs": [
    {
     "data": {
      "text/plain": [
       "Timestamp('2020-04-05 00:00:00')"
      ]
     },
     "execution_count": 13,
     "metadata": {},
     "output_type": "execute_result"
    }
   ],
   "source": [
    "start_date + n_days_delta"
   ]
  },
  {
   "cell_type": "code",
   "execution_count": 14,
   "metadata": {},
   "outputs": [
    {
     "data": {
      "text/plain": [
       "datetime.timedelta(days=14)"
      ]
     },
     "execution_count": 14,
     "metadata": {},
     "output_type": "execute_result"
    }
   ],
   "source": [
    "2 * n_days_delta"
   ]
  },
  {
   "cell_type": "code",
   "execution_count": null,
   "metadata": {},
   "outputs": [],
   "source": []
  }
 ],
 "metadata": {
  "kernelspec": {
   "display_name": "dl",
   "language": "python",
   "name": "python3"
  },
  "language_info": {
   "codemirror_mode": {
    "name": "ipython",
    "version": 3
   },
   "file_extension": ".py",
   "mimetype": "text/x-python",
   "name": "python",
   "nbconvert_exporter": "python",
   "pygments_lexer": "ipython3",
   "version": "3.11.0"
  }
 },
 "nbformat": 4,
 "nbformat_minor": 2
}
