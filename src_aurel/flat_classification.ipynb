{
 "cells": [
  {
   "cell_type": "code",
   "execution_count": 1,
   "metadata": {},
   "outputs": [],
   "source": [
    "from sklearn.ensemble import RandomForestClassifier\n",
    "from sklearn.naive_bayes import GaussianNB\n",
    "from xgboost import XGBClassifier\n",
    "from catboost import CatBoostClassifier\n",
    "from lightgbm import LGBMClassifier\n",
    "from sklearn.model_selection import train_test_split, cross_val_score\n",
    "from sklearn.preprocessing import LabelEncoder\n",
    "from sklearn import metrics as metrics\n",
    "import optuna\n",
    "import pyarrow.parquet as pq\n",
    "import utils, os\n",
    "from datetime import datetime"
   ]
  },
  {
   "cell_type": "code",
   "execution_count": 2,
   "metadata": {},
   "outputs": [],
   "source": [
    "settings = utils.load_settings()\n",
    "features_dir = settings[\"features_dir\"]\n",
    "cleaned_data_dir = settings[\"cleaned_data_dir\"]\n",
    "reports_dir = settings[\"reports_dir\"]\n",
    "trials = settings[\"optuna_trials\"]\n",
    "trials = 1"
   ]
  },
  {
   "cell_type": "code",
   "execution_count": 3,
   "metadata": {},
   "outputs": [],
   "source": [
    "X_table = pq.read_table(os.path.join(features_dir, \"murugaiah_features.parquet\"))\n",
    "X_murugaiah = X_table.to_pandas().to_numpy()\n",
    "\n",
    "X_table = pq.read_table(os.path.join(features_dir, \"kmer_features_6.parquet\"))\n",
    "X_kmer_6 = X_table.to_pandas().to_numpy()\n",
    "\n",
    "X_table = pq.read_table(os.path.join(features_dir, \"kmer_features_5.parquet\"))\n",
    "X_kmer_5 = X_table.to_pandas().to_numpy()\n",
    "\n",
    "X_table = pq.read_table(os.path.join(features_dir, \"fcgr_features.parquet\"))\n",
    "X_fcgr = X_table.to_pandas().to_numpy()"
   ]
  },
  {
   "cell_type": "code",
   "execution_count": 4,
   "metadata": {},
   "outputs": [],
   "source": [
    "features_dict = {\n",
    "    \"murugaiah\": X_murugaiah,\n",
    "    \"kmer_6\": X_kmer_6,\n",
    "    \"kmer_5\": X_kmer_5,\n",
    "    \"fcgr\": X_fcgr\n",
    "}"
   ]
  },
  {
   "cell_type": "code",
   "execution_count": 5,
   "metadata": {},
   "outputs": [],
   "source": [
    "y_table = pq.read_table(os.path.join(cleaned_data_dir, \"flat_labels.parquet\"))\n",
    "y = y_table.to_pandas().to_numpy()\n",
    "\n",
    "le = LabelEncoder()\n",
    "y = le.fit_transform(y.flatten())"
   ]
  },
  {
   "cell_type": "code",
   "execution_count": 6,
   "metadata": {},
   "outputs": [],
   "source": [
    "def get_timestamp():\n",
    "    now = datetime.now()\n",
    "    return int(now.timestamp())"
   ]
  },
  {
   "cell_type": "markdown",
   "metadata": {},
   "source": [
    "## Naive Bayes"
   ]
  },
  {
   "cell_type": "code",
   "execution_count": 7,
   "metadata": {},
   "outputs": [],
   "source": [
    "def finetune_nb(features, labels, features_name, test_size=0.2, n_trials=100):\n",
    "    timestamp = get_timestamp()\n",
    "    reports_filename = os.path.join(reports_dir, f'flat_nb_{features_name}_{timestamp}.txt')\n",
    "    file = open(reports_filename, 'a')\n",
    "    \n",
    "    file.write(f\"{features_name} features - {features.shape}\\n\")\n",
    "    X_train, X_test, y_train, y_test = train_test_split(features, labels, test_size=test_size, random_state=42)\n",
    "    file.write(f\"X_train shape: {X_train.shape}, X_test shape: {X_test.shape}, y_train shape: {y_train.shape}, y_test shape: {y_test.shape}\\n\")\n",
    "    \n",
    "    file.write(\"Hyperparameters and search space\\n\")\n",
    "    file.write(\"alpha: 0.01 - 1.0\\n\")\n",
    "\n",
    "    def objective(trial):\n",
    "        alpha = trial.suggest_float('alpha', 0.01, 1.0)\n",
    "\n",
    "        nb = GaussianNB(var_smoothing=alpha)\n",
    "        \n",
    "        # # Perform 10-fold cross-validation\n",
    "        # scores = cross_val_score(nb, features, labels, cv=10, scoring='accuracy')\n",
    "        # accuracy =  scores.mean()\n",
    "    \n",
    "        # Train the model\n",
    "        nb.fit(X_train, y_train)\n",
    "        \n",
    "        # Calculate the accuracy score on the validation set\n",
    "        y_pred = nb.predict(X_test)\n",
    "        accuracy = metrics.accuracy_score(y_test, y_pred)\n",
    "        \n",
    "        return accuracy\n",
    "    \n",
    "    # Create a study object and optimize the objective function\n",
    "    study = optuna.create_study(direction='maximize')\n",
    "    study.optimize(objective, n_trials=n_trials)\n",
    "\n",
    "    file.write(f\"Best hyperparameters: {str(study.best_params)}\\n\")\n",
    "    file.write(f\"Best accuracy: {str(study.best_value)}\\n\")\n",
    "    file.close()\n",
    "\n",
    "    print(f\"Finetuning completed with {study.best_value} accuracy\")\n",
    "    print(\"Logs saved to\", reports_filename)\n",
    "    "
   ]
  },
  {
   "cell_type": "code",
   "execution_count": 8,
   "metadata": {},
   "outputs": [
    {
     "name": "stderr",
     "output_type": "stream",
     "text": [
      "[I 2024-05-15 17:31:46,701] A new study created in memory with name: no-name-b3f59708-345f-44fa-ad6a-f959d63a95d1\n"
     ]
    },
    {
     "name": "stderr",
     "output_type": "stream",
     "text": [
      "[I 2024-05-15 17:31:49,626] Trial 0 finished with value: 0.1459324452901998 and parameters: {'alpha': 0.5303658002720716}. Best is trial 0 with value: 0.1459324452901998.\n"
     ]
    },
    {
     "name": "stdout",
     "output_type": "stream",
     "text": [
      "Finetuning completed with 0.1459324452901998 accuracy\n",
      "Logs saved to /Users/masterbee/Desktop/AIMS-PROJECT/models/reports/flat_nb_murugaiah_1715787106.txt\n"
     ]
    },
    {
     "name": "stderr",
     "output_type": "stream",
     "text": [
      "[I 2024-05-15 17:32:47,382] A new study created in memory with name: no-name-8d98c16a-99f7-4481-b448-b76d56ec955c\n",
      "[I 2024-05-15 17:34:45,790] Trial 0 finished with value: 0.480732635585157 and parameters: {'alpha': 0.92331551720284}. Best is trial 0 with value: 0.480732635585157.\n"
     ]
    },
    {
     "name": "stdout",
     "output_type": "stream",
     "text": [
      "Finetuning completed with 0.480732635585157 accuracy\n",
      "Logs saved to /Users/masterbee/Desktop/AIMS-PROJECT/models/reports/flat_nb_kmer_6_1715787109.txt\n"
     ]
    },
    {
     "name": "stderr",
     "output_type": "stream",
     "text": [
      "[I 2024-05-15 17:34:46,391] A new study created in memory with name: no-name-f20261da-6f63-4bff-a446-78b4b25d5e72\n",
      "[I 2024-05-15 17:35:07,414] Trial 0 finished with value: 0.5321122740247384 and parameters: {'alpha': 0.45940767376512254}. Best is trial 0 with value: 0.5321122740247384.\n"
     ]
    },
    {
     "name": "stdout",
     "output_type": "stream",
     "text": [
      "Finetuning completed with 0.5321122740247384 accuracy\n",
      "Logs saved to /Users/masterbee/Desktop/AIMS-PROJECT/models/reports/flat_nb_kmer_5_1715787285.txt\n"
     ]
    },
    {
     "name": "stderr",
     "output_type": "stream",
     "text": [
      "[I 2024-05-15 17:36:28,815] A new study created in memory with name: no-name-a7412039-0acb-4193-adc1-2fbc40ffe405\n",
      "[W 2024-05-15 17:49:13,869] Trial 0 failed with parameters: {'alpha': 0.8736024200168132} because of the following error: KeyboardInterrupt().\n",
      "Traceback (most recent call last):\n",
      "  File \"/Users/masterbee/anaconda3/envs/dl/lib/python3.11/site-packages/optuna/study/_optimize.py\", line 196, in _run_trial\n",
      "    value_or_values = func(trial)\n",
      "                      ^^^^^^^^^^^\n",
      "  File \"/var/folders/w9/b9mdbdzs39lby1wt6v087t6w0000gn/T/ipykernel_78183/3029490882.py\", line 26, in objective\n",
      "    y_pred = nb.predict(X_test)\n",
      "             ^^^^^^^^^^^^^^^^^^\n",
      "  File \"/Users/masterbee/anaconda3/envs/dl/lib/python3.11/site-packages/sklearn/naive_bayes.py\", line 102, in predict\n",
      "    jll = self._joint_log_likelihood(X)\n",
      "          ^^^^^^^^^^^^^^^^^^^^^^^^^^^^^\n",
      "  File \"/Users/masterbee/anaconda3/envs/dl/lib/python3.11/site-packages/sklearn/naive_bayes.py\", line 511, in _joint_log_likelihood\n",
      "    n_ij -= 0.5 * np.sum(((X - self.theta_[i, :]) ** 2) / (self.var_[i, :]), 1)\n",
      "                  ^^^^^^^^^^^^^^^^^^^^^^^^^^^^^^^^^^^^^^^^^^^^^^^^^^^^^^^^^^^^^\n",
      "  File \"<__array_function__ internals>\", line 177, in sum\n",
      "KeyboardInterrupt\n",
      "[W 2024-05-15 17:49:13,964] Trial 0 failed with value None.\n"
     ]
    },
    {
     "ename": "KeyboardInterrupt",
     "evalue": "",
     "output_type": "error",
     "traceback": [
      "\u001b[0;31m---------------------------------------------------------------------------\u001b[0m",
      "\u001b[0;31mKeyboardInterrupt\u001b[0m                         Traceback (most recent call last)",
      "Cell \u001b[0;32mIn[8], line 2\u001b[0m\n\u001b[1;32m      1\u001b[0m \u001b[38;5;28;01mfor\u001b[39;00m name, features \u001b[38;5;129;01min\u001b[39;00m features_dict\u001b[38;5;241m.\u001b[39mitems():\n\u001b[0;32m----> 2\u001b[0m     finetune_nb(features, y, name, n_trials\u001b[38;5;241m=\u001b[39mtrials)\n",
      "Cell \u001b[0;32mIn[7], line 33\u001b[0m, in \u001b[0;36mfinetune_nb\u001b[0;34m(features, labels, features_name, test_size, n_trials)\u001b[0m\n\u001b[1;32m     31\u001b[0m \u001b[38;5;66;03m# Create a study object and optimize the objective function\u001b[39;00m\n\u001b[1;32m     32\u001b[0m study \u001b[38;5;241m=\u001b[39m optuna\u001b[38;5;241m.\u001b[39mcreate_study(direction\u001b[38;5;241m=\u001b[39m\u001b[38;5;124m'\u001b[39m\u001b[38;5;124mmaximize\u001b[39m\u001b[38;5;124m'\u001b[39m)\n\u001b[0;32m---> 33\u001b[0m study\u001b[38;5;241m.\u001b[39moptimize(objective, n_trials\u001b[38;5;241m=\u001b[39mn_trials)\n\u001b[1;32m     35\u001b[0m file\u001b[38;5;241m.\u001b[39mwrite(\u001b[38;5;124mf\u001b[39m\u001b[38;5;124m\"\u001b[39m\u001b[38;5;124mBest hyperparameters: \u001b[39m\u001b[38;5;132;01m{\u001b[39;00m\u001b[38;5;28mstr\u001b[39m(study\u001b[38;5;241m.\u001b[39mbest_params)\u001b[38;5;132;01m}\u001b[39;00m\u001b[38;5;130;01m\\n\u001b[39;00m\u001b[38;5;124m\"\u001b[39m)\n\u001b[1;32m     36\u001b[0m file\u001b[38;5;241m.\u001b[39mwrite(\u001b[38;5;124mf\u001b[39m\u001b[38;5;124m\"\u001b[39m\u001b[38;5;124mBest accuracy: \u001b[39m\u001b[38;5;132;01m{\u001b[39;00m\u001b[38;5;28mstr\u001b[39m(study\u001b[38;5;241m.\u001b[39mbest_value)\u001b[38;5;132;01m}\u001b[39;00m\u001b[38;5;130;01m\\n\u001b[39;00m\u001b[38;5;124m\"\u001b[39m)\n",
      "File \u001b[0;32m~/anaconda3/envs/dl/lib/python3.11/site-packages/optuna/study/study.py:451\u001b[0m, in \u001b[0;36mStudy.optimize\u001b[0;34m(self, func, n_trials, timeout, n_jobs, catch, callbacks, gc_after_trial, show_progress_bar)\u001b[0m\n\u001b[1;32m    348\u001b[0m \u001b[38;5;28;01mdef\u001b[39;00m \u001b[38;5;21moptimize\u001b[39m(\n\u001b[1;32m    349\u001b[0m     \u001b[38;5;28mself\u001b[39m,\n\u001b[1;32m    350\u001b[0m     func: ObjectiveFuncType,\n\u001b[0;32m   (...)\u001b[0m\n\u001b[1;32m    357\u001b[0m     show_progress_bar: \u001b[38;5;28mbool\u001b[39m \u001b[38;5;241m=\u001b[39m \u001b[38;5;28;01mFalse\u001b[39;00m,\n\u001b[1;32m    358\u001b[0m ) \u001b[38;5;241m-\u001b[39m\u001b[38;5;241m>\u001b[39m \u001b[38;5;28;01mNone\u001b[39;00m:\n\u001b[1;32m    359\u001b[0m \u001b[38;5;250m    \u001b[39m\u001b[38;5;124;03m\"\"\"Optimize an objective function.\u001b[39;00m\n\u001b[1;32m    360\u001b[0m \n\u001b[1;32m    361\u001b[0m \u001b[38;5;124;03m    Optimization is done by choosing a suitable set of hyperparameter values from a given\u001b[39;00m\n\u001b[0;32m   (...)\u001b[0m\n\u001b[1;32m    449\u001b[0m \u001b[38;5;124;03m            If nested invocation of this method occurs.\u001b[39;00m\n\u001b[1;32m    450\u001b[0m \u001b[38;5;124;03m    \"\"\"\u001b[39;00m\n\u001b[0;32m--> 451\u001b[0m     _optimize(\n\u001b[1;32m    452\u001b[0m         study\u001b[38;5;241m=\u001b[39m\u001b[38;5;28mself\u001b[39m,\n\u001b[1;32m    453\u001b[0m         func\u001b[38;5;241m=\u001b[39mfunc,\n\u001b[1;32m    454\u001b[0m         n_trials\u001b[38;5;241m=\u001b[39mn_trials,\n\u001b[1;32m    455\u001b[0m         timeout\u001b[38;5;241m=\u001b[39mtimeout,\n\u001b[1;32m    456\u001b[0m         n_jobs\u001b[38;5;241m=\u001b[39mn_jobs,\n\u001b[1;32m    457\u001b[0m         catch\u001b[38;5;241m=\u001b[39m\u001b[38;5;28mtuple\u001b[39m(catch) \u001b[38;5;28;01mif\u001b[39;00m \u001b[38;5;28misinstance\u001b[39m(catch, Iterable) \u001b[38;5;28;01melse\u001b[39;00m (catch,),\n\u001b[1;32m    458\u001b[0m         callbacks\u001b[38;5;241m=\u001b[39mcallbacks,\n\u001b[1;32m    459\u001b[0m         gc_after_trial\u001b[38;5;241m=\u001b[39mgc_after_trial,\n\u001b[1;32m    460\u001b[0m         show_progress_bar\u001b[38;5;241m=\u001b[39mshow_progress_bar,\n\u001b[1;32m    461\u001b[0m     )\n",
      "File \u001b[0;32m~/anaconda3/envs/dl/lib/python3.11/site-packages/optuna/study/_optimize.py:62\u001b[0m, in \u001b[0;36m_optimize\u001b[0;34m(study, func, n_trials, timeout, n_jobs, catch, callbacks, gc_after_trial, show_progress_bar)\u001b[0m\n\u001b[1;32m     60\u001b[0m \u001b[38;5;28;01mtry\u001b[39;00m:\n\u001b[1;32m     61\u001b[0m     \u001b[38;5;28;01mif\u001b[39;00m n_jobs \u001b[38;5;241m==\u001b[39m \u001b[38;5;241m1\u001b[39m:\n\u001b[0;32m---> 62\u001b[0m         _optimize_sequential(\n\u001b[1;32m     63\u001b[0m             study,\n\u001b[1;32m     64\u001b[0m             func,\n\u001b[1;32m     65\u001b[0m             n_trials,\n\u001b[1;32m     66\u001b[0m             timeout,\n\u001b[1;32m     67\u001b[0m             catch,\n\u001b[1;32m     68\u001b[0m             callbacks,\n\u001b[1;32m     69\u001b[0m             gc_after_trial,\n\u001b[1;32m     70\u001b[0m             reseed_sampler_rng\u001b[38;5;241m=\u001b[39m\u001b[38;5;28;01mFalse\u001b[39;00m,\n\u001b[1;32m     71\u001b[0m             time_start\u001b[38;5;241m=\u001b[39m\u001b[38;5;28;01mNone\u001b[39;00m,\n\u001b[1;32m     72\u001b[0m             progress_bar\u001b[38;5;241m=\u001b[39mprogress_bar,\n\u001b[1;32m     73\u001b[0m         )\n\u001b[1;32m     74\u001b[0m     \u001b[38;5;28;01melse\u001b[39;00m:\n\u001b[1;32m     75\u001b[0m         \u001b[38;5;28;01mif\u001b[39;00m n_jobs \u001b[38;5;241m==\u001b[39m \u001b[38;5;241m-\u001b[39m\u001b[38;5;241m1\u001b[39m:\n",
      "File \u001b[0;32m~/anaconda3/envs/dl/lib/python3.11/site-packages/optuna/study/_optimize.py:159\u001b[0m, in \u001b[0;36m_optimize_sequential\u001b[0;34m(study, func, n_trials, timeout, catch, callbacks, gc_after_trial, reseed_sampler_rng, time_start, progress_bar)\u001b[0m\n\u001b[1;32m    156\u001b[0m         \u001b[38;5;28;01mbreak\u001b[39;00m\n\u001b[1;32m    158\u001b[0m \u001b[38;5;28;01mtry\u001b[39;00m:\n\u001b[0;32m--> 159\u001b[0m     frozen_trial \u001b[38;5;241m=\u001b[39m _run_trial(study, func, catch)\n\u001b[1;32m    160\u001b[0m \u001b[38;5;28;01mfinally\u001b[39;00m:\n\u001b[1;32m    161\u001b[0m     \u001b[38;5;66;03m# The following line mitigates memory problems that can be occurred in some\u001b[39;00m\n\u001b[1;32m    162\u001b[0m     \u001b[38;5;66;03m# environments (e.g., services that use computing containers such as GitHub Actions).\u001b[39;00m\n\u001b[1;32m    163\u001b[0m     \u001b[38;5;66;03m# Please refer to the following PR for further details:\u001b[39;00m\n\u001b[1;32m    164\u001b[0m     \u001b[38;5;66;03m# https://github.com/optuna/optuna/pull/325.\u001b[39;00m\n\u001b[1;32m    165\u001b[0m     \u001b[38;5;28;01mif\u001b[39;00m gc_after_trial:\n",
      "File \u001b[0;32m~/anaconda3/envs/dl/lib/python3.11/site-packages/optuna/study/_optimize.py:247\u001b[0m, in \u001b[0;36m_run_trial\u001b[0;34m(study, func, catch)\u001b[0m\n\u001b[1;32m    240\u001b[0m         \u001b[38;5;28;01massert\u001b[39;00m \u001b[38;5;28;01mFalse\u001b[39;00m, \u001b[38;5;124m\"\u001b[39m\u001b[38;5;124mShould not reach.\u001b[39m\u001b[38;5;124m\"\u001b[39m\n\u001b[1;32m    242\u001b[0m \u001b[38;5;28;01mif\u001b[39;00m (\n\u001b[1;32m    243\u001b[0m     frozen_trial\u001b[38;5;241m.\u001b[39mstate \u001b[38;5;241m==\u001b[39m TrialState\u001b[38;5;241m.\u001b[39mFAIL\n\u001b[1;32m    244\u001b[0m     \u001b[38;5;129;01mand\u001b[39;00m func_err \u001b[38;5;129;01mis\u001b[39;00m \u001b[38;5;129;01mnot\u001b[39;00m \u001b[38;5;28;01mNone\u001b[39;00m\n\u001b[1;32m    245\u001b[0m     \u001b[38;5;129;01mand\u001b[39;00m \u001b[38;5;129;01mnot\u001b[39;00m \u001b[38;5;28misinstance\u001b[39m(func_err, catch)\n\u001b[1;32m    246\u001b[0m ):\n\u001b[0;32m--> 247\u001b[0m     \u001b[38;5;28;01mraise\u001b[39;00m func_err\n\u001b[1;32m    248\u001b[0m \u001b[38;5;28;01mreturn\u001b[39;00m frozen_trial\n",
      "File \u001b[0;32m~/anaconda3/envs/dl/lib/python3.11/site-packages/optuna/study/_optimize.py:196\u001b[0m, in \u001b[0;36m_run_trial\u001b[0;34m(study, func, catch)\u001b[0m\n\u001b[1;32m    194\u001b[0m \u001b[38;5;28;01mwith\u001b[39;00m get_heartbeat_thread(trial\u001b[38;5;241m.\u001b[39m_trial_id, study\u001b[38;5;241m.\u001b[39m_storage):\n\u001b[1;32m    195\u001b[0m     \u001b[38;5;28;01mtry\u001b[39;00m:\n\u001b[0;32m--> 196\u001b[0m         value_or_values \u001b[38;5;241m=\u001b[39m func(trial)\n\u001b[1;32m    197\u001b[0m     \u001b[38;5;28;01mexcept\u001b[39;00m exceptions\u001b[38;5;241m.\u001b[39mTrialPruned \u001b[38;5;28;01mas\u001b[39;00m e:\n\u001b[1;32m    198\u001b[0m         \u001b[38;5;66;03m# TODO(mamu): Handle multi-objective cases.\u001b[39;00m\n\u001b[1;32m    199\u001b[0m         state \u001b[38;5;241m=\u001b[39m TrialState\u001b[38;5;241m.\u001b[39mPRUNED\n",
      "Cell \u001b[0;32mIn[7], line 26\u001b[0m, in \u001b[0;36mfinetune_nb.<locals>.objective\u001b[0;34m(trial)\u001b[0m\n\u001b[1;32m     23\u001b[0m nb\u001b[38;5;241m.\u001b[39mfit(X_train, y_train)\n\u001b[1;32m     25\u001b[0m \u001b[38;5;66;03m# Calculate the accuracy score on the validation set\u001b[39;00m\n\u001b[0;32m---> 26\u001b[0m y_pred \u001b[38;5;241m=\u001b[39m nb\u001b[38;5;241m.\u001b[39mpredict(X_test)\n\u001b[1;32m     27\u001b[0m accuracy \u001b[38;5;241m=\u001b[39m metrics\u001b[38;5;241m.\u001b[39maccuracy_score(y_test, y_pred)\n\u001b[1;32m     29\u001b[0m \u001b[38;5;28;01mreturn\u001b[39;00m accuracy\n",
      "File \u001b[0;32m~/anaconda3/envs/dl/lib/python3.11/site-packages/sklearn/naive_bayes.py:102\u001b[0m, in \u001b[0;36m_BaseNB.predict\u001b[0;34m(self, X)\u001b[0m\n\u001b[1;32m    100\u001b[0m check_is_fitted(\u001b[38;5;28mself\u001b[39m)\n\u001b[1;32m    101\u001b[0m X \u001b[38;5;241m=\u001b[39m \u001b[38;5;28mself\u001b[39m\u001b[38;5;241m.\u001b[39m_check_X(X)\n\u001b[0;32m--> 102\u001b[0m jll \u001b[38;5;241m=\u001b[39m \u001b[38;5;28mself\u001b[39m\u001b[38;5;241m.\u001b[39m_joint_log_likelihood(X)\n\u001b[1;32m    103\u001b[0m \u001b[38;5;28;01mreturn\u001b[39;00m \u001b[38;5;28mself\u001b[39m\u001b[38;5;241m.\u001b[39mclasses_[np\u001b[38;5;241m.\u001b[39margmax(jll, axis\u001b[38;5;241m=\u001b[39m\u001b[38;5;241m1\u001b[39m)]\n",
      "File \u001b[0;32m~/anaconda3/envs/dl/lib/python3.11/site-packages/sklearn/naive_bayes.py:511\u001b[0m, in \u001b[0;36mGaussianNB._joint_log_likelihood\u001b[0;34m(self, X)\u001b[0m\n\u001b[1;32m    509\u001b[0m     jointi \u001b[38;5;241m=\u001b[39m np\u001b[38;5;241m.\u001b[39mlog(\u001b[38;5;28mself\u001b[39m\u001b[38;5;241m.\u001b[39mclass_prior_[i])\n\u001b[1;32m    510\u001b[0m     n_ij \u001b[38;5;241m=\u001b[39m \u001b[38;5;241m-\u001b[39m\u001b[38;5;241m0.5\u001b[39m \u001b[38;5;241m*\u001b[39m np\u001b[38;5;241m.\u001b[39msum(np\u001b[38;5;241m.\u001b[39mlog(\u001b[38;5;241m2.0\u001b[39m \u001b[38;5;241m*\u001b[39m np\u001b[38;5;241m.\u001b[39mpi \u001b[38;5;241m*\u001b[39m \u001b[38;5;28mself\u001b[39m\u001b[38;5;241m.\u001b[39mvar_[i, :]))\n\u001b[0;32m--> 511\u001b[0m     n_ij \u001b[38;5;241m-\u001b[39m\u001b[38;5;241m=\u001b[39m \u001b[38;5;241m0.5\u001b[39m \u001b[38;5;241m*\u001b[39m np\u001b[38;5;241m.\u001b[39msum(((X \u001b[38;5;241m-\u001b[39m \u001b[38;5;28mself\u001b[39m\u001b[38;5;241m.\u001b[39mtheta_[i, :]) \u001b[38;5;241m*\u001b[39m\u001b[38;5;241m*\u001b[39m \u001b[38;5;241m2\u001b[39m) \u001b[38;5;241m/\u001b[39m (\u001b[38;5;28mself\u001b[39m\u001b[38;5;241m.\u001b[39mvar_[i, :]), \u001b[38;5;241m1\u001b[39m)\n\u001b[1;32m    512\u001b[0m     joint_log_likelihood\u001b[38;5;241m.\u001b[39mappend(jointi \u001b[38;5;241m+\u001b[39m n_ij)\n\u001b[1;32m    514\u001b[0m joint_log_likelihood \u001b[38;5;241m=\u001b[39m np\u001b[38;5;241m.\u001b[39marray(joint_log_likelihood)\u001b[38;5;241m.\u001b[39mT\n",
      "File \u001b[0;32m<__array_function__ internals>:177\u001b[0m, in \u001b[0;36msum\u001b[0;34m(*args, **kwargs)\u001b[0m\n",
      "\u001b[0;31mKeyboardInterrupt\u001b[0m: "
     ]
    }
   ],
   "source": [
    "for name, features in features_dict.items():\n",
    "    finetune_nb(features, y, name, n_trials=trials)"
   ]
  },
  {
   "cell_type": "markdown",
   "metadata": {},
   "source": [
    "## Random Forest"
   ]
  },
  {
   "cell_type": "code",
   "execution_count": null,
   "metadata": {},
   "outputs": [],
   "source": [
    "def finetune_rf(features, labels, features_name, test_size=0.2, n_trials=100):\n",
    "    timestamp = get_timestamp()\n",
    "    reports_filename = os.path.join(reports_dir, f'flat_rf_{features_name}_{timestamp}.txt')\n",
    "    file = open(reports_filename, 'a')\n",
    "    \n",
    "    file.write(f\"{features_name} features - {features.shape}\\n\")\n",
    "    X_train, X_test, y_train, y_test = train_test_split(features, labels, test_size=test_size, random_state=42)\n",
    "    file.write(f\"X_train shape: {X_train.shape}, X_test shape: {X_test.shape}, y_train shape: {y_train.shape}, y_test shape: {y_test.shape}\\n\")\n",
    "    \n",
    "    file.write(\"Hyperparameters and search space\\n\")\n",
    "    file.write(\"\\tn_estimators: 50-500\\n\")\n",
    "    file.write(\"\\tmax_depth: 1-20\\n\")\n",
    "    file.write(\"\\tmin_samples_split: 2-20\\n\")\n",
    "    file.write(\"\\tmin_samples_leaf: 1-10\\n\")\n",
    "    file.write(\"\\tcriterion: gini, entropy\\n\")\n",
    "\n",
    "    def objective(trial):\n",
    "        # Define the search space for hyperparameters\n",
    "        n_estimators = trial.suggest_int('n_estimators', 50, 500)\n",
    "        max_depth = trial.suggest_int('max_depth', 1, 20)\n",
    "        min_samples_split = trial.suggest_int('min_samples_split', 2, 20)\n",
    "        min_samples_leaf = trial.suggest_int('min_samples_leaf', 1, 10)\n",
    "        criterion = trial.suggest_categorical('criterion', ['gini', 'entropy'])\n",
    "        \n",
    "        # Instantiate the Random Forest Classifier with the suggested hyperparameters\n",
    "        rf = RandomForestClassifier(\n",
    "            n_estimators=n_estimators,\n",
    "            max_depth=max_depth,\n",
    "            min_samples_split=min_samples_split,\n",
    "            min_samples_leaf=min_samples_leaf,\n",
    "            criterion=criterion,\n",
    "            random_state=42,\n",
    "            n_jobs=-1,\n",
    "        )\n",
    "    \n",
    "        # Train the model\n",
    "        rf.fit(X_train, y_train)\n",
    "        \n",
    "        # Calculate the accuracy score on the validation set\n",
    "        y_pred = rf.predict(X_test)\n",
    "        accuracy = metrics.accuracy_score(y_test, y_pred)\n",
    "        \n",
    "        return accuracy\n",
    "    \n",
    "    # Create a study object and optimize the objective function\n",
    "    study = optuna.create_study(direction='maximize')\n",
    "    study.optimize(objective, n_trials=n_trials)\n",
    "\n",
    "    file.write(f\"Best hyperparameters: {str(study.best_params)}\\n\")\n",
    "    file.write(f\"Best accuracy: {str(study.best_value)}\\n\")\n",
    "    file.close()\n",
    "\n",
    "    print(f\"Finetuning completed with {study.best_value} accuracy\")\n",
    "    print(\"Logs saved to\", reports_filename)\n",
    "    "
   ]
  },
  {
   "cell_type": "code",
   "execution_count": null,
   "metadata": {},
   "outputs": [],
   "source": [
    "for name, features in features_dict.items():\n",
    "    finetune_rf(features, y, name, n_trials=trials)"
   ]
  },
  {
   "cell_type": "markdown",
   "metadata": {},
   "source": [
    "## XGBoost"
   ]
  },
  {
   "cell_type": "code",
   "execution_count": null,
   "metadata": {},
   "outputs": [],
   "source": [
    "def finetune_xgb(features, labels, features_name, test_size=0.2, n_trials=100):\n",
    "    timestamp = get_timestamp()\n",
    "    reports_filename = os.path.join(reports_dir, f'flat_xgb_{features_name}_{timestamp}.txt')\n",
    "    file = open(reports_filename, 'a')\n",
    "    \n",
    "    file.write(f\"{features_name} features - {features.shape}\\n\")\n",
    "    X_train, X_test, y_train, y_test = train_test_split(features, labels, test_size=test_size, random_state=42)\n",
    "    file.write(f\"X_train shape: {X_train.shape}, X_test shape: {X_test.shape}, y_train shape: {y_train.shape}, y_test shape: {y_test.shape}\\n\")\n",
    "    \n",
    "    file.write(\"Hyperparameters and search space\\n\")\n",
    "    file.write(\"\\tn_estimators: 50-500\\n\")\n",
    "    file.write(\"\\tmax_depth: 1-20\\n\")\n",
    "    file.write(\"\\tsubsample: 0.5-1.0\\n\")\n",
    "    file.write(\"\\tcolsample_bytree: 0.5-1.0\\n\")\n",
    "    file.write(\"\\tgamma: 1e-8-1.0\\n\")\n",
    "    file.write(\"\\tmin_child_weight: 1-10\\n\")\n",
    "\n",
    "    def objective(trial):\n",
    "        learning_rate = trial.suggest_loguniform('learning_rate', 1e-3, 0.1)\n",
    "        n_estimators = trial.suggest_int('n_estimators', 50, 500)\n",
    "        max_depth = trial.suggest_int('max_depth', 1, 20)\n",
    "        subsample = trial.suggest_uniform('subsample', 0.5, 1.0)\n",
    "        colsample_bytree = trial.suggest_uniform('colsample_bytree', 0.5, 1.0)\n",
    "        gamma = trial.suggest_loguniform('gamma', 1e-8, 1.0)\n",
    "        min_child_weight = trial.suggest_int('min_child_weight', 1, 10)\n",
    "\n",
    "        xgb = XGBClassifier(\n",
    "            learning_rate=learning_rate,\n",
    "            n_estimators=n_estimators,\n",
    "            max_depth=max_depth,\n",
    "            subsample=subsample,\n",
    "            colsample_bytree=colsample_bytree,\n",
    "            gamma=gamma,\n",
    "            min_child_weight=min_child_weight,\n",
    "            objective='multi:softmax',\n",
    "            eval_metric='mlogloss',\n",
    "            random_state=42,\n",
    "            verbosity=0,\n",
    "            n_jobs=-1,\n",
    "        )\n",
    "\n",
    "        # Fit the model on the training data\n",
    "        xgb.fit(X_train, y_train, eval_set=[(X_test, y_test)], early_stopping_rounds=10, verbose=False)\n",
    "\n",
    "        y_pred = xgb.predict(X_test)\n",
    "        accuracy = metrics.accuracy_score(y_test, y_pred)\n",
    "\n",
    "        return accuracy\n",
    "    \n",
    "    # Create a study object and optimize the objective function\n",
    "    study = optuna.create_study(direction='maximize')\n",
    "    study.optimize(objective, n_trials=n_trials)\n",
    "\n",
    "    file.write(f\"Best hyperparameters: {str(study.best_params)}\\n\")\n",
    "    file.write(f\"Best accuracy: {str(study.best_value)}\\n\")\n",
    "    file.close()\n",
    "\n",
    "    print(f\"Finetuning completed with {study.best_value} accuracy\")\n",
    "    print(\"Logs saved to\", reports_filename)\n",
    "    "
   ]
  },
  {
   "cell_type": "code",
   "execution_count": null,
   "metadata": {},
   "outputs": [],
   "source": [
    "for name, features in features_dict.items():\n",
    "    finetune_xgb(features, y, name, n_trials=trials)"
   ]
  },
  {
   "cell_type": "markdown",
   "metadata": {},
   "source": [
    "## LightGBM"
   ]
  },
  {
   "cell_type": "code",
   "execution_count": null,
   "metadata": {},
   "outputs": [],
   "source": [
    "def finetune_lgbm(features, labels, features_name, test_size=0.2, n_trials=100):\n",
    "    timestamp = get_timestamp()\n",
    "    reports_filename = os.path.join(reports_dir, f'flat_lgbm_{features_name}_{timestamp}.txt')\n",
    "    file = open(reports_filename, 'a')\n",
    "    \n",
    "    file.write(f\"{features_name} features - {features.shape}\\n\")\n",
    "    X_train, X_test, y_train, y_test = train_test_split(features, labels, test_size=test_size, random_state=42)\n",
    "    file.write(f\"X_train shape: {X_train.shape}, X_test shape: {X_test.shape}, y_train shape: {y_train.shape}, y_test shape: {y_test.shape}\\n\")\n",
    "    \n",
    "    file.write(\"Hyperparameters and search space\\n\")\n",
    "    file.write(\"\\tlearning_rate: 1e-3-0.1\\n\")\n",
    "    file.write(\"\\tn_estimators: 50-500\\n\")\n",
    "    file.write(\"\\tmax_depth: 1-20\\n\")\n",
    "    file.write(\"\\tsubsample: 0.5-1.0\\n\")\n",
    "    file.write(\"\\tcolsample_bytree: 0.5-1.0\\n\")\n",
    "    file.write(\"\\tmin_child_samples: 1-20\\n\")\n",
    "    file.write(\"\\tnum_leaves: 20-50\\n\")\n",
    "    file.write(\"\\tboosting_type: gbdt, dart, rf\\n\")\n",
    "\n",
    "    def objective(trial):\n",
    "        learning_rate = trial.suggest_loguniform('learning_rate', 1e-3, 0.1)\n",
    "        n_estimators = trial.suggest_int('n_estimators', 50, 500)\n",
    "        max_depth = trial.suggest_int('max_depth', 1, 20)\n",
    "        subsample = trial.suggest_uniform('subsample', 0.5, 1.0)\n",
    "        colsample_bytree = trial.suggest_uniform('colsample_bytree', 0.5, 1.0)\n",
    "        min_child_samples = trial.suggest_int('min_child_samples', 1, 20)\n",
    "        num_leaves = trial.suggest_int('num_leaves', 20, 50)\n",
    "        boosting_type = trial.suggest_categorical('boosting_type', ['gbdt', 'dart', 'rf'])\n",
    "\n",
    "        # Initialize the LightGBM classifier with the hyperparameters\n",
    "        lgbm = LGBMClassifier(\n",
    "            boosting_type=boosting_type,\n",
    "            learning_rate=learning_rate,\n",
    "            n_estimators=n_estimators,\n",
    "            max_depth=max_depth,\n",
    "            subsample=subsample,\n",
    "            colsample_bytree=colsample_bytree,\n",
    "            min_child_samples=min_child_samples,\n",
    "            num_leaves=num_leaves,\n",
    "            objective='multiclass',\n",
    "            random_state=42,\n",
    "            n_jobs=-1,\n",
    "        )\n",
    "\n",
    "        # Fit the model on the training data\n",
    "        lgbm.fit(X_train, y_train, eval_set=[(X_test, y_test)], early_stopping_rounds=10, verbose=False)\n",
    "\n",
    "        # Calculate the validation accuracy\n",
    "        y_pred = lgbm.predict(X_test)\n",
    "        accuracy = metrics.accuracy_score(y_test, y_pred)\n",
    "\n",
    "        return accuracy\n",
    "    \n",
    "    # Create a study object and optimize the objective function\n",
    "    study = optuna.create_study(direction='maximize')\n",
    "    study.optimize(objective, n_trials=n_trials)\n",
    "\n",
    "    file.write(f\"Best hyperparameters: {str(study.best_params)}\\n\")\n",
    "    file.write(f\"Best accuracy: {str(study.best_value)}\\n\")\n",
    "    file.close()\n",
    "\n",
    "    print(f\"Finetuning completed with {study.best_value} accuracy\")\n",
    "    print(\"Logs saved to\", reports_filename)\n",
    "    "
   ]
  },
  {
   "cell_type": "code",
   "execution_count": null,
   "metadata": {},
   "outputs": [],
   "source": [
    "for name, features in features_dict.items():\n",
    "    finetune_lgbm(features, y, name, n_trials=trials)"
   ]
  },
  {
   "cell_type": "markdown",
   "metadata": {},
   "source": [
    "## CatBoost"
   ]
  },
  {
   "cell_type": "code",
   "execution_count": null,
   "metadata": {},
   "outputs": [],
   "source": [
    "def finetune_cb(features, labels, features_name, test_size=0.2, n_trials=100):\n",
    "    timestamp = get_timestamp()\n",
    "    reports_filename = os.path.join(reports_dir, f'flat_cb_{features_name}_{timestamp}.txt')\n",
    "    file = open(reports_filename, 'a')\n",
    "    \n",
    "    file.write(f\"{features_name} features - {features.shape}\\n\")\n",
    "    X_train, X_test, y_train, y_test = train_test_split(features, labels, test_size=test_size, random_state=42)\n",
    "    file.write(f\"X_train shape: {X_train.shape}, X_test shape: {X_test.shape}, y_train shape: {y_train.shape}, y_test shape: {y_test.shape}\\n\")\n",
    "    \n",
    "    file.write(\"Hyperparameters and search space\\n\")\n",
    "    file.write(\"\\titerations: 100-1000\\n\")\n",
    "    file.write(\"\\tlearning_rate: 0.001-0.1\\n\")\n",
    "    file.write(\"\\tdepth: 4-10\\n\")\n",
    "    file.write(\"\\tl2_leaf_reg: 1e-2-10.0\\n\")\n",
    "\n",
    "    def objective(trial):\n",
    "        iterations = trial.suggest_int('iterations', 100, 1000)\n",
    "        learning_rate = trial.suggest_loguniform('learning_rate', 0.001, 0.1)\n",
    "        depth = trial.suggest_int('depth', 4, 10)\n",
    "        l2_leaf_reg = trial.suggest_loguniform('l2_leaf_reg', 1e-2, 10.0)\n",
    "\n",
    "        # Initialize the CatBoost classifier with the hyperparameters\n",
    "        cb = CatBoostClassifier(\n",
    "            iterations=iterations,\n",
    "            learning_rate=learning_rate,\n",
    "            depth=depth,\n",
    "            l2_leaf_reg=l2_leaf_reg,\n",
    "            random_state=42,\n",
    "            verbose=0,\n",
    "        )\n",
    "\n",
    "        # Fit the model on the training data\n",
    "        cb.fit(X_train, y_train, eval_set=(X_test, y_test), early_stopping_rounds=10, verbose=False)\n",
    "\n",
    "        # Calculate the validation accuracy\n",
    "        y_pred = cb.predict(X_test)\n",
    "        accuracy = metrics.accuracy_score(y_test, y_pred)\n",
    "\n",
    "        return accuracy\n",
    "    \n",
    "    # Create a study object and optimize the objective function\n",
    "    study = optuna.create_study(direction='maximize')\n",
    "    study.optimize(objective, n_trials=n_trials)\n",
    "\n",
    "    file.write(f\"Best hyperparameters: {str(study.best_params)}\\n\")\n",
    "    file.write(f\"Best accuracy: {str(study.best_value)}\\n\")\n",
    "    file.close()\n",
    "\n",
    "    print(f\"Finetuning completed with {study.best_value} accuracy\")\n",
    "    print(\"Logs saved to\", reports_filename)\n",
    "    "
   ]
  },
  {
   "cell_type": "code",
   "execution_count": null,
   "metadata": {},
   "outputs": [],
   "source": [
    "for name, features in features_dict.items():\n",
    "    finetune_cb(features, y, name, n_trials=trials)"
   ]
  },
  {
   "cell_type": "code",
   "execution_count": null,
   "metadata": {},
   "outputs": [],
   "source": []
  }
 ],
 "metadata": {
  "kernelspec": {
   "display_name": "dl",
   "language": "python",
   "name": "python3"
  },
  "language_info": {
   "codemirror_mode": {
    "name": "ipython",
    "version": 3
   },
   "file_extension": ".py",
   "mimetype": "text/x-python",
   "name": "python",
   "nbconvert_exporter": "python",
   "pygments_lexer": "ipython3",
   "version": "3.11.0"
  }
 },
 "nbformat": 4,
 "nbformat_minor": 2
}
