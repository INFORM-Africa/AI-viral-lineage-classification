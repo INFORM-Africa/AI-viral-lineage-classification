{
 "cells": [
  {
   "cell_type": "code",
   "execution_count": 1,
   "metadata": {},
   "outputs": [],
   "source": [
    "import pandas as pd\n",
    "import numpy as np\n",
    "import matplotlib.pyplot as plt\n",
    "from feature_selection import ReliefF\n",
    "from feature_extraction import ConventionalFeatures, CoutinhoFeatures, MurugaiahFeatures, ZhangFeatures\n",
    "\n",
    "%config InlineBackend.figure_format = 'svg'"
   ]
  },
  {
   "cell_type": "code",
   "execution_count": 2,
   "metadata": {},
   "outputs": [],
   "source": [
    "df = pd.read_parquet('data/dataset.parquet')\n",
    "df.drop(columns=[\"strain\", \"date\", \"date_submitted\"], inplace=True)"
   ]
  },
  {
   "cell_type": "code",
   "execution_count": 3,
   "metadata": {},
   "outputs": [
    {
     "data": {
      "text/html": [
       "<div>\n",
       "<style scoped>\n",
       "    .dataframe tbody tr th:only-of-type {\n",
       "        vertical-align: middle;\n",
       "    }\n",
       "\n",
       "    .dataframe tbody tr th {\n",
       "        vertical-align: top;\n",
       "    }\n",
       "\n",
       "    .dataframe thead th {\n",
       "        text-align: right;\n",
       "    }\n",
       "</style>\n",
       "<table border=\"1\" class=\"dataframe\">\n",
       "  <thead>\n",
       "    <tr style=\"text-align: right;\">\n",
       "      <th></th>\n",
       "      <th>pangolin_lineage</th>\n",
       "      <th>sequence</th>\n",
       "    </tr>\n",
       "  </thead>\n",
       "  <tbody>\n",
       "    <tr>\n",
       "      <th>0</th>\n",
       "      <td>BA.1.1.1</td>\n",
       "      <td>AACTTTCGATCTCTTGTAGATCTGTTCTCTAAACGAACTTTAAAAT...</td>\n",
       "    </tr>\n",
       "    <tr>\n",
       "      <th>1</th>\n",
       "      <td>BA.1.1</td>\n",
       "      <td>AGGTAACAAACCAACCAACTTTCGATCTCTTGTAGATCTGTTCTCT...</td>\n",
       "    </tr>\n",
       "    <tr>\n",
       "      <th>2</th>\n",
       "      <td>BA.1.1</td>\n",
       "      <td>AGGTAACAAACCAACCAACTTTCGATCTCTTGTAGATCTGTTCTCT...</td>\n",
       "    </tr>\n",
       "    <tr>\n",
       "      <th>3</th>\n",
       "      <td>BA.1.15</td>\n",
       "      <td>AGGTAACAAACCAACCAACTTTCGATCTCTTGTAGATCTGTTCTCT...</td>\n",
       "    </tr>\n",
       "    <tr>\n",
       "      <th>4</th>\n",
       "      <td>BA.1.1</td>\n",
       "      <td>ACCAACTTTCGATCTCTTGTAGATCTGTTCTCTAAACGAACTTTAA...</td>\n",
       "    </tr>\n",
       "    <tr>\n",
       "      <th>...</th>\n",
       "      <td>...</td>\n",
       "      <td>...</td>\n",
       "    </tr>\n",
       "    <tr>\n",
       "      <th>363</th>\n",
       "      <td>AY.127</td>\n",
       "      <td>AGATCTGTTCTCTAAACGAACTTTAAAATCTGTGTGGCTGTCACTC...</td>\n",
       "    </tr>\n",
       "    <tr>\n",
       "      <th>364</th>\n",
       "      <td>AY.36</td>\n",
       "      <td>AGATCTGTTCTCTAAACGAACTTTAAAATCTGTGTGGCTGTCACTC...</td>\n",
       "    </tr>\n",
       "    <tr>\n",
       "      <th>365</th>\n",
       "      <td>B.1.617.2</td>\n",
       "      <td>AGATCTGTTCTCTAAACGAACTTTAAAATCTGGGTGGCTGTCACTC...</td>\n",
       "    </tr>\n",
       "    <tr>\n",
       "      <th>366</th>\n",
       "      <td>AY.121</td>\n",
       "      <td>AGATCTGTTCTCTAAACGAACTTTAAAATCTGTGTGGCTGTCACTC...</td>\n",
       "    </tr>\n",
       "    <tr>\n",
       "      <th>367</th>\n",
       "      <td>AY.127</td>\n",
       "      <td>AGATCTGTTCTCTAAACGAACTTTAAAATCTGTGTGGCTGTCACTC...</td>\n",
       "    </tr>\n",
       "  </tbody>\n",
       "</table>\n",
       "<p>368 rows × 2 columns</p>\n",
       "</div>"
      ],
      "text/plain": [
       "    pangolin_lineage                                           sequence\n",
       "0           BA.1.1.1  AACTTTCGATCTCTTGTAGATCTGTTCTCTAAACGAACTTTAAAAT...\n",
       "1             BA.1.1  AGGTAACAAACCAACCAACTTTCGATCTCTTGTAGATCTGTTCTCT...\n",
       "2             BA.1.1  AGGTAACAAACCAACCAACTTTCGATCTCTTGTAGATCTGTTCTCT...\n",
       "3            BA.1.15  AGGTAACAAACCAACCAACTTTCGATCTCTTGTAGATCTGTTCTCT...\n",
       "4             BA.1.1  ACCAACTTTCGATCTCTTGTAGATCTGTTCTCTAAACGAACTTTAA...\n",
       "..               ...                                                ...\n",
       "363           AY.127  AGATCTGTTCTCTAAACGAACTTTAAAATCTGTGTGGCTGTCACTC...\n",
       "364            AY.36  AGATCTGTTCTCTAAACGAACTTTAAAATCTGTGTGGCTGTCACTC...\n",
       "365        B.1.617.2  AGATCTGTTCTCTAAACGAACTTTAAAATCTGGGTGGCTGTCACTC...\n",
       "366           AY.121  AGATCTGTTCTCTAAACGAACTTTAAAATCTGTGTGGCTGTCACTC...\n",
       "367           AY.127  AGATCTGTTCTCTAAACGAACTTTAAAATCTGTGTGGCTGTCACTC...\n",
       "\n",
       "[368 rows x 2 columns]"
      ]
     },
     "execution_count": 3,
     "metadata": {},
     "output_type": "execute_result"
    }
   ],
   "source": [
    "df"
   ]
  },
  {
   "cell_type": "code",
   "execution_count": 4,
   "metadata": {},
   "outputs": [
    {
     "name": "stdout",
     "output_type": "stream",
     "text": [
      "(368, 118)\n"
     ]
    }
   ],
   "source": [
    "murugaiah_features = MurugaiahFeatures().extract_features(df.sequence.values)\n",
    "print(murugaiah_features.shape)"
   ]
  },
  {
   "cell_type": "code",
   "execution_count": 11,
   "metadata": {},
   "outputs": [],
   "source": [
    "relieff = ReliefF(n_instances=300, n_neighbors=10)\n",
    "n_features_to_select = 30\n",
    "is_binary_features = False"
   ]
  },
  {
   "cell_type": "code",
   "execution_count": null,
   "metadata": {},
   "outputs": [],
   "source": [
    "selected_murugaiah_features = relieff.fit_transform(\n",
    "    X=murugaiah_features, \n",
    "    y=df.pangolin_lineage.values, \n",
    "    n_select=30, \n",
    "    is_discrete=False,\n",
    "    n_iterations=100,\n",
    ")"
   ]
  },
  {
   "cell_type": "code",
   "execution_count": 12,
   "metadata": {},
   "outputs": [
    {
     "data": {
      "text/plain": [
       "(368, 30)"
      ]
     },
     "execution_count": 12,
     "metadata": {},
     "output_type": "execute_result"
    }
   ],
   "source": [
    "selected_murugaiah_features.shape"
   ]
  },
  {
   "cell_type": "code",
   "execution_count": 15,
   "metadata": {},
   "outputs": [
    {
     "data": {
      "text/plain": [
       "array([ 88,  48,  36,  30,  84,  80,  50,   1,  54,  78,  37,  64,  70,\n",
       "        60,  56,  85,  57,  62,  82,  29,  34,  53,  42,  26,  17,  81,\n",
       "        76,  24,  28,  35,  86,  13,  74,  63,  33,  58,  43,  55,  89,\n",
       "        41,  83,  77,  38,  72,  20,  39,  68,  75,  40,  66,  18,  87,\n",
       "        71,  67,   8,  31,  79,  15,  27,  16,  14,  19,  59,  21,  22,\n",
       "        23,  46,  10,  11,  73,  51,  32,  69,  12,  49,   7,   9,  65,\n",
       "       111,   5,   4, 100,  47,   6,  61,   3,  44,  45,  52, 110, 101,\n",
       "        93,  25, 116, 104, 107,  95,  97,  91, 102, 115,  98,   2, 106,\n",
       "       109,  92, 112, 105, 108,  96,  94, 114,  99,  90, 103, 113,   0,\n",
       "       117])"
      ]
     },
     "execution_count": 15,
     "metadata": {},
     "output_type": "execute_result"
    }
   ],
   "source": [
    "np.argsort(relieff.feature_importances_)"
   ]
  },
  {
   "cell_type": "code",
   "execution_count": null,
   "metadata": {},
   "outputs": [],
   "source": []
  }
 ],
 "metadata": {
  "kernelspec": {
   "display_name": "dl",
   "language": "python",
   "name": "python3"
  },
  "language_info": {
   "codemirror_mode": {
    "name": "ipython",
    "version": 3
   },
   "file_extension": ".py",
   "mimetype": "text/x-python",
   "name": "python",
   "nbconvert_exporter": "python",
   "pygments_lexer": "ipython3",
   "version": "3.11.0"
  }
 },
 "nbformat": 4,
 "nbformat_minor": 2
}
