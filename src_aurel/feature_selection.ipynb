{
 "cells": [
  {
   "cell_type": "code",
   "execution_count": 6,
   "metadata": {},
   "outputs": [],
   "source": [
    "import pandas as pd\n",
    "import numpy as np\n",
    "import matplotlib.pyplot as plt\n",
    "# from feature_selection import ReliefF\n",
    "from feature_extraction import ConventionalFeatures, CoutinhoFeatures, MurugaiahFeatures, ZhangFeatures\n",
    "\n",
    "%config InlineBackend.figure_format = 'svg'"
   ]
  },
  {
   "cell_type": "code",
   "execution_count": 2,
   "metadata": {},
   "outputs": [],
   "source": [
    "df = pd.read_parquet('data/dataset.parquet')\n",
    "df.drop(columns=[\"strain\", \"date\", \"date_submitted\"], inplace=True)"
   ]
  },
  {
   "cell_type": "code",
   "execution_count": 3,
   "metadata": {},
   "outputs": [
    {
     "data": {
      "text/html": [
       "<div>\n",
       "<style scoped>\n",
       "    .dataframe tbody tr th:only-of-type {\n",
       "        vertical-align: middle;\n",
       "    }\n",
       "\n",
       "    .dataframe tbody tr th {\n",
       "        vertical-align: top;\n",
       "    }\n",
       "\n",
       "    .dataframe thead th {\n",
       "        text-align: right;\n",
       "    }\n",
       "</style>\n",
       "<table border=\"1\" class=\"dataframe\">\n",
       "  <thead>\n",
       "    <tr style=\"text-align: right;\">\n",
       "      <th></th>\n",
       "      <th>pangolin_lineage</th>\n",
       "      <th>sequence</th>\n",
       "    </tr>\n",
       "  </thead>\n",
       "  <tbody>\n",
       "    <tr>\n",
       "      <th>0</th>\n",
       "      <td>BA.1.1.1</td>\n",
       "      <td>AACTTTCGATCTCTTGTAGATCTGTTCTCTAAACGAACTTTAAAAT...</td>\n",
       "    </tr>\n",
       "    <tr>\n",
       "      <th>1</th>\n",
       "      <td>BA.1.1</td>\n",
       "      <td>AGGTAACAAACCAACCAACTTTCGATCTCTTGTAGATCTGTTCTCT...</td>\n",
       "    </tr>\n",
       "    <tr>\n",
       "      <th>2</th>\n",
       "      <td>BA.1.1</td>\n",
       "      <td>AGGTAACAAACCAACCAACTTTCGATCTCTTGTAGATCTGTTCTCT...</td>\n",
       "    </tr>\n",
       "    <tr>\n",
       "      <th>3</th>\n",
       "      <td>BA.1.15</td>\n",
       "      <td>AGGTAACAAACCAACCAACTTTCGATCTCTTGTAGATCTGTTCTCT...</td>\n",
       "    </tr>\n",
       "    <tr>\n",
       "      <th>4</th>\n",
       "      <td>BA.1.1</td>\n",
       "      <td>ACCAACTTTCGATCTCTTGTAGATCTGTTCTCTAAACGAACTTTAA...</td>\n",
       "    </tr>\n",
       "    <tr>\n",
       "      <th>...</th>\n",
       "      <td>...</td>\n",
       "      <td>...</td>\n",
       "    </tr>\n",
       "    <tr>\n",
       "      <th>363</th>\n",
       "      <td>AY.127</td>\n",
       "      <td>AGATCTGTTCTCTAAACGAACTTTAAAATCTGTGTGGCTGTCACTC...</td>\n",
       "    </tr>\n",
       "    <tr>\n",
       "      <th>364</th>\n",
       "      <td>AY.36</td>\n",
       "      <td>AGATCTGTTCTCTAAACGAACTTTAAAATCTGTGTGGCTGTCACTC...</td>\n",
       "    </tr>\n",
       "    <tr>\n",
       "      <th>365</th>\n",
       "      <td>B.1.617.2</td>\n",
       "      <td>AGATCTGTTCTCTAAACGAACTTTAAAATCTGGGTGGCTGTCACTC...</td>\n",
       "    </tr>\n",
       "    <tr>\n",
       "      <th>366</th>\n",
       "      <td>AY.121</td>\n",
       "      <td>AGATCTGTTCTCTAAACGAACTTTAAAATCTGTGTGGCTGTCACTC...</td>\n",
       "    </tr>\n",
       "    <tr>\n",
       "      <th>367</th>\n",
       "      <td>AY.127</td>\n",
       "      <td>AGATCTGTTCTCTAAACGAACTTTAAAATCTGTGTGGCTGTCACTC...</td>\n",
       "    </tr>\n",
       "  </tbody>\n",
       "</table>\n",
       "<p>368 rows × 2 columns</p>\n",
       "</div>"
      ],
      "text/plain": [
       "    pangolin_lineage                                           sequence\n",
       "0           BA.1.1.1  AACTTTCGATCTCTTGTAGATCTGTTCTCTAAACGAACTTTAAAAT...\n",
       "1             BA.1.1  AGGTAACAAACCAACCAACTTTCGATCTCTTGTAGATCTGTTCTCT...\n",
       "2             BA.1.1  AGGTAACAAACCAACCAACTTTCGATCTCTTGTAGATCTGTTCTCT...\n",
       "3            BA.1.15  AGGTAACAAACCAACCAACTTTCGATCTCTTGTAGATCTGTTCTCT...\n",
       "4             BA.1.1  ACCAACTTTCGATCTCTTGTAGATCTGTTCTCTAAACGAACTTTAA...\n",
       "..               ...                                                ...\n",
       "363           AY.127  AGATCTGTTCTCTAAACGAACTTTAAAATCTGTGTGGCTGTCACTC...\n",
       "364            AY.36  AGATCTGTTCTCTAAACGAACTTTAAAATCTGTGTGGCTGTCACTC...\n",
       "365        B.1.617.2  AGATCTGTTCTCTAAACGAACTTTAAAATCTGGGTGGCTGTCACTC...\n",
       "366           AY.121  AGATCTGTTCTCTAAACGAACTTTAAAATCTGTGTGGCTGTCACTC...\n",
       "367           AY.127  AGATCTGTTCTCTAAACGAACTTTAAAATCTGTGTGGCTGTCACTC...\n",
       "\n",
       "[368 rows x 2 columns]"
      ]
     },
     "execution_count": 3,
     "metadata": {},
     "output_type": "execute_result"
    }
   ],
   "source": [
    "df"
   ]
  },
  {
   "cell_type": "code",
   "execution_count": 24,
   "metadata": {},
   "outputs": [
    {
     "name": "stdout",
     "output_type": "stream",
     "text": [
      "(368, 118)\n"
     ]
    }
   ],
   "source": [
    "murugaiah_features = MurugaiahFeatures().extract(df.sequence.values)\n",
    "print(murugaiah_features.shape)"
   ]
  },
  {
   "cell_type": "code",
   "execution_count": 38,
   "metadata": {},
   "outputs": [],
   "source": [
    "class ReliefF:\n",
    "    def __init__(self, n_instances, n_neighbors=10):\n",
    "        self.n_instances = n_instances\n",
    "        self.n_neighbors = n_neighbors\n",
    "        self.feature_importances_ = None\n",
    "        self.selected_features_ = None\n",
    "    \n",
    "    def init_weights(self, n_features):\n",
    "        self.feature_importances_ = np.zeros(n_features)\n",
    "\n",
    "    def _fit(self, X, y, n_select, is_discrete, n_iterations=10):\n",
    "        self.init_weights(X.shape[1])\n",
    "        subset_indices = np.random.choice(X.shape[0], self.n_instances, replace=False)\n",
    "        X_subset = X[subset_indices]\n",
    "        y_subset = y[subset_indices]\n",
    "        classes = np.unique(y)\n",
    "        classes_probs = {c: (y_subset == c).sum() / self.n_instances for c in classes}\n",
    "        classes = np.unique(y_subset)\n",
    "\n",
    "        for _ in range(n_iterations):\n",
    "            R_index = np.random.choice(self.n_instances)\n",
    "            R = X_subset[R_index]\n",
    "            R_class = y_subset[R_index]\n",
    "\n",
    "            updates = np.zeros(X.shape[1])\n",
    "            for c in classes:\n",
    "                class_instances = X_subset[y_subset == c]\n",
    "                sort_indices = np.argsort(np.linalg.norm(class_instances - R, axis=1))\n",
    "                class_nearest_neighbors = class_instances[sort_indices[:self.n_neighbors]]\n",
    "                if c == R_class:\n",
    "                    updates -= self.get_diffs(R, class_nearest_neighbors, is_discrete)\n",
    "                else:\n",
    "                    gamma = classes_probs[c] / (1 - classes_probs[R_class])\n",
    "                    updates += gamma * self.get_diffs(R, class_nearest_neighbors, is_discrete)\n",
    "            \n",
    "            self.feature_importances_ += updates\n",
    "\n",
    "        self.selected_features_ = np.argsort(self.feature_importances_)[-n_select:]\n",
    "\n",
    "    def get_diffs(self, r, nearest_neighbors, is_discrete):\n",
    "        denominator = self.n_neighbors * self.n_instances\n",
    "        if is_discrete:\n",
    "            return (r == nearest_neighbors).astype(int).sum(axis=0) / denominator\n",
    "        \n",
    "        denominator = denominator * (np.max(nearest_neighbors, axis=0) - np.min(nearest_neighbors, axis=0))\n",
    "        return np.abs(r - nearest_neighbors).sum(axis=0)/ (denominator + 1e-10)\n",
    "\n",
    "    def transform(self, X):\n",
    "        return X[:, self.selected_features_]\n",
    "\n",
    "    def fit_transform(self, X, y):\n",
    "        self.fit(X, y)\n",
    "        return self.transform(X)"
   ]
  },
  {
   "cell_type": "code",
   "execution_count": 39,
   "metadata": {},
   "outputs": [],
   "source": [
    "relieff = ReliefF(n_instances=300, n_neighbors=10)\n",
    "relieff.fit(murugaiah_features, df.pangolin_lineage.values, 30, False)"
   ]
  },
  {
   "cell_type": "code",
   "execution_count": null,
   "metadata": {},
   "outputs": [],
   "source": []
  },
  {
   "cell_type": "code",
   "execution_count": null,
   "metadata": {},
   "outputs": [],
   "source": []
  }
 ],
 "metadata": {
  "kernelspec": {
   "display_name": "dl",
   "language": "python",
   "name": "python3"
  },
  "language_info": {
   "codemirror_mode": {
    "name": "ipython",
    "version": 3
   },
   "file_extension": ".py",
   "mimetype": "text/x-python",
   "name": "python",
   "nbconvert_exporter": "python",
   "pygments_lexer": "ipython3",
   "version": "3.11.0"
  }
 },
 "nbformat": 4,
 "nbformat_minor": 2
}
