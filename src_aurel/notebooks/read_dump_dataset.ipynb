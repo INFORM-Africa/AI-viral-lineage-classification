{
 "cells": [
  {
   "cell_type": "code",
   "execution_count": null,
   "metadata": {},
   "outputs": [],
   "source": [
    "import os\n",
    "import sys\n",
    "sys.path.append(os.path.abspath('..'))"
   ]
  },
  {
   "cell_type": "code",
   "execution_count": 1,
   "metadata": {},
   "outputs": [],
   "source": [
    "import os, utils\n",
    "import pandas as pd\n",
    "import pyarrow as pa\n",
    "import pyarrow.parquet as pq\n",
    "from preprocessing.read_data import extract_metadata, extract_sequences, clean_sequences, clean_collection_dates, merge_dfs, remove_consensus_call_sequences"
   ]
  },
  {
   "cell_type": "code",
   "execution_count": 2,
   "metadata": {},
   "outputs": [],
   "source": [
    "settings = utils.load_settings()\n",
    "raw_data_dir = settings['raw_data_dir']\n",
    "cleaned_data_dump_dir = settings['cleaned_data_dir']"
   ]
  },
  {
   "cell_type": "code",
   "execution_count": 3,
   "metadata": {},
   "outputs": [
    {
     "data": {
      "text/html": [
       "<div>\n",
       "<style scoped>\n",
       "    .dataframe tbody tr th:only-of-type {\n",
       "        vertical-align: middle;\n",
       "    }\n",
       "\n",
       "    .dataframe tbody tr th {\n",
       "        vertical-align: top;\n",
       "    }\n",
       "\n",
       "    .dataframe thead th {\n",
       "        text-align: right;\n",
       "    }\n",
       "</style>\n",
       "<table border=\"1\" class=\"dataframe\">\n",
       "  <thead>\n",
       "    <tr style=\"text-align: right;\">\n",
       "      <th></th>\n",
       "      <th>Accession ID</th>\n",
       "      <th>Lineage</th>\n",
       "      <th>Collection date</th>\n",
       "      <th>country</th>\n",
       "      <th>Submission date</th>\n",
       "    </tr>\n",
       "  </thead>\n",
       "  <tbody>\n",
       "    <tr>\n",
       "      <th>0</th>\n",
       "      <td>EPI_ISL_1628772</td>\n",
       "      <td>B.1.1.353</td>\n",
       "      <td>2021-02-02</td>\n",
       "      <td>Reunion</td>\n",
       "      <td>2021-04-17</td>\n",
       "    </tr>\n",
       "    <tr>\n",
       "      <th>1</th>\n",
       "      <td>EPI_ISL_1166942</td>\n",
       "      <td>B.1.160.18</td>\n",
       "      <td>2021-01-18</td>\n",
       "      <td>Mayotte</td>\n",
       "      <td>2021-03-05</td>\n",
       "    </tr>\n",
       "    <tr>\n",
       "      <th>2</th>\n",
       "      <td>EPI_ISL_1018072</td>\n",
       "      <td>R.1</td>\n",
       "      <td>2021-01-10</td>\n",
       "      <td>Ghana</td>\n",
       "      <td>2021-02-12</td>\n",
       "    </tr>\n",
       "    <tr>\n",
       "      <th>3</th>\n",
       "      <td>EPI_ISL_729972</td>\n",
       "      <td>B.1.1</td>\n",
       "      <td>2020-07-07</td>\n",
       "      <td>Nigeria</td>\n",
       "      <td>2020-12-23</td>\n",
       "    </tr>\n",
       "    <tr>\n",
       "      <th>4</th>\n",
       "      <td>EPI_ISL_1700676</td>\n",
       "      <td>B.1.351</td>\n",
       "      <td>2021-01-12</td>\n",
       "      <td>Equatorial Guinea</td>\n",
       "      <td>2021-04-23</td>\n",
       "    </tr>\n",
       "  </tbody>\n",
       "</table>\n",
       "</div>"
      ],
      "text/plain": [
       "      Accession ID     Lineage Collection date            country  \\\n",
       "0  EPI_ISL_1628772   B.1.1.353      2021-02-02            Reunion   \n",
       "1  EPI_ISL_1166942  B.1.160.18      2021-01-18            Mayotte   \n",
       "2  EPI_ISL_1018072         R.1      2021-01-10              Ghana   \n",
       "3   EPI_ISL_729972       B.1.1      2020-07-07            Nigeria   \n",
       "4  EPI_ISL_1700676     B.1.351      2021-01-12  Equatorial Guinea   \n",
       "\n",
       "  Submission date  \n",
       "0      2021-04-17  \n",
       "1      2021-03-05  \n",
       "2      2021-02-12  \n",
       "3      2020-12-23  \n",
       "4      2021-04-23  "
      ]
     },
     "execution_count": 3,
     "metadata": {},
     "output_type": "execute_result"
    }
   ],
   "source": [
    "# Read metadata\n",
    "metadata_df = extract_metadata(raw_data_dir)\n",
    "metadata_df.head()"
   ]
  },
  {
   "cell_type": "code",
   "execution_count": 4,
   "metadata": {},
   "outputs": [],
   "source": [
    "metadata_df = clean_collection_dates(metadata_df)"
   ]
  },
  {
   "cell_type": "code",
   "execution_count": 5,
   "metadata": {},
   "outputs": [
    {
     "data": {
      "text/html": [
       "<div>\n",
       "<style scoped>\n",
       "    .dataframe tbody tr th:only-of-type {\n",
       "        vertical-align: middle;\n",
       "    }\n",
       "\n",
       "    .dataframe tbody tr th {\n",
       "        vertical-align: top;\n",
       "    }\n",
       "\n",
       "    .dataframe thead th {\n",
       "        text-align: right;\n",
       "    }\n",
       "</style>\n",
       "<table border=\"1\" class=\"dataframe\">\n",
       "  <thead>\n",
       "    <tr style=\"text-align: right;\">\n",
       "      <th></th>\n",
       "      <th>Accession ID</th>\n",
       "      <th>sequence</th>\n",
       "    </tr>\n",
       "  </thead>\n",
       "  <tbody>\n",
       "    <tr>\n",
       "      <th>0</th>\n",
       "      <td>EPI_ISL_16648364</td>\n",
       "      <td>CAACCAACTTTCGATCTCTTGTAGATCTGTTCTCTAAACGAACTTT...</td>\n",
       "    </tr>\n",
       "    <tr>\n",
       "      <th>1</th>\n",
       "      <td>EPI_ISL_16698997</td>\n",
       "      <td>AGGTTTATACCTTCCCAGGTAACAAACCAACCAACTTTCGATCTCT...</td>\n",
       "    </tr>\n",
       "    <tr>\n",
       "      <th>2</th>\n",
       "      <td>EPI_ISL_16698995</td>\n",
       "      <td>ACTTTCGATCTCTTGTAGATCTGTTCTCTAAACGAACTTTAAAATC...</td>\n",
       "    </tr>\n",
       "    <tr>\n",
       "      <th>3</th>\n",
       "      <td>EPI_ISL_16698994</td>\n",
       "      <td>ACTTTCGATCTCTTGTAGATCTGTTCTCTAAACGAACTTTAAAATC...</td>\n",
       "    </tr>\n",
       "    <tr>\n",
       "      <th>4</th>\n",
       "      <td>EPI_ISL_16698989</td>\n",
       "      <td>ACTTTCGATCTCTTGTAGATCTGTTCTCTAAACGAACTTTAAAATC...</td>\n",
       "    </tr>\n",
       "  </tbody>\n",
       "</table>\n",
       "</div>"
      ],
      "text/plain": [
       "       Accession ID                                           sequence\n",
       "0  EPI_ISL_16648364  CAACCAACTTTCGATCTCTTGTAGATCTGTTCTCTAAACGAACTTT...\n",
       "1  EPI_ISL_16698997  AGGTTTATACCTTCCCAGGTAACAAACCAACCAACTTTCGATCTCT...\n",
       "2  EPI_ISL_16698995  ACTTTCGATCTCTTGTAGATCTGTTCTCTAAACGAACTTTAAAATC...\n",
       "3  EPI_ISL_16698994  ACTTTCGATCTCTTGTAGATCTGTTCTCTAAACGAACTTTAAAATC...\n",
       "4  EPI_ISL_16698989  ACTTTCGATCTCTTGTAGATCTGTTCTCTAAACGAACTTTAAAATC..."
      ]
     },
     "execution_count": 5,
     "metadata": {},
     "output_type": "execute_result"
    }
   ],
   "source": [
    "# Read sequences\n",
    "sequences_df = extract_sequences(raw_data_dir)\n",
    "sequences_df.head()"
   ]
  },
  {
   "cell_type": "code",
   "execution_count": 6,
   "metadata": {},
   "outputs": [],
   "source": [
    "# Clean sequences\n",
    "sequences_df = clean_sequences(sequences_df)"
   ]
  },
  {
   "cell_type": "code",
   "execution_count": 7,
   "metadata": {},
   "outputs": [],
   "source": [
    "# Merge metadata and sequences\n",
    "merged_df = merge_dfs(metadata_df, sequences_df)\n",
    "\n",
    "# Clean lineages\n",
    "merged_df = remove_consensus_call_sequences(merged_df)"
   ]
  },
  {
   "cell_type": "code",
   "execution_count": 9,
   "metadata": {},
   "outputs": [
    {
     "data": {
      "text/plain": [
       "42037"
      ]
     },
     "execution_count": 9,
     "metadata": {},
     "output_type": "execute_result"
    }
   ],
   "source": [
    "merged_df"
   ]
  },
  {
   "cell_type": "code",
   "execution_count": 12,
   "metadata": {},
   "outputs": [],
   "source": [
    "# Save the merged dataframe\n",
    "merged_df.to_parquet(os.path.join(cleaned_data_dump_dir, 'cleaned_dataset.parquet'), index=False)"
   ]
  },
  {
   "cell_type": "code",
   "execution_count": 13,
   "metadata": {},
   "outputs": [],
   "source": [
    "# Save only the lineage column\n",
    "table = pa.table(pd.DataFrame(merged_df['lineage']))\n",
    "pq.write_table(table, os.path.join(cleaned_data_dump_dir, 'flat_labels.parquet'))"
   ]
  },
  {
   "cell_type": "code",
   "execution_count": null,
   "metadata": {},
   "outputs": [],
   "source": []
  }
 ],
 "metadata": {
  "kernelspec": {
   "display_name": "dl",
   "language": "python",
   "name": "python3"
  },
  "language_info": {
   "codemirror_mode": {
    "name": "ipython",
    "version": 3
   },
   "file_extension": ".py",
   "mimetype": "text/x-python",
   "name": "python",
   "nbconvert_exporter": "python",
   "pygments_lexer": "ipython3",
   "version": "3.11.0"
  }
 },
 "nbformat": 4,
 "nbformat_minor": 2
}
