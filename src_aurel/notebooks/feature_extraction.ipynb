{
 "cells": [
  {
   "cell_type": "code",
   "execution_count": null,
   "metadata": {},
   "outputs": [],
   "source": [
    "import os\n",
    "import sys\n",
    "sys.path.append(os.path.abspath('..'))"
   ]
  },
  {
   "cell_type": "code",
   "execution_count": 1,
   "metadata": {},
   "outputs": [],
   "source": [
    "import pandas as pd\n",
    "import pyarrow as pa\n",
    "import pyarrow.parquet as pq\n",
    "from feature_extraction import ConventionalFeatures, MurugaiahFeatures\n",
    "import utils, os"
   ]
  },
  {
   "cell_type": "code",
   "execution_count": 2,
   "metadata": {},
   "outputs": [],
   "source": [
    "settings = utils.load_settings(path=\"settings_sample.json\")\n",
    "cleaned_data_dir = settings[\"cleaned_data_dir\"]\n",
    "plots_dir = settings[\"plots_dir\"]\n",
    "features_dir = settings[\"features_dir\"]"
   ]
  },
  {
   "cell_type": "code",
   "execution_count": 3,
   "metadata": {},
   "outputs": [],
   "source": [
    "df = pd.read_parquet(os.path.join(cleaned_data_dir, \"cleaned_dataset.parquet\"))"
   ]
  },
  {
   "cell_type": "code",
   "execution_count": 4,
   "metadata": {},
   "outputs": [
    {
     "data": {
      "text/html": [
       "<div>\n",
       "<style scoped>\n",
       "    .dataframe tbody tr th:only-of-type {\n",
       "        vertical-align: middle;\n",
       "    }\n",
       "\n",
       "    .dataframe tbody tr th {\n",
       "        vertical-align: top;\n",
       "    }\n",
       "\n",
       "    .dataframe thead th {\n",
       "        text-align: right;\n",
       "    }\n",
       "</style>\n",
       "<table border=\"1\" class=\"dataframe\">\n",
       "  <thead>\n",
       "    <tr style=\"text-align: right;\">\n",
       "      <th></th>\n",
       "      <th>Accession ID</th>\n",
       "      <th>lineage</th>\n",
       "      <th>col_date</th>\n",
       "      <th>country</th>\n",
       "      <th>sub_date</th>\n",
       "      <th>date</th>\n",
       "      <th>sequence</th>\n",
       "      <th>full_lineage</th>\n",
       "      <th>lineage_hierarchy</th>\n",
       "    </tr>\n",
       "  </thead>\n",
       "  <tbody>\n",
       "    <tr>\n",
       "      <th>0</th>\n",
       "      <td>EPI_ISL_1628772</td>\n",
       "      <td>B.1.1.353</td>\n",
       "      <td>2021-02-02</td>\n",
       "      <td>Reunion</td>\n",
       "      <td>2021-04-17</td>\n",
       "      <td>2021-02-02</td>\n",
       "      <td>AGATCTGTTCTCTAAACGAACTTTAAAATCTGTGTGGCTGTCACTC...</td>\n",
       "      <td>B.1.1.353</td>\n",
       "      <td>[B, B.1, B.1.1, B.1.1.353]</td>\n",
       "    </tr>\n",
       "    <tr>\n",
       "      <th>1</th>\n",
       "      <td>EPI_ISL_1166942</td>\n",
       "      <td>B.1.160.18</td>\n",
       "      <td>2021-01-18</td>\n",
       "      <td>Mayotte</td>\n",
       "      <td>2021-03-05</td>\n",
       "      <td>2021-01-18</td>\n",
       "      <td>AGATCTGTTCTCTAAACGAACTTTAAAATCTGTGTGGCTGTCACTC...</td>\n",
       "      <td>B.1.160.18</td>\n",
       "      <td>[B, B.1, B.1.160, B.1.160.18]</td>\n",
       "    </tr>\n",
       "    <tr>\n",
       "      <th>2</th>\n",
       "      <td>EPI_ISL_1018072</td>\n",
       "      <td>R.1</td>\n",
       "      <td>2021-01-10</td>\n",
       "      <td>Ghana</td>\n",
       "      <td>2021-02-12</td>\n",
       "      <td>2021-01-10</td>\n",
       "      <td>ATTAAAGGTTTATACCTTCCCAGGTAACAAACCAACCAACTTTCGA...</td>\n",
       "      <td>B.1.1.316.1</td>\n",
       "      <td>[B, B.1, B.1.1, B.1.1.316, B.1.1.316.1]</td>\n",
       "    </tr>\n",
       "    <tr>\n",
       "      <th>3</th>\n",
       "      <td>EPI_ISL_729972</td>\n",
       "      <td>B.1.1</td>\n",
       "      <td>2020-07-07</td>\n",
       "      <td>Nigeria</td>\n",
       "      <td>2020-12-23</td>\n",
       "      <td>2020-07-07</td>\n",
       "      <td>ATTAAAGGTTTATACCTTCCCAGGTAACAAACCAACCAACTTTCGA...</td>\n",
       "      <td>B.1.1</td>\n",
       "      <td>[B, B.1, B.1.1]</td>\n",
       "    </tr>\n",
       "    <tr>\n",
       "      <th>4</th>\n",
       "      <td>EPI_ISL_1700676</td>\n",
       "      <td>B.1.351</td>\n",
       "      <td>2021-01-12</td>\n",
       "      <td>Equatorial Guinea</td>\n",
       "      <td>2021-04-23</td>\n",
       "      <td>2021-01-12</td>\n",
       "      <td>AGATCTGTTCTCTAAACGAACTTTAAAATCTGTGTGGCTGTCACTC...</td>\n",
       "      <td>B.1.351</td>\n",
       "      <td>[B, B.1, B.1.351]</td>\n",
       "    </tr>\n",
       "    <tr>\n",
       "      <th>...</th>\n",
       "      <td>...</td>\n",
       "      <td>...</td>\n",
       "      <td>...</td>\n",
       "      <td>...</td>\n",
       "      <td>...</td>\n",
       "      <td>...</td>\n",
       "      <td>...</td>\n",
       "      <td>...</td>\n",
       "      <td>...</td>\n",
       "    </tr>\n",
       "    <tr>\n",
       "      <th>40557</th>\n",
       "      <td>EPI_ISL_15755653</td>\n",
       "      <td>B.1.351</td>\n",
       "      <td>2020-12-28</td>\n",
       "      <td>South Africa</td>\n",
       "      <td>2022-11-13</td>\n",
       "      <td>2020-12-28</td>\n",
       "      <td>TTGTAGATCTGTTCTCTAAACGAACTTTAAAATCTGTGTGGCTGTC...</td>\n",
       "      <td>B.1.351</td>\n",
       "      <td>[B, B.1, B.1.351]</td>\n",
       "    </tr>\n",
       "    <tr>\n",
       "      <th>40558</th>\n",
       "      <td>EPI_ISL_15722311</td>\n",
       "      <td>BA.5.11</td>\n",
       "      <td>2022-10-17</td>\n",
       "      <td>South Africa</td>\n",
       "      <td>2022-11-09</td>\n",
       "      <td>2022-10-17</td>\n",
       "      <td>TTGTAGATCTGTTCTCTAAACGAACTAGGTTCGCGACGTGCTCGTA...</td>\n",
       "      <td>B.1.1.529.5.11</td>\n",
       "      <td>[B, B.1, B.1.1, B.1.1.529, B.1.1.529.5, B.1.1....</td>\n",
       "    </tr>\n",
       "    <tr>\n",
       "      <th>40559</th>\n",
       "      <td>EPI_ISL_15722308</td>\n",
       "      <td>BA.5.11</td>\n",
       "      <td>2022-10-25</td>\n",
       "      <td>South Africa</td>\n",
       "      <td>2022-11-09</td>\n",
       "      <td>2022-10-25</td>\n",
       "      <td>TTGTAGATCTGTTCTCTAAACGAACTTTAAAATCTGTGTGGCTGTC...</td>\n",
       "      <td>B.1.1.529.5.11</td>\n",
       "      <td>[B, B.1, B.1.1, B.1.1.529, B.1.1.529.5, B.1.1....</td>\n",
       "    </tr>\n",
       "    <tr>\n",
       "      <th>40560</th>\n",
       "      <td>EPI_ISL_15722305</td>\n",
       "      <td>BA.5.11</td>\n",
       "      <td>2022-10-26</td>\n",
       "      <td>South Africa</td>\n",
       "      <td>2022-11-09</td>\n",
       "      <td>2022-10-26</td>\n",
       "      <td>TTGTAGATCTGTTCTCTAAACGAACTTTAAAATCTGTGTGGCTGTC...</td>\n",
       "      <td>B.1.1.529.5.11</td>\n",
       "      <td>[B, B.1, B.1.1, B.1.1.529, B.1.1.529.5, B.1.1....</td>\n",
       "    </tr>\n",
       "    <tr>\n",
       "      <th>40561</th>\n",
       "      <td>EPI_ISL_15832755</td>\n",
       "      <td>BA.1.18</td>\n",
       "      <td>2022-01-30</td>\n",
       "      <td>Botswana</td>\n",
       "      <td>2022-11-20</td>\n",
       "      <td>2022-01-30</td>\n",
       "      <td>AGATCTGTTCTCTAAACGAACTTTAAAATCTGTGTGGCTGTCACTC...</td>\n",
       "      <td>B.1.1.529.1.18</td>\n",
       "      <td>[B, B.1, B.1.1, B.1.1.529, B.1.1.529.1, B.1.1....</td>\n",
       "    </tr>\n",
       "  </tbody>\n",
       "</table>\n",
       "<p>40562 rows × 9 columns</p>\n",
       "</div>"
      ],
      "text/plain": [
       "           Accession ID     lineage   col_date            country    sub_date  \\\n",
       "0       EPI_ISL_1628772   B.1.1.353 2021-02-02            Reunion  2021-04-17   \n",
       "1       EPI_ISL_1166942  B.1.160.18 2021-01-18            Mayotte  2021-03-05   \n",
       "2       EPI_ISL_1018072         R.1 2021-01-10              Ghana  2021-02-12   \n",
       "3        EPI_ISL_729972       B.1.1 2020-07-07            Nigeria  2020-12-23   \n",
       "4       EPI_ISL_1700676     B.1.351 2021-01-12  Equatorial Guinea  2021-04-23   \n",
       "...                 ...         ...        ...                ...         ...   \n",
       "40557  EPI_ISL_15755653     B.1.351 2020-12-28       South Africa  2022-11-13   \n",
       "40558  EPI_ISL_15722311     BA.5.11 2022-10-17       South Africa  2022-11-09   \n",
       "40559  EPI_ISL_15722308     BA.5.11 2022-10-25       South Africa  2022-11-09   \n",
       "40560  EPI_ISL_15722305     BA.5.11 2022-10-26       South Africa  2022-11-09   \n",
       "40561  EPI_ISL_15832755     BA.1.18 2022-01-30           Botswana  2022-11-20   \n",
       "\n",
       "            date                                           sequence  \\\n",
       "0     2021-02-02  AGATCTGTTCTCTAAACGAACTTTAAAATCTGTGTGGCTGTCACTC...   \n",
       "1     2021-01-18  AGATCTGTTCTCTAAACGAACTTTAAAATCTGTGTGGCTGTCACTC...   \n",
       "2     2021-01-10  ATTAAAGGTTTATACCTTCCCAGGTAACAAACCAACCAACTTTCGA...   \n",
       "3     2020-07-07  ATTAAAGGTTTATACCTTCCCAGGTAACAAACCAACCAACTTTCGA...   \n",
       "4     2021-01-12  AGATCTGTTCTCTAAACGAACTTTAAAATCTGTGTGGCTGTCACTC...   \n",
       "...          ...                                                ...   \n",
       "40557 2020-12-28  TTGTAGATCTGTTCTCTAAACGAACTTTAAAATCTGTGTGGCTGTC...   \n",
       "40558 2022-10-17  TTGTAGATCTGTTCTCTAAACGAACTAGGTTCGCGACGTGCTCGTA...   \n",
       "40559 2022-10-25  TTGTAGATCTGTTCTCTAAACGAACTTTAAAATCTGTGTGGCTGTC...   \n",
       "40560 2022-10-26  TTGTAGATCTGTTCTCTAAACGAACTTTAAAATCTGTGTGGCTGTC...   \n",
       "40561 2022-01-30  AGATCTGTTCTCTAAACGAACTTTAAAATCTGTGTGGCTGTCACTC...   \n",
       "\n",
       "         full_lineage                                  lineage_hierarchy  \n",
       "0           B.1.1.353                         [B, B.1, B.1.1, B.1.1.353]  \n",
       "1          B.1.160.18                      [B, B.1, B.1.160, B.1.160.18]  \n",
       "2         B.1.1.316.1            [B, B.1, B.1.1, B.1.1.316, B.1.1.316.1]  \n",
       "3               B.1.1                                    [B, B.1, B.1.1]  \n",
       "4             B.1.351                                  [B, B.1, B.1.351]  \n",
       "...               ...                                                ...  \n",
       "40557         B.1.351                                  [B, B.1, B.1.351]  \n",
       "40558  B.1.1.529.5.11  [B, B.1, B.1.1, B.1.1.529, B.1.1.529.5, B.1.1....  \n",
       "40559  B.1.1.529.5.11  [B, B.1, B.1.1, B.1.1.529, B.1.1.529.5, B.1.1....  \n",
       "40560  B.1.1.529.5.11  [B, B.1, B.1.1, B.1.1.529, B.1.1.529.5, B.1.1....  \n",
       "40561  B.1.1.529.1.18  [B, B.1, B.1.1, B.1.1.529, B.1.1.529.1, B.1.1....  \n",
       "\n",
       "[40562 rows x 9 columns]"
      ]
     },
     "execution_count": 4,
     "metadata": {},
     "output_type": "execute_result"
    }
   ],
   "source": [
    "df"
   ]
  },
  {
   "cell_type": "markdown",
   "metadata": {},
   "source": [
    "# k-mer counting"
   ]
  },
  {
   "cell_type": "code",
   "execution_count": 11,
   "metadata": {},
   "outputs": [
    {
     "name": "stderr",
     "output_type": "stream",
     "text": [
      "Processing sequences: 100%|██████████| 42037/42037 [00:00<00:00, 369269.73it/s]\n"
     ]
    }
   ],
   "source": [
    "kmer_features_6 = ConventionalFeatures().extract_kmers_features_(df['sequence'], k=2, normalize=False)"
   ]
  },
  {
   "cell_type": "code",
   "execution_count": null,
   "metadata": {},
   "outputs": [],
   "source": [
    "table = pa.table(pd.DataFrame(kmer_features_6))\n",
    "pq.write_table(table, os.path.join(features_dir, \"kmer_features_6.parquet\"))"
   ]
  },
  {
   "cell_type": "code",
   "execution_count": null,
   "metadata": {},
   "outputs": [],
   "source": [
    "kmer_features_5 = ConventionalFeatures().extract_kmers_features(df['sequence'], k=5, normalize=False)"
   ]
  },
  {
   "cell_type": "code",
   "execution_count": null,
   "metadata": {},
   "outputs": [],
   "source": [
    "table = pa.table(pd.DataFrame(kmer_features_5))\n",
    "pq.write_table(table, os.path.join(features_dir, \"kmer_features_5.parquet\"))"
   ]
  },
  {
   "cell_type": "markdown",
   "metadata": {},
   "source": [
    "# Frequency Chaos Game Representation"
   ]
  },
  {
   "cell_type": "code",
   "execution_count": null,
   "metadata": {},
   "outputs": [],
   "source": [
    "fcgr_features = ConventionalFeatures().extract_fcgr_features(df['sequence'], resolution=128)"
   ]
  },
  {
   "cell_type": "code",
   "execution_count": null,
   "metadata": {},
   "outputs": [],
   "source": [
    "table = pa.table(pd.DataFrame(fcgr_features.reshape((42037, -1))))\n",
    "pq.write_table(table, os.path.join(features_dir, \"fcgr_features.parquet\"))"
   ]
  },
  {
   "cell_type": "markdown",
   "metadata": {},
   "source": [
    "# Murugaiah and Ganesan Features"
   ]
  },
  {
   "cell_type": "code",
   "execution_count": 5,
   "metadata": {},
   "outputs": [],
   "source": [
    "murugaiah_features = MurugaiahFeatures().extract_features(df['sequence'])"
   ]
  },
  {
   "cell_type": "code",
   "execution_count": 6,
   "metadata": {},
   "outputs": [],
   "source": [
    "table = pa.table(pd.DataFrame(murugaiah_features))\n",
    "pq.write_table(table, os.path.join(features_dir, \"murugaiah_features.parquet\"))"
   ]
  },
  {
   "cell_type": "code",
   "execution_count": null,
   "metadata": {},
   "outputs": [],
   "source": []
  }
 ],
 "metadata": {
  "kernelspec": {
   "display_name": "dl",
   "language": "python",
   "name": "python3"
  },
  "language_info": {
   "codemirror_mode": {
    "name": "ipython",
    "version": 3
   },
   "file_extension": ".py",
   "mimetype": "text/x-python",
   "name": "python",
   "nbconvert_exporter": "python",
   "pygments_lexer": "ipython3",
   "version": "3.1.-1"
  }
 },
 "nbformat": 4,
 "nbformat_minor": 2
}
