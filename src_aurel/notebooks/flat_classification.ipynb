{
 "cells": [
  {
   "cell_type": "code",
   "execution_count": null,
   "metadata": {},
   "outputs": [],
   "source": [
    "import os\n",
    "import sys\n",
    "sys.path.append(os.path.abspath('..'))"
   ]
  },
  {
   "cell_type": "code",
   "execution_count": 3,
   "metadata": {},
   "outputs": [],
   "source": [
    "from finetune_flat_classifiers import * \n",
    "from sklearn.preprocessing import LabelEncoder\n",
    "import pyarrow.parquet as pq\n",
    "import utils, os"
   ]
  },
  {
   "cell_type": "code",
   "execution_count": 7,
   "metadata": {},
   "outputs": [],
   "source": [
    "settings = utils.load_settings(path=\"settings_sample.json\")\n",
    "features_dir = settings[\"features_dir\"]\n",
    "cleaned_data_dir = settings[\"cleaned_data_dir\"]\n",
    "reports_dir = settings[\"reports_dir\"]\n",
    "trials = settings[\"optuna_trials\"]\n",
    "trials = 1"
   ]
  },
  {
   "cell_type": "code",
   "execution_count": 3,
   "metadata": {},
   "outputs": [],
   "source": [
    "X_table = pq.read_table(os.path.join(features_dir, \"murugaiah_features.parquet\"))\n",
    "X_murugaiah = X_table.to_pandas().to_numpy()\n",
    "\n",
    "X_table = pq.read_table(os.path.join(features_dir, \"kmer_features_6.parquet\"))\n",
    "X_kmer_6 = X_table.to_pandas().to_numpy()\n",
    "\n",
    "X_table = pq.read_table(os.path.join(features_dir, \"kmer_features_5.parquet\"))\n",
    "X_kmer_5 = X_table.to_pandas().to_numpy()\n",
    "\n",
    "X_table = pq.read_table(os.path.join(features_dir, \"fcgr_features.parquet\"))\n",
    "X_fcgr = X_table.to_pandas().to_numpy()"
   ]
  },
  {
   "cell_type": "code",
   "execution_count": 4,
   "metadata": {},
   "outputs": [],
   "source": [
    "features_dict = {\n",
    "    \"murugaiah\": X_murugaiah,\n",
    "    # \"kmer_6\": X_kmer_6,\n",
    "    # \"kmer_5\": X_kmer_5,\n",
    "    # \"fcgr\": X_fcgr\n",
    "}"
   ]
  },
  {
   "cell_type": "code",
   "execution_count": 8,
   "metadata": {},
   "outputs": [],
   "source": [
    "y_table = pq.read_table(os.path.join(cleaned_data_dir, \"flat_labels.parquet\"))\n",
    "y = y_table.to_pandas().to_numpy()\n",
    "\n",
    "le = LabelEncoder()\n",
    "y = le.fit_transform(y.flatten())"
   ]
  },
  {
   "cell_type": "code",
   "execution_count": 22,
   "metadata": {},
   "outputs": [
    {
     "name": "stdout",
     "output_type": "stream",
     "text": [
      "42037 samples from 580 classes in the dataset.\n",
      "287 classes have at least 5 instances.\n",
      "41510 instances are in these classes.\n"
     ]
    }
   ],
   "source": [
    "import numpy as np\n",
    "n_splits = 5\n",
    "\n",
    "classes, class_counts = np.unique(y, return_counts=True)\n",
    "\n",
    "valid_classes = classes[class_counts >= n_splits]\n",
    "valid_indices = np.isin(y, valid_classes)\n",
    "\n",
    "print(f\"{len(y)} samples from {len(classes)} classes in the dataset.\")\n",
    "print(f\"{len(valid_classes)} classes have at least {n_splits} instances.\")\n",
    "print(f\"{len(y[valid_indices])} instances are in these classes.\")"
   ]
  },
  {
   "cell_type": "code",
   "execution_count": null,
   "metadata": {},
   "outputs": [],
   "source": [
    "X_train, X_test, y_train, y_test = train_test_split(X_murugaiah, y, test_size=0.2, random_state=42)\n",
    "    \n",
    "xgb = XGBClassifier(\n",
    "    learning_rate=0.1,\n",
    "    n_estimators=10,\n",
    "    max_depth=20,\n",
    "    subsample=0.8,\n",
    "    colsample_bytree=0.8,\n",
    "    gamma=0,\n",
    "    min_child_weight=1,\n",
    "    objective='multi:softmax',\n",
    "    random_state=42,\n",
    "    verbosity=3,\n",
    "    n_jobs=-1,\n",
    ")\n",
    "\n",
    "xgb.fit(X_train, y_train, eval_set=[(X_test, y_test)], early_stopping_rounds=10)"
   ]
  },
  {
   "cell_type": "markdown",
   "metadata": {},
   "source": [
    "## Random Forest"
   ]
  },
  {
   "cell_type": "code",
   "execution_count": null,
   "metadata": {},
   "outputs": [],
   "source": [
    "for name, features in features_dict.items():\n",
    "    finetune_rf(features, y, name, n_trials=trials, reports_dir=reports_dir)"
   ]
  },
  {
   "cell_type": "markdown",
   "metadata": {},
   "source": [
    "## XGBoost"
   ]
  },
  {
   "cell_type": "code",
   "execution_count": null,
   "metadata": {},
   "outputs": [],
   "source": [
    "for name, features in features_dict.items():\n",
    "    finetune_xgb(features, y, name, n_trials=trials, reports_dir=reports_dir)"
   ]
  },
  {
   "cell_type": "markdown",
   "metadata": {},
   "source": [
    "## LightGBM"
   ]
  },
  {
   "cell_type": "code",
   "execution_count": null,
   "metadata": {},
   "outputs": [],
   "source": [
    "for name, features in features_dict.items():\n",
    "    finetune_lgbm(features, y, name, n_trials=trials, reports_dir=reports_dir)"
   ]
  },
  {
   "cell_type": "markdown",
   "metadata": {},
   "source": [
    "## CatBoost"
   ]
  },
  {
   "cell_type": "code",
   "execution_count": null,
   "metadata": {},
   "outputs": [],
   "source": [
    "for name, features in features_dict.items():\n",
    "    finetune_cb(features, y, name, n_trials=trials, reports_dir=reports_dir)"
   ]
  },
  {
   "cell_type": "code",
   "execution_count": null,
   "metadata": {},
   "outputs": [],
   "source": []
  }
 ],
 "metadata": {
  "kernelspec": {
   "display_name": "dl",
   "language": "python",
   "name": "python3"
  },
  "language_info": {
   "codemirror_mode": {
    "name": "ipython",
    "version": 3
   },
   "file_extension": ".py",
   "mimetype": "text/x-python",
   "name": "python",
   "nbconvert_exporter": "python",
   "pygments_lexer": "ipython3",
   "version": "3.11.0"
  }
 },
 "nbformat": 4,
 "nbformat_minor": 2
}
