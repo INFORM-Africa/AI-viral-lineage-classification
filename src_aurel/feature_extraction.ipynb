{
 "cells": [
  {
   "cell_type": "code",
   "execution_count": 1,
   "metadata": {},
   "outputs": [],
   "source": [
    "import pandas as pd\n",
    "import pyarrow as pa\n",
    "import pyarrow.parquet as pq\n",
    "from feature_extraction import ConventionalFeatures, MurugaiahFeatures\n",
    "import utils, os\n",
    "\n",
    "%config InlineBackend.figure_format = 'svg'"
   ]
  },
  {
   "cell_type": "code",
   "execution_count": 2,
   "metadata": {},
   "outputs": [],
   "source": [
    "settings = utils.load_settings()\n",
    "cleaned_data_dir = settings[\"cleaned_data_dir\"]\n",
    "plots_dir = settings[\"plots_dir\"]\n",
    "features_dir = settings[\"features_dir\"]"
   ]
  },
  {
   "cell_type": "code",
   "execution_count": 3,
   "metadata": {},
   "outputs": [],
   "source": [
    "df = pd.read_parquet(os.path.join(cleaned_data_dir, \"cleaned_dataset.parquet\"))"
   ]
  },
  {
   "cell_type": "markdown",
   "metadata": {},
   "source": [
    "# k-mer counting"
   ]
  },
  {
   "cell_type": "code",
   "execution_count": 12,
   "metadata": {},
   "outputs": [
    {
     "name": "stdout",
     "output_type": "stream",
     "text": [
      "(1000, 4096)\n"
     ]
    }
   ],
   "source": [
    "kmer_features_6 = ConventionalFeatures().extract_kmers_features(df['sequence'], k=6, normalize=False)\n",
    "print(kmer_features_6.shape)"
   ]
  },
  {
   "cell_type": "code",
   "execution_count": 10,
   "metadata": {},
   "outputs": [],
   "source": [
    "table = pa.table(pd.DataFrame(kmer_features_6))\n",
    "pq.write_table(table, os.path.join(features_dir, \"kmer_features_6.parquet\"))"
   ]
  },
  {
   "cell_type": "code",
   "execution_count": 11,
   "metadata": {},
   "outputs": [
    {
     "name": "stdout",
     "output_type": "stream",
     "text": [
      "(43167, 1024)\n"
     ]
    }
   ],
   "source": [
    "kmer_features_5 = ConventionalFeatures().extract_kmers_features(df['sequence'], k=5, normalize=False)\n",
    "print(kmer_features_5.shape)"
   ]
  },
  {
   "cell_type": "code",
   "execution_count": 12,
   "metadata": {},
   "outputs": [],
   "source": [
    "table = pa.table(pd.DataFrame(kmer_features_5))\n",
    "pq.write_table(table, os.path.join(features_dir, \"kmer_features_5.parquet\"))"
   ]
  },
  {
   "cell_type": "markdown",
   "metadata": {},
   "source": [
    "# Frequency Chaos Game Representation"
   ]
  },
  {
   "cell_type": "code",
   "execution_count": 4,
   "metadata": {},
   "outputs": [
    {
     "name": "stdout",
     "output_type": "stream",
     "text": [
      "(1000, 128, 128)\n"
     ]
    }
   ],
   "source": [
    "fcgr_features = ConventionalFeatures().extract_fcgr_features(df['sequence'], resolution=128)\n",
    "print(fcgr_features.shape)"
   ]
  },
  {
   "cell_type": "code",
   "execution_count": null,
   "metadata": {},
   "outputs": [],
   "source": [
    "table = pa.table(pd.DataFrame(fcgr_features))\n",
    "pq.write_table(table, os.path.join(features_dir, \"fcgr_features.parquet\"))"
   ]
  },
  {
   "cell_type": "markdown",
   "metadata": {},
   "source": [
    "# Murugaiah and Ganesan Features"
   ]
  },
  {
   "cell_type": "code",
   "execution_count": 11,
   "metadata": {},
   "outputs": [],
   "source": [
    "murugaiah_features = MurugaiahFeatures().extract(df['sequence'])"
   ]
  },
  {
   "cell_type": "code",
   "execution_count": 23,
   "metadata": {},
   "outputs": [],
   "source": [
    "table = pa.table(pd.DataFrame(murugaiah_features))\n",
    "pq.write_table(table, os.path.join(features_dir, \"murugaiah_features.parquet\"))"
   ]
  },
  {
   "cell_type": "code",
   "execution_count": null,
   "metadata": {},
   "outputs": [],
   "source": []
  }
 ],
 "metadata": {
  "kernelspec": {
   "display_name": "dl",
   "language": "python",
   "name": "python3"
  },
  "language_info": {
   "codemirror_mode": {
    "name": "ipython",
    "version": 3
   },
   "file_extension": ".py",
   "mimetype": "text/x-python",
   "name": "python",
   "nbconvert_exporter": "python",
   "pygments_lexer": "ipython3",
   "version": "3.11.0"
  }
 },
 "nbformat": 4,
 "nbformat_minor": 2
}
